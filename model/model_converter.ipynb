{
 "cells": [
  {
   "cell_type": "code",
   "execution_count": 23,
   "metadata": {},
   "outputs": [],
   "source": [
    "import tf2onnx\n",
    "import tensorflow as tf\n",
    "import onnx\n",
    "import scipy.sparse.linalg"
   ]
  },
  {
   "cell_type": "code",
   "execution_count": 24,
   "metadata": {},
   "outputs": [],
   "source": [
    "# Path to the SavedModel directory\n",
    "saved_model_path = \"models/lstm_eth_model.keras\"\n",
    "# Load the model\n",
    "model = tf.keras.models.load_model(saved_model_path)"
   ]
  },
  {
   "cell_type": "code",
   "execution_count": 26,
   "metadata": {},
   "outputs": [
    {
     "name": "stderr",
     "output_type": "stream",
     "text": [
      "WARNING: All log messages before absl::InitializeLog() is called are written to STDERR\n",
      "I0000 00:00:1738541030.287093 5255882 devices.cc:76] Number of eligible GPUs (core count >= 8, compute capability >= 0.0): 0 (Note: TensorFlow was not compiled with CUDA or ROCm support)\n",
      "WARNING: All log messages before absl::InitializeLog() is called are written to STDERR\n",
      "I0000 00:00:1738541030.287228 5255882 single_machine.cc:361] Starting new session\n",
      "I0000 00:00:1738541030.452417 5255882 devices.cc:76] Number of eligible GPUs (core count >= 8, compute capability >= 0.0): 0 (Note: TensorFlow was not compiled with CUDA or ROCm support)\n",
      "I0000 00:00:1738541030.452480 5255882 single_machine.cc:361] Starting new session\n",
      "I0000 00:00:1738541030.549576 5255882 mlir_graph_optimization_pass.cc:401] MLIR V1 optimization pass is not enabled\n"
     ]
    }
   ],
   "source": [
    "# Convert Sequential model to Functional model\n",
    "inputs = tf.keras.Input(shape=model.input_shape[1:], name=\"input_layer\")\n",
    "outputs = model(inputs)\n",
    "functional_model = tf.keras.Model(inputs, outputs, name=\"functional_model\")\n",
    "\n",
    "# Define explicit input signature\n",
    "input_signature = [tf.TensorSpec([None] + list(functional_model.input_shape[1:]), tf.float32, name=\"input\")]\n",
    "\n",
    "# Convert to ONNX\n",
    "onnx_model, _ = tf2onnx.convert.from_keras(functional_model, opset=13, input_signature=input_signature)\n"
   ]
  },
  {
   "cell_type": "code",
   "execution_count": 27,
   "metadata": {},
   "outputs": [],
   "source": [
    "onnx.save(onnx_model, \"models/model.onnx\")"
   ]
  },
  {
   "cell_type": "markdown",
   "metadata": {},
   "source": [
    "### IMPORTANT: Check this! If the input name is different in the ModelInvoker.cs, there will be an issue"
   ]
  },
  {
   "cell_type": "code",
   "execution_count": 29,
   "metadata": {},
   "outputs": [
    {
     "name": "stdout",
     "output_type": "stream",
     "text": [
      "Input Name: input\n"
     ]
    }
   ],
   "source": [
    "# Print model inputs\n",
    "for input in onnx_model.graph.input:\n",
    "    print(f\"Input Name: {input.name}\")\n"
   ]
  }
 ],
 "metadata": {
  "kernelspec": {
   "display_name": "Python 3",
   "language": "python",
   "name": "python3"
  },
  "language_info": {
   "codemirror_mode": {
    "name": "ipython",
    "version": 3
   },
   "file_extension": ".py",
   "mimetype": "text/x-python",
   "name": "python",
   "nbconvert_exporter": "python",
   "pygments_lexer": "ipython3",
   "version": "3.12.7"
  }
 },
 "nbformat": 4,
 "nbformat_minor": 2
}
