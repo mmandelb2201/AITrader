{
 "cells": [
  {
   "cell_type": "code",
   "execution_count": 2,
   "metadata": {},
   "outputs": [],
   "source": [
    "import pandas as pd"
   ]
  },
  {
   "cell_type": "code",
   "execution_count": 7,
   "metadata": {},
   "outputs": [
    {
     "name": "stdout",
     "output_type": "stream",
     "text": [
      "Average Percentage Drop: 2.60%\n"
     ]
    }
   ],
   "source": [
    "def calculate_avg_percentage_drop(prices, window_size=5):\n",
    "    \"\"\"\n",
    "    Calculate the average percentage drop over a given time window.\n",
    "    \n",
    "    :param prices: List of historical prices.\n",
    "    :param window_size: Number of steps in the window (default is 5).\n",
    "    :return: Average percentage drop.\n",
    "    \"\"\"\n",
    "    if len(prices) < window_size:\n",
    "        raise ValueError(\"Price list is shorter than the window size.\")\n",
    "    \n",
    "    percentage_drops = []\n",
    "\n",
    "    # Slide through the prices with the given window size\n",
    "    for i in range(len(prices) - window_size + 1):\n",
    "        window = prices[i:i + window_size]\n",
    "        highest_price = max(window)\n",
    "        lowest_price = min(window)\n",
    "        \n",
    "        # Calculate percentage drop in the window\n",
    "        if highest_price > 0:  # Prevent division by zero\n",
    "            drop = ((highest_price - lowest_price) / highest_price) * 100\n",
    "            percentage_drops.append(drop)\n",
    "\n",
    "    # Calculate the average percentage drop\n",
    "    avg_drop = sum(percentage_drops) / len(percentage_drops) if percentage_drops else 0\n",
    "    return avg_drop"
   ]
  },
  {
   "cell_type": "code",
   "execution_count": 9,
   "metadata": {},
   "outputs": [
    {
     "name": "stdout",
     "output_type": "stream",
     "text": [
      "Average Percentage Drop: 0.09%\n"
     ]
    }
   ],
   "source": [
    "df = pd.read_csv('model_data.csv')\n",
    "prices = list(df['price'])\n",
    "average_drop = calculate_avg_percentage_drop(prices)\n",
    "print(f\"Average Percentage Drop: {average_drop:.2f}%\")"
   ]
  }
 ],
 "metadata": {
  "kernelspec": {
   "display_name": "Python 3",
   "language": "python",
   "name": "python3"
  },
  "language_info": {
   "codemirror_mode": {
    "name": "ipython",
    "version": 3
   },
   "file_extension": ".py",
   "mimetype": "text/x-python",
   "name": "python",
   "nbconvert_exporter": "python",
   "pygments_lexer": "ipython3",
   "version": "3.13.1"
  }
 },
 "nbformat": 4,
 "nbformat_minor": 2
}
