{
 "cells": [
  {
   "cell_type": "markdown",
   "id": "868f1e69",
   "metadata": {},
   "source": [
    "\n",
    "# Crypto LSTM with Asset Embeddings (TensorFlow)\n",
    "\n",
    "This notebook builds a full pipeline to train a stacked LSTM with **asset embeddings** on your wide table of hourly data:\n",
    "- `time`\n",
    "- `<ASSET>_price` and `<ASSET>_volume` for each asset (e.g., `BTC_price`, `BTC_volume`, ...)\n",
    "\n",
    "You can drop your wide DataFrame in as `df_wide` and run end-to-end.\n",
    "\n",
    "> Generated: 2025-09-03T02:56:41Z\n"
   ]
  },
  {
   "cell_type": "code",
   "execution_count": 71,
   "id": "fcdd61ba",
   "metadata": {},
   "outputs": [
    {
     "name": "stdout",
     "output_type": "stream",
     "text": [
      "TF version: 2.18.0\n"
     ]
    }
   ],
   "source": [
    "\n",
    "# --- Setup & Config ---\n",
    "import numpy as np\n",
    "import pandas as pd\n",
    "from typing import List, Dict\n",
    "from pathlib import Path\n",
    "\n",
    "import json\n",
    "import matplotlib.pyplot as plt\n",
    "\n",
    "import tensorflow as tf\n",
    "from tensorflow.keras.callbacks import ModelCheckpoint, EarlyStopping\n",
    "from tensorflow.keras.models import Sequential, Model\n",
    "from tensorflow.keras.layers import Dense, LSTM, Input, concatenate, Embedding, Reshape, BatchNormalization\n",
    "import tensorflow.keras.backend as K\n",
    "from tensorflow.keras.saving import save_model\n",
    "from config import LOOKBACK_L, HORIZON_H, TEST_SAMPLES, FEATURES, TARGET, ASSUME_TZ\n",
    "\n",
    "print(\"TF version:\", tf.__version__)"
   ]
  },
  {
   "cell_type": "code",
   "execution_count": 72,
   "id": "bcb08f46",
   "metadata": {},
   "outputs": [
    {
     "name": "stdout",
     "output_type": "stream",
     "text": [
      "\n",
      "📊 Model Configuration\n",
      "────────────────────────────\n",
      "LOOKBACK_L : 96\n",
      "HORIZON_H  : 3\n",
      "TEST_SAMPLES: 2000\n",
      "FEATURES    : ['price_pct_change', 'volume_pct_change']\n",
      "TARGET      : target_pct_chage\n",
      "ASSUME_TZ   : None\n",
      "────────────────────────────\n",
      "\n"
     ]
    }
   ],
   "source": [
    "print(f\"\"\"\n",
    "📊 Model Configuration\n",
    "────────────────────────────\n",
    "LOOKBACK_L : {LOOKBACK_L}\n",
    "HORIZON_H  : {HORIZON_H}\n",
    "TEST_SAMPLES: {TEST_SAMPLES}\n",
    "FEATURES    : {FEATURES}\n",
    "TARGET      : {TARGET}\n",
    "ASSUME_TZ   : {ASSUME_TZ}\n",
    "────────────────────────────\n",
    "\"\"\")"
   ]
  },
  {
   "cell_type": "markdown",
   "id": "501f8b17",
   "metadata": {},
   "source": [
    "\n",
    "## Load your data (`df_wide`) & drop empty assets\n",
    "\n",
    "Expected format: wide DataFrame with\n",
    "- `time`\n",
    "- `<ASSET>_price`, `<ASSET>_volume`\n",
    "\n",
    "We will **drop any asset** whose `_price` and `_volume` columns are entirely NaN **before** reshaping.\n",
    "If `df_wide` is not defined, we create a small toy dataset.\n"
   ]
  },
  {
   "cell_type": "code",
   "execution_count": 73,
   "id": "1e942c84",
   "metadata": {},
   "outputs": [],
   "source": [
    "df_wide = pd.read_csv(\"crypto_market_dataset.csv\", dtype={\"time\": \"string\"})\n",
    "\n",
    "# Best: ISO8601 parser (handles 'T', fractional seconds, and 'Z')\n",
    "df_wide[\"time\"] = pd.to_datetime(df_wide[\"time\"], format=\"ISO8601\", utc=True)\n",
    "\n",
    "# --- Normalize column names: rename *_close -> *_price ---\n",
    "rename_map = {}\n",
    "for col in df_wide.columns:\n",
    "    if col.endswith(\"_close\"):\n",
    "        asset = col.rsplit(\"_\", 1)[0]   # everything before \"_close\"\n",
    "        rename_map[col] = f\"{asset}_price\"\n",
    "\n",
    "if rename_map:\n",
    "    df_wide = df_wide.rename(columns=rename_map)\n",
    "    print(\"Renamed columns:\", rename_map)"
   ]
  },
  {
   "cell_type": "code",
   "execution_count": 74,
   "id": "5a385ed6",
   "metadata": {},
   "outputs": [],
   "source": [
    "def find_majority_window(df_wide, min_frac=0.8):\n",
    "    \"\"\"\n",
    "    Given df_wide with columns:\n",
    "        - 'time'\n",
    "        - <ASSET>_price, <ASSET>_volume\n",
    "    Returns the largest contiguous [start, end] where\n",
    "    at least `min_frac` of assets have data at each timestamp.\n",
    "    \"\"\"\n",
    "    df = df_wide.copy()\n",
    "    df['time'] = pd.to_datetime(df['time'], utc=True)\n",
    "\n",
    "    # Identify asset prefixes\n",
    "    assets = sorted({c.split(\"_\")[0] for c in df.columns if c.endswith((\"_price\",\"_volume\"))})\n",
    "\n",
    "    # Count how many assets are non-NaN at each timestamp (price only)\n",
    "    price_cols = [f\"{a}_price\" for a in assets if f\"{a}_price\" in df.columns]\n",
    "    df['available'] = df[price_cols].notna().sum(axis=1)\n",
    "\n",
    "    # Fraction of available assets at each time\n",
    "    df['coverage'] = df['available'] / len(price_cols)\n",
    "\n",
    "    # Mask where coverage >= threshold\n",
    "    mask = df['coverage'] >= min_frac\n",
    "\n",
    "    # Find contiguous runs of True\n",
    "    df['block'] = (mask != mask.shift()).cumsum()\n",
    "    runs = (\n",
    "        df.loc[mask]\n",
    "          .groupby('block')\n",
    "          .agg(start=('time','min'), end=('time','max'), length=('time','count'))\n",
    "    )\n",
    "\n",
    "    if runs.empty:\n",
    "        raise RuntimeError(\"No window satisfies coverage threshold.\")\n",
    "\n",
    "    # Pick the longest run\n",
    "    best = runs.loc[runs['length'].idxmax()]\n",
    "    return best['start'], best['end'], runs"
   ]
  },
  {
   "cell_type": "code",
   "execution_count": 76,
   "id": "d402ee49",
   "metadata": {},
   "outputs": [
    {
     "name": "stdout",
     "output_type": "stream",
     "text": [
      "Best window: 2024-03-21 12:00:00+00:00 → 2025-09-03 15:00:00+00:00 (length 12658 rows)\n"
     ]
    }
   ],
   "source": [
    "start, end, runs = find_majority_window(df_wide, min_frac=0.6)\n",
    "print(\"Best window:\", start, \"→\", end, f\"(length {runs['length'].max()} rows)\")"
   ]
  },
  {
   "cell_type": "code",
   "execution_count": 77,
   "id": "ca7d5383",
   "metadata": {},
   "outputs": [
    {
     "name": "stdout",
     "output_type": "stream",
     "text": [
      "Original shape: (92559, 55)\n",
      "Trimmed shape: (12658, 55)\n",
      "Window: 2024-03-21 12:00:00+00:00 → 2025-09-03 15:00:00+00:00\n"
     ]
    }
   ],
   "source": [
    "df_cut = df_wide[(df_wide[\"time\"] >= start) & (df_wide[\"time\"] <= end)].copy()\n",
    "\n",
    "print(\"Original shape:\", df_wide.shape)\n",
    "print(\"Trimmed shape:\", df_cut.shape)\n",
    "print(\"Window:\", start, \"→\", end)"
   ]
  },
  {
   "cell_type": "code",
   "execution_count": 78,
   "id": "277b4b90",
   "metadata": {},
   "outputs": [],
   "source": [
    "df_test_data = df_wide[(df_wide[\"time\"] < start)].copy()\n",
    "eth_data = pd.DataFrame()\n",
    "eth_data[\"time\"] = df_test_data[\"time\"].values\n",
    "eth_data[\"ETH_price\"] = df_test_data[\"ETH_price\"].values\n",
    "eth_data[\"ETH_volume\"] = df_test_data[\"ETH_volume\"].values\n",
    "\n",
    "eth_data.to_csv(\"./paper_wallet_data/eth_data.csv\")"
   ]
  },
  {
   "cell_type": "code",
   "execution_count": 79,
   "id": "de315736",
   "metadata": {},
   "outputs": [
    {
     "name": "stdout",
     "output_type": "stream",
     "text": [
      "Dropped sparse assets (name, price%, volume%):\n",
      "  ENA     price=17.03%, volume=17.03%\n",
      "  HYPE    price=13.26%, volume=13.26%\n",
      "  MNT     price=63.79%, volume=63.79%\n",
      "  PEPE    price=55.71%, volume=55.71%\n",
      "  TAO     price=36.63%, volume=36.63%\n",
      "  TON     price=61.28%, volume=61.28%\n",
      "  WLFI    price=0.40%, volume=0.40%\n",
      "Remaining assets: ['AAVE', 'ADA', 'AVAX', 'BCH', 'BTC', 'DOGE', 'DOT', 'ETC', 'ETH', 'HBAR'] ... (total: 20 )\n"
     ]
    }
   ],
   "source": [
    "# --- Drop sparse assets (<90% non-NaN in price or volume) ---\n",
    "threshold = 0.9\n",
    "n_rows = len(df_cut)\n",
    "\n",
    "asset_prefixes = {c.split(\"_\")[0] for c in df_cut.columns if \"_\" in c and c != \"time\"}\n",
    "drop_cols = []\n",
    "dropped_assets = []\n",
    "\n",
    "for a in sorted(asset_prefixes):\n",
    "    p, v = f\"{a}_price\", f\"{a}_volume\"\n",
    "    if p in df_cut.columns and v in df_cut.columns:\n",
    "        frac_price  = df_cut[p].notna().mean()\n",
    "        frac_volume = df_cut[v].notna().mean()\n",
    "        if (frac_price < threshold) or (frac_volume < threshold):\n",
    "            drop_cols += [p, v]\n",
    "            dropped_assets.append((a, frac_price, frac_volume))\n",
    "\n",
    "if drop_cols:\n",
    "    df_cut = df_cut.drop(columns=drop_cols)\n",
    "    print(\"Dropped sparse assets (name, price%, volume%):\")\n",
    "    for a, fp, fv in dropped_assets:\n",
    "        print(f\"  {a:6s}  price={fp:.2%}, volume={fv:.2%}\")\n",
    "\n",
    "remaining_assets = sorted({c.split(\"_\")[0] for c in df_cut.columns if \"_\" in c and c != \"time\"})\n",
    "print(\"Remaining assets:\", remaining_assets[:10], \"... (total:\", len(remaining_assets), \")\")\n"
   ]
  },
  {
   "cell_type": "markdown",
   "id": "aa2519e1",
   "metadata": {},
   "source": [
    "\n",
    "## Reshape wide → long & hourly reindex\n"
   ]
  },
  {
   "cell_type": "code",
   "execution_count": 80,
   "id": "26bec79c",
   "metadata": {},
   "outputs": [
    {
     "name": "stdout",
     "output_type": "stream",
     "text": [
      "Long shape after reindex: (254958, 4)\n"
     ]
    },
    {
     "name": "stderr",
     "output_type": "stream",
     "text": [
      "/var/folders/1f/5lhk7sb97rz53v7gk1vkcjkr0000gn/T/ipykernel_65474/1418215485.py:25: FutureWarning: The previous implementation of stack is deprecated and will be removed in a future version of pandas. See the What's New notes for pandas 2.1.0 for details. Specify future_stack=True to adopt the new implementation and silence this warning.\n",
      "  long = df.stack(\"asset\").reset_index().rename(columns={(\"__meta__\",\"time\"): \"time\"})\n",
      "/var/folders/1f/5lhk7sb97rz53v7gk1vkcjkr0000gn/T/ipykernel_65474/1418215485.py:30: FutureWarning: 'H' is deprecated and will be removed in a future version, please use 'h' instead.\n",
      "  g = g.set_index(\"time\").asfreq(\"1H\")\n",
      "/var/folders/1f/5lhk7sb97rz53v7gk1vkcjkr0000gn/T/ipykernel_65474/1418215485.py:30: FutureWarning: 'H' is deprecated and will be removed in a future version, please use 'h' instead.\n",
      "  g = g.set_index(\"time\").asfreq(\"1H\")\n",
      "/var/folders/1f/5lhk7sb97rz53v7gk1vkcjkr0000gn/T/ipykernel_65474/1418215485.py:30: FutureWarning: 'H' is deprecated and will be removed in a future version, please use 'h' instead.\n",
      "  g = g.set_index(\"time\").asfreq(\"1H\")\n",
      "/var/folders/1f/5lhk7sb97rz53v7gk1vkcjkr0000gn/T/ipykernel_65474/1418215485.py:30: FutureWarning: 'H' is deprecated and will be removed in a future version, please use 'h' instead.\n",
      "  g = g.set_index(\"time\").asfreq(\"1H\")\n",
      "/var/folders/1f/5lhk7sb97rz53v7gk1vkcjkr0000gn/T/ipykernel_65474/1418215485.py:30: FutureWarning: 'H' is deprecated and will be removed in a future version, please use 'h' instead.\n",
      "  g = g.set_index(\"time\").asfreq(\"1H\")\n",
      "/var/folders/1f/5lhk7sb97rz53v7gk1vkcjkr0000gn/T/ipykernel_65474/1418215485.py:30: FutureWarning: 'H' is deprecated and will be removed in a future version, please use 'h' instead.\n",
      "  g = g.set_index(\"time\").asfreq(\"1H\")\n",
      "/var/folders/1f/5lhk7sb97rz53v7gk1vkcjkr0000gn/T/ipykernel_65474/1418215485.py:30: FutureWarning: 'H' is deprecated and will be removed in a future version, please use 'h' instead.\n",
      "  g = g.set_index(\"time\").asfreq(\"1H\")\n",
      "/var/folders/1f/5lhk7sb97rz53v7gk1vkcjkr0000gn/T/ipykernel_65474/1418215485.py:30: FutureWarning: 'H' is deprecated and will be removed in a future version, please use 'h' instead.\n",
      "  g = g.set_index(\"time\").asfreq(\"1H\")\n",
      "/var/folders/1f/5lhk7sb97rz53v7gk1vkcjkr0000gn/T/ipykernel_65474/1418215485.py:30: FutureWarning: 'H' is deprecated and will be removed in a future version, please use 'h' instead.\n",
      "  g = g.set_index(\"time\").asfreq(\"1H\")\n",
      "/var/folders/1f/5lhk7sb97rz53v7gk1vkcjkr0000gn/T/ipykernel_65474/1418215485.py:30: FutureWarning: 'H' is deprecated and will be removed in a future version, please use 'h' instead.\n",
      "  g = g.set_index(\"time\").asfreq(\"1H\")\n",
      "/var/folders/1f/5lhk7sb97rz53v7gk1vkcjkr0000gn/T/ipykernel_65474/1418215485.py:30: FutureWarning: 'H' is deprecated and will be removed in a future version, please use 'h' instead.\n",
      "  g = g.set_index(\"time\").asfreq(\"1H\")\n",
      "/var/folders/1f/5lhk7sb97rz53v7gk1vkcjkr0000gn/T/ipykernel_65474/1418215485.py:30: FutureWarning: 'H' is deprecated and will be removed in a future version, please use 'h' instead.\n",
      "  g = g.set_index(\"time\").asfreq(\"1H\")\n",
      "/var/folders/1f/5lhk7sb97rz53v7gk1vkcjkr0000gn/T/ipykernel_65474/1418215485.py:30: FutureWarning: 'H' is deprecated and will be removed in a future version, please use 'h' instead.\n",
      "  g = g.set_index(\"time\").asfreq(\"1H\")\n",
      "/var/folders/1f/5lhk7sb97rz53v7gk1vkcjkr0000gn/T/ipykernel_65474/1418215485.py:30: FutureWarning: 'H' is deprecated and will be removed in a future version, please use 'h' instead.\n",
      "  g = g.set_index(\"time\").asfreq(\"1H\")\n",
      "/var/folders/1f/5lhk7sb97rz53v7gk1vkcjkr0000gn/T/ipykernel_65474/1418215485.py:30: FutureWarning: 'H' is deprecated and will be removed in a future version, please use 'h' instead.\n",
      "  g = g.set_index(\"time\").asfreq(\"1H\")\n",
      "/var/folders/1f/5lhk7sb97rz53v7gk1vkcjkr0000gn/T/ipykernel_65474/1418215485.py:30: FutureWarning: 'H' is deprecated and will be removed in a future version, please use 'h' instead.\n",
      "  g = g.set_index(\"time\").asfreq(\"1H\")\n",
      "/var/folders/1f/5lhk7sb97rz53v7gk1vkcjkr0000gn/T/ipykernel_65474/1418215485.py:30: FutureWarning: 'H' is deprecated and will be removed in a future version, please use 'h' instead.\n",
      "  g = g.set_index(\"time\").asfreq(\"1H\")\n",
      "/var/folders/1f/5lhk7sb97rz53v7gk1vkcjkr0000gn/T/ipykernel_65474/1418215485.py:30: FutureWarning: 'H' is deprecated and will be removed in a future version, please use 'h' instead.\n",
      "  g = g.set_index(\"time\").asfreq(\"1H\")\n",
      "/var/folders/1f/5lhk7sb97rz53v7gk1vkcjkr0000gn/T/ipykernel_65474/1418215485.py:30: FutureWarning: 'H' is deprecated and will be removed in a future version, please use 'h' instead.\n",
      "  g = g.set_index(\"time\").asfreq(\"1H\")\n",
      "/var/folders/1f/5lhk7sb97rz53v7gk1vkcjkr0000gn/T/ipykernel_65474/1418215485.py:30: FutureWarning: 'H' is deprecated and will be removed in a future version, please use 'h' instead.\n",
      "  g = g.set_index(\"time\").asfreq(\"1H\")\n",
      "/var/folders/1f/5lhk7sb97rz53v7gk1vkcjkr0000gn/T/ipykernel_65474/1418215485.py:37: DeprecationWarning: DataFrameGroupBy.apply operated on the grouping columns. This behavior is deprecated, and in a future version of pandas the grouping columns will be excluded from the operation. Either pass `include_groups=False` to exclude the groupings or explicitly select the grouping columns after groupby to silence this warning.\n",
      "  long = long.groupby(\"asset\", group_keys=False).apply(reindex_hourly)\n"
     ]
    },
    {
     "data": {
      "text/html": [
       "<div>\n",
       "<style scoped>\n",
       "    .dataframe tbody tr th:only-of-type {\n",
       "        vertical-align: middle;\n",
       "    }\n",
       "\n",
       "    .dataframe tbody tr th {\n",
       "        vertical-align: top;\n",
       "    }\n",
       "\n",
       "    .dataframe thead th {\n",
       "        text-align: right;\n",
       "    }\n",
       "</style>\n",
       "<table border=\"1\" class=\"dataframe\">\n",
       "  <thead>\n",
       "    <tr style=\"text-align: right;\">\n",
       "      <th>field</th>\n",
       "      <th>time</th>\n",
       "      <th>asset</th>\n",
       "      <th>price</th>\n",
       "      <th>volume</th>\n",
       "    </tr>\n",
       "  </thead>\n",
       "  <tbody>\n",
       "    <tr>\n",
       "      <th>0</th>\n",
       "      <td>2024-03-21 13:00:00+00:00</td>\n",
       "      <td>AAVE</td>\n",
       "      <td>120.29</td>\n",
       "      <td>119.004</td>\n",
       "    </tr>\n",
       "    <tr>\n",
       "      <th>1</th>\n",
       "      <td>2024-03-21 14:00:00+00:00</td>\n",
       "      <td>NaN</td>\n",
       "      <td>120.29</td>\n",
       "      <td>0.000</td>\n",
       "    </tr>\n",
       "    <tr>\n",
       "      <th>2</th>\n",
       "      <td>2024-03-21 15:00:00+00:00</td>\n",
       "      <td>AAVE</td>\n",
       "      <td>120.29</td>\n",
       "      <td>1355.469</td>\n",
       "    </tr>\n",
       "    <tr>\n",
       "      <th>3</th>\n",
       "      <td>2024-03-21 16:00:00+00:00</td>\n",
       "      <td>AAVE</td>\n",
       "      <td>123.01</td>\n",
       "      <td>4274.835</td>\n",
       "    </tr>\n",
       "    <tr>\n",
       "      <th>4</th>\n",
       "      <td>2024-03-21 17:00:00+00:00</td>\n",
       "      <td>AAVE</td>\n",
       "      <td>122.06</td>\n",
       "      <td>7042.400</td>\n",
       "    </tr>\n",
       "  </tbody>\n",
       "</table>\n",
       "</div>"
      ],
      "text/plain": [
       "field                      time asset   price    volume\n",
       "0     2024-03-21 13:00:00+00:00  AAVE  120.29   119.004\n",
       "1     2024-03-21 14:00:00+00:00   NaN  120.29     0.000\n",
       "2     2024-03-21 15:00:00+00:00  AAVE  120.29  1355.469\n",
       "3     2024-03-21 16:00:00+00:00  AAVE  123.01  4274.835\n",
       "4     2024-03-21 17:00:00+00:00  AAVE  122.06  7042.400"
      ]
     },
     "execution_count": 80,
     "metadata": {},
     "output_type": "execute_result"
    }
   ],
   "source": [
    "df = df_cut.copy()\n",
    "df['time'] = pd.to_datetime(df['time'], utc=True)\n",
    "if ASSUME_TZ is not None:\n",
    "    df['time'] = df['time'].dt.tz_convert('UTC')\n",
    "\n",
    "assets = sorted({c.split(\"_\")[0] for c in df.columns if c.endswith((\"_price\",\"_volume\"))})\n",
    "\n",
    "# Keep only price/volume pairs that actually exist\n",
    "pairs = []\n",
    "for a in assets:\n",
    "    p, v = f\"{a}_price\", f\"{a}_volume\"\n",
    "    if p in df.columns and v in df.columns:\n",
    "        pairs.append((a, \"price\"))\n",
    "        pairs.append((a, \"volume\"))\n",
    "keep_cols = [\"time\"] + [f\"{a}_price\" for a in assets if f\"{a}_price\" in df.columns] + [f\"{a}_volume\" for a in assets if f\"{a}_volume\" in df.columns]\n",
    "df = df[keep_cols]\n",
    "\n",
    "# Build MultiIndex columns (asset, field)\n",
    "mi_cols = [(\"__meta__\",\"time\")] + [(a,\"price\") for a in assets if f\"{a}_price\" in df.columns] + [(a,\"volume\") for a in assets if f\"{a}_volume\" in df.columns]\n",
    "df.columns = pd.MultiIndex.from_tuples(mi_cols)\n",
    "\n",
    "# To long panel\n",
    "df = df.set_index((\"__meta__\",\"time\"))\n",
    "df.columns.names = [\"asset\",\"field\"]\n",
    "long = df.stack(\"asset\").reset_index().rename(columns={(\"__meta__\",\"time\"): \"time\"})\n",
    "long = long[[\"time\",\"asset\",\"price\",\"volume\"]].sort_values([\"asset\",\"time\"]).reset_index(drop=True)\n",
    "\n",
    "# Hourly reindex & light fill\n",
    "def reindex_hourly(g):\n",
    "    g = g.set_index(\"time\").asfreq(\"1H\")\n",
    "    # Guard against non-positive price before log (set to NaN so it gets dropped later)\n",
    "    g.loc[g[\"price\"] <= 0, \"price\"] = np.nan\n",
    "    g[\"price\"]  = g[\"price\"].ffill()\n",
    "    g[\"volume\"] = g[\"volume\"].fillna(0.0)\n",
    "    return g.reset_index()\n",
    "\n",
    "long = long.groupby(\"asset\", group_keys=False).apply(reindex_hourly)\n",
    "print(\"Long shape after reindex:\", long.shape)\n",
    "long.head()"
   ]
  },
  {
   "cell_type": "markdown",
   "id": "0375164a",
   "metadata": {},
   "source": [
    "\n",
    "## Feature engineering & label (with NaN cleanup)\n"
   ]
  },
  {
   "cell_type": "code",
   "execution_count": null,
   "id": "0888387c",
   "metadata": {},
   "outputs": [
    {
     "name": "stdout",
     "output_type": "stream",
     "text": [
      "Dropped 664 rows with NaNs across FEATURES+TARGET\n"
     ]
    },
    {
     "data": {
      "text/html": [
       "<div>\n",
       "<style scoped>\n",
       "    .dataframe tbody tr th:only-of-type {\n",
       "        vertical-align: middle;\n",
       "    }\n",
       "\n",
       "    .dataframe tbody tr th {\n",
       "        vertical-align: top;\n",
       "    }\n",
       "\n",
       "    .dataframe thead th {\n",
       "        text-align: right;\n",
       "    }\n",
       "</style>\n",
       "<table border=\"1\" class=\"dataframe\">\n",
       "  <thead>\n",
       "    <tr style=\"text-align: right;\">\n",
       "      <th>field</th>\n",
       "      <th>time</th>\n",
       "      <th>asset</th>\n",
       "      <th>price</th>\n",
       "      <th>volume</th>\n",
       "      <th>log_price</th>\n",
       "      <th>y_ret_h</th>\n",
       "      <th>ret_1h</th>\n",
       "      <th>ret_6h</th>\n",
       "      <th>ret_24h</th>\n",
       "      <th>rv_24h</th>\n",
       "      <th>log_vol</th>\n",
       "      <th>hour</th>\n",
       "      <th>dow</th>\n",
       "      <th>hour_sin</th>\n",
       "      <th>hour_cos</th>\n",
       "      <th>dow_sin</th>\n",
       "      <th>dow_cos</th>\n",
       "      <th>price_pct_change</th>\n",
       "      <th>volume_pct_change</th>\n",
       "      <th>target_pct_chage</th>\n",
       "    </tr>\n",
       "  </thead>\n",
       "  <tbody>\n",
       "    <tr>\n",
       "      <th>0</th>\n",
       "      <td>2024-03-22 14:00:00+00:00</td>\n",
       "      <td>AAVE</td>\n",
       "      <td>115.25</td>\n",
       "      <td>6557.805</td>\n",
       "      <td>4.747104</td>\n",
       "      <td>0.018909</td>\n",
       "      <td>-0.008295</td>\n",
       "      <td>-0.061334</td>\n",
       "      <td>-0.042802</td>\n",
       "      <td>0.014545</td>\n",
       "      <td>8.788564</td>\n",
       "      <td>14</td>\n",
       "      <td>4</td>\n",
       "      <td>-0.500000</td>\n",
       "      <td>-8.660254e-01</td>\n",
       "      <td>-0.433884</td>\n",
       "      <td>-0.900969</td>\n",
       "      <td>-0.008261</td>\n",
       "      <td>0.920270</td>\n",
       "      <td>-0.029310</td>\n",
       "    </tr>\n",
       "    <tr>\n",
       "      <th>1</th>\n",
       "      <td>2024-03-22 15:00:00+00:00</td>\n",
       "      <td>AAVE</td>\n",
       "      <td>117.76</td>\n",
       "      <td>3082.261</td>\n",
       "      <td>4.768649</td>\n",
       "      <td>-0.002806</td>\n",
       "      <td>0.021545</td>\n",
       "      <td>-0.036683</td>\n",
       "      <td>-0.021257</td>\n",
       "      <td>0.015305</td>\n",
       "      <td>8.033743</td>\n",
       "      <td>15</td>\n",
       "      <td>4</td>\n",
       "      <td>-0.707107</td>\n",
       "      <td>-7.071068e-01</td>\n",
       "      <td>-0.433884</td>\n",
       "      <td>-0.900969</td>\n",
       "      <td>0.021779</td>\n",
       "      <td>-0.529986</td>\n",
       "      <td>-0.011915</td>\n",
       "    </tr>\n",
       "    <tr>\n",
       "      <th>2</th>\n",
       "      <td>2024-03-22 16:00:00+00:00</td>\n",
       "      <td>AAVE</td>\n",
       "      <td>116.67</td>\n",
       "      <td>1719.785</td>\n",
       "      <td>4.759349</td>\n",
       "      <td>0.009469</td>\n",
       "      <td>-0.009299</td>\n",
       "      <td>-0.021537</td>\n",
       "      <td>-0.052916</td>\n",
       "      <td>0.014560</td>\n",
       "      <td>7.450536</td>\n",
       "      <td>16</td>\n",
       "      <td>4</td>\n",
       "      <td>-0.866025</td>\n",
       "      <td>-5.000000e-01</td>\n",
       "      <td>-0.433884</td>\n",
       "      <td>-0.900969</td>\n",
       "      <td>-0.009256</td>\n",
       "      <td>-0.442038</td>\n",
       "      <td>0.003958</td>\n",
       "    </tr>\n",
       "    <tr>\n",
       "      <th>3</th>\n",
       "      <td>2024-03-22 17:00:00+00:00</td>\n",
       "      <td>AAVE</td>\n",
       "      <td>117.45</td>\n",
       "      <td>2266.151</td>\n",
       "      <td>4.766013</td>\n",
       "      <td>-0.005721</td>\n",
       "      <td>0.006663</td>\n",
       "      <td>-0.010839</td>\n",
       "      <td>-0.038500</td>\n",
       "      <td>0.014619</td>\n",
       "      <td>7.726279</td>\n",
       "      <td>17</td>\n",
       "      <td>4</td>\n",
       "      <td>-0.965926</td>\n",
       "      <td>-2.588190e-01</td>\n",
       "      <td>-0.433884</td>\n",
       "      <td>-0.900969</td>\n",
       "      <td>0.006686</td>\n",
       "      <td>0.317694</td>\n",
       "      <td>0.019089</td>\n",
       "    </tr>\n",
       "    <tr>\n",
       "      <th>4</th>\n",
       "      <td>2024-03-22 18:00:00+00:00</td>\n",
       "      <td>AAVE</td>\n",
       "      <td>117.43</td>\n",
       "      <td>893.595</td>\n",
       "      <td>4.765842</td>\n",
       "      <td>-0.010874</td>\n",
       "      <td>-0.000170</td>\n",
       "      <td>-0.014793</td>\n",
       "      <td>-0.008649</td>\n",
       "      <td>0.013307</td>\n",
       "      <td>6.796371</td>\n",
       "      <td>18</td>\n",
       "      <td>4</td>\n",
       "      <td>-1.000000</td>\n",
       "      <td>-1.836970e-16</td>\n",
       "      <td>-0.433884</td>\n",
       "      <td>-0.900969</td>\n",
       "      <td>-0.000170</td>\n",
       "      <td>-0.605677</td>\n",
       "      <td>-0.002802</td>\n",
       "    </tr>\n",
       "  </tbody>\n",
       "</table>\n",
       "</div>"
      ],
      "text/plain": [
       "field                      time asset   price    volume  log_price   y_ret_h  \\\n",
       "0     2024-03-22 14:00:00+00:00  AAVE  115.25  6557.805   4.747104  0.018909   \n",
       "1     2024-03-22 15:00:00+00:00  AAVE  117.76  3082.261   4.768649 -0.002806   \n",
       "2     2024-03-22 16:00:00+00:00  AAVE  116.67  1719.785   4.759349  0.009469   \n",
       "3     2024-03-22 17:00:00+00:00  AAVE  117.45  2266.151   4.766013 -0.005721   \n",
       "4     2024-03-22 18:00:00+00:00  AAVE  117.43   893.595   4.765842 -0.010874   \n",
       "\n",
       "field    ret_1h    ret_6h   ret_24h    rv_24h   log_vol  hour  dow  hour_sin  \\\n",
       "0     -0.008295 -0.061334 -0.042802  0.014545  8.788564    14    4 -0.500000   \n",
       "1      0.021545 -0.036683 -0.021257  0.015305  8.033743    15    4 -0.707107   \n",
       "2     -0.009299 -0.021537 -0.052916  0.014560  7.450536    16    4 -0.866025   \n",
       "3      0.006663 -0.010839 -0.038500  0.014619  7.726279    17    4 -0.965926   \n",
       "4     -0.000170 -0.014793 -0.008649  0.013307  6.796371    18    4 -1.000000   \n",
       "\n",
       "field      hour_cos   dow_sin   dow_cos  price_pct_change  volume_pct_change  \\\n",
       "0     -8.660254e-01 -0.433884 -0.900969         -0.008261           0.920270   \n",
       "1     -7.071068e-01 -0.433884 -0.900969          0.021779          -0.529986   \n",
       "2     -5.000000e-01 -0.433884 -0.900969         -0.009256          -0.442038   \n",
       "3     -2.588190e-01 -0.433884 -0.900969          0.006686           0.317694   \n",
       "4     -1.836970e-16 -0.433884 -0.900969         -0.000170          -0.605677   \n",
       "\n",
       "field  target_pct_chage  \n",
       "0             -0.029310  \n",
       "1             -0.011915  \n",
       "2              0.003958  \n",
       "3              0.019089  \n",
       "4             -0.002802  "
      ]
     },
     "execution_count": 81,
     "metadata": {},
     "output_type": "execute_result"
    }
   ],
   "source": [
    "\n",
    "# Clean feature engineering - keep only what matters\n",
    "long = long.sort_values([\"asset\",\"time\"]).drop_duplicates([\"asset\",\"time\"]).reset_index(drop=True)\n",
    "\n",
    "# Features: percentage changes (already defined in your original code)\n",
    "long[\"price_pct_change\"] = long.groupby(\"asset\")[\"price\"].pct_change(1)   \n",
    "long[\"volume_pct_change\"] = long.groupby(\"asset\")[\"volume\"].pct_change(1)\n",
    "\n",
    "# Target: using the target from config\n",
    "long[\"target_pct_chage\"] = long.groupby(\"asset\")[\"price\"].pct_change(HORIZON_H)\n",
    "\n",
    "# --- Drop rows that cannot be used (NaNs from diffs/rolling/label shift) ---\n",
    "before = len(long)\n",
    "long = long.dropna().reset_index(drop=True)\n",
    "after = len(long)\n",
    "print(f\"Dropped {before-after} rows with NaNs across FEATURES+TARGET\")\n",
    "\n",
    "long.head()\n"
   ]
  },
  {
   "cell_type": "markdown",
   "id": "d280f5d4",
   "metadata": {},
   "source": [
    "\n",
    "## Train / Validation / Test split by time\n"
   ]
  },
  {
   "cell_type": "code",
   "execution_count": 83,
   "id": "b0160ee7",
   "metadata": {},
   "outputs": [
    {
     "name": "stdout",
     "output_type": "stream",
     "text": [
      "Split sizes: 176796 37880 37900\n"
     ]
    }
   ],
   "source": [
    "\n",
    "t1 = long[\"time\"].quantile(0.70)\n",
    "t2 = long[\"time\"].quantile(0.85)\n",
    "train = long[long[\"time\"] < t1].copy()\n",
    "val   = long[(long[\"time\"] >= t1) & (long[\"time\"] < t2)].copy()\n",
    "test  = long[long[\"time\"] >= t2].copy()\n",
    "print(\"Split sizes:\", len(train), len(val), len(test))\n"
   ]
  },
  {
   "cell_type": "markdown",
   "id": "8a7f40c5",
   "metadata": {},
   "source": []
  },
  {
   "cell_type": "markdown",
   "id": "6c60a67c",
   "metadata": {},
   "source": [
    "\n",
    "## Windowing to sequences & asset embeddings\n"
   ]
  },
  {
   "cell_type": "code",
   "execution_count": 85,
   "id": "3a594cf6",
   "metadata": {},
   "outputs": [
    {
     "name": "stdout",
     "output_type": "stream",
     "text": [
      "Assets: 20 {'AAVE': 0, 'ADA': 1, 'AVAX': 2, 'BCH': 3, 'BTC': 4, 'DOGE': 5, 'DOT': 6, 'ETC': 7, 'ETH': 8, 'HBAR': 9, 'LINK': 10, 'LTC': 11, 'SHIB': 12, 'SOL': 13, 'SUI': 14, 'TRX': 15, 'UNI': 16, 'XLM': 17, 'XMR': 18, 'XRP': 19}\n",
      "Sequence shapes: (174876, 96, 2) (35960, 96, 2) (35980, 96, 2)\n",
      "Sequence shapes: (174876, 96, 2) (35960, 96, 2) (35980, 96, 2)\n"
     ]
    }
   ],
   "source": [
    "asset_to_id = {a:i for i,a in enumerate(sorted(train[\"asset\"].unique()))}\n",
    "n_assets = len(asset_to_id)\n",
    "feat_dim = len(FEATURES)\n",
    "print(\"Assets:\", n_assets, asset_to_id)\n",
    "\n",
    "def make_sequences(df, L):\n",
    "    X_list, A_list, y_list = [], [], []\n",
    "    for a, g in df.groupby(\"asset\"):\n",
    "        g = g.sort_values(\"time\")\n",
    "        X = g[FEATURES].values\n",
    "        A = np.full(len(g), asset_to_id[a], dtype=np.int64)\n",
    "        y = g[TARGET].values\n",
    "        for t in range(L, len(g)):\n",
    "            X_list.append(X[t-L:t,:])\n",
    "            A_list.append(A[t])\n",
    "            y_list.append(y[t])\n",
    "    return np.stack(X_list), np.array(A_list), np.array(y_list)\n",
    "\n",
    "X_tr,A_tr,y_tr = make_sequences(train, LOOKBACK_L)\n",
    "X_va,A_va,y_va = make_sequences(val, LOOKBACK_L)\n",
    "X_te,A_te,y_te = make_sequences(test, LOOKBACK_L)\n",
    "print(\"Sequence shapes:\", X_tr.shape, X_va.shape, X_te.shape)"
   ]
  },
  {
   "cell_type": "code",
   "execution_count": 101,
   "id": "c6f3ca97",
   "metadata": {},
   "outputs": [
    {
     "name": "stdout",
     "output_type": "stream",
     "text": [
      "📊 Target Distribution Analysis:\n",
      "y_tr stats: mean=0.000117, std=0.017891, min=-0.223064, max=0.594281\n",
      "y_va stats: mean=0.000348, std=0.015190, min=-0.128108, max=0.175078\n",
      "y_te stats: mean=0.000507, std=0.014165, min=-0.078798, max=0.176358\n",
      "Training samples near zero (±1%): 108837/174876 (62.2%)\n"
     ]
    },
    {
     "data": {
      "image/png": "[encoded data removed]",
      "text/plain": [
       "<Figure size 1200x400 with 3 Axes>"
      ]
     },
     "metadata": {},
     "output_type": "display_data"
    },
    {
     "name": "stdout",
     "output_type": "stream",
     "text": [
      "\n",
      "📈 Feature Variance Check:\n",
      "price_pct_change: variance=0.000108\n",
      "volume_pct_change: variance=14703.016319\n",
      "volume_pct_change: variance=14703.016319\n"
     ]
    }
   ],
   "source": [
    "# 🔍 DIAGNOSTIC: Check target distribution\n",
    "print(\"📊 Target Distribution Analysis:\")\n",
    "print(f\"y_tr stats: mean={y_tr.mean():.6f}, std={y_tr.std():.6f}, min={y_tr.min():.6f}, max={y_tr.max():.6f}\")\n",
    "print(f\"y_va stats: mean={y_va.mean():.6f}, std={y_va.std():.6f}, min={y_va.min():.6f}, max={y_va.max():.6f}\")\n",
    "print(f\"y_te stats: mean={y_te.mean():.6f}, std={y_te.std():.6f}, min={y_te.min():.6f}, max={y_te.max():.6f}\")\n",
    "\n",
    "# Check if targets are mostly near zero\n",
    "near_zero = np.abs(y_tr) < 0.01\n",
    "print(f\"Training samples near zero (±1%): {near_zero.sum()}/{len(y_tr)} ({near_zero.mean():.1%})\")\n",
    "\n",
    "# Plot target distribution\n",
    "import matplotlib.pyplot as plt\n",
    "plt.figure(figsize=(12, 4))\n",
    "\n",
    "plt.subplot(1, 3, 1)\n",
    "plt.hist(y_tr, bins=50, alpha=0.7, label=f'Train (n={len(y_tr)})')\n",
    "plt.title('Training Target Distribution')\n",
    "plt.xlabel('Target Value')\n",
    "\n",
    "plt.subplot(1, 3, 2)\n",
    "plt.hist(y_va, bins=50, alpha=0.7, color='orange', label=f'Val (n={len(y_va)})')\n",
    "plt.title('Validation Target Distribution')\n",
    "plt.xlabel('Target Value')\n",
    "\n",
    "plt.subplot(1, 3, 3)\n",
    "plt.hist(y_te, bins=50, alpha=0.7, color='green', label=f'Test (n={len(y_te)})')\n",
    "plt.title('Test Target Distribution')\n",
    "plt.xlabel('Target Value')\n",
    "\n",
    "plt.tight_layout()\n",
    "plt.show()\n",
    "\n",
    "# Check feature variance too\n",
    "print(\"\\n📈 Feature Variance Check:\")\n",
    "for i, feat in enumerate(FEATURES):\n",
    "    var_tr = X_tr[:, :, i].var()\n",
    "    print(f\"{feat}: variance={var_tr:.6f}\")"
   ]
  },
  {
   "cell_type": "markdown",
   "id": "b495939d",
   "metadata": {},
   "source": [
    "\n",
    "## Build `tf.data` datasets\n"
   ]
  },
  {
   "cell_type": "code",
   "execution_count": 87,
   "id": "88ef81c0",
   "metadata": {},
   "outputs": [
    {
     "name": "stdout",
     "output_type": "stream",
     "text": [
      "{'seq': TensorShape([256, 96, 2]), 'asset_id': TensorShape([256])} -> (256,)\n"
     ]
    },
    {
     "name": "stderr",
     "output_type": "stream",
     "text": [
      "2025-10-17 01:57:46.452777: I tensorflow/core/framework/local_rendezvous.cc:405] Local rendezvous is aborting with status: OUT_OF_RANGE: End of sequence\n"
     ]
    }
   ],
   "source": [
    "\n",
    "def make_ds(X,A,y,batch=256,shuffle=False):\n",
    "    ds = tf.data.Dataset.from_tensor_slices(({\"seq\":X,\"asset_id\":A},y))\n",
    "    if shuffle: ds = ds.shuffle(min(len(X),100000), reshuffle_each_iteration=True)\n",
    "    return ds.batch(batch).prefetch(tf.data.AUTOTUNE)\n",
    "\n",
    "train_ds = make_ds(X_tr,A_tr,y_tr,batch=256,shuffle=True)\n",
    "val_ds   = make_ds(X_va,A_va,y_va,batch=512,shuffle=False)\n",
    "test_ds  = make_ds(X_te,A_te,y_te,batch=512,shuffle=False)\n",
    "for sample in train_ds.take(1):\n",
    "    print({k: v.shape for k,v in sample[0].items()}, \"->\", sample[1].shape)\n"
   ]
  },
  {
   "cell_type": "markdown",
   "id": "f145f4a8",
   "metadata": {},
   "source": [
    "\n",
    "## Model: Asset Embedding + Stacked LSTM (Keras)\n"
   ]
  },
  {
   "cell_type": "code",
   "execution_count": 88,
   "id": "4c54e9ca",
   "metadata": {},
   "outputs": [],
   "source": [
    "n_features = len(FEATURES)\n",
    "\n",
    "returns = Input(shape=(LOOKBACK_L, n_features), name='Returns')\n",
    "tickers = Input(shape=(1,), name='Tickers')"
   ]
  },
  {
   "cell_type": "code",
   "execution_count": 89,
   "id": "4881f5a1",
   "metadata": {},
   "outputs": [],
   "source": [
    "lstm1_units = 25\n",
    "lstm2_units = 10"
   ]
  },
  {
   "cell_type": "code",
   "execution_count": 90,
   "id": "ddaca7f2",
   "metadata": {},
   "outputs": [
    {
     "name": "stderr",
     "output_type": "stream",
     "text": [
      "/Library/Frameworks/Python.framework/Versions/3.12/lib/python3.12/site-packages/keras/src/layers/rnn/rnn.py:200: UserWarning: Do not pass an `input_shape`/`input_dim` argument to a layer. When using Sequential models, prefer using an `Input(shape)` object as the first layer in the model instead.\n",
      "  super().__init__(**kwargs)\n"
     ]
    }
   ],
   "source": [
    "# Reduced regularization model architecture\n",
    "lstm1 = LSTM(units=64,  \n",
    "             input_shape=(LOOKBACK_L, n_features), \n",
    "             name='LSTM1', \n",
    "             dropout=0.1,      # Reduced from 0.2\n",
    "             recurrent_dropout=0.1,  # Reduced from 0.2\n",
    "             return_sequences=True)(returns)\n",
    "\n",
    "lstm2 = LSTM(units=32,   \n",
    "             dropout=0.1,      # Reduced from 0.2\n",
    "             recurrent_dropout=0.1,  # Reduced from 0.2\n",
    "             return_sequences=False,  # Changed to False - simpler\n",
    "             name='LSTM2')(lstm1)\n",
    "\n",
    "# Simpler architecture - remove attention for now\n",
    "lstm_output = lstm2"
   ]
  },
  {
   "cell_type": "code",
   "execution_count": 91,
   "id": "27e32dc5",
   "metadata": {},
   "outputs": [
    {
     "name": "stderr",
     "output_type": "stream",
     "text": [
      "/Library/Frameworks/Python.framework/Versions/3.12/lib/python3.12/site-packages/keras/src/layers/core/embedding.py:90: UserWarning: Argument `input_length` is deprecated. Just remove it.\n",
      "  warnings.warn(\n"
     ]
    }
   ],
   "source": [
    "# Simpler embedding - no regularization\n",
    "ticker_embedding = Embedding(input_dim=n_assets, \n",
    "                             output_dim=8,  # Reduced from 16\n",
    "                             input_length=1)(tickers)\n",
    "ticker_embedding = Reshape(target_shape=(8,))(ticker_embedding)"
   ]
  },
  {
   "cell_type": "code",
   "execution_count": 92,
   "id": "d4f48ba1",
   "metadata": {},
   "outputs": [],
   "source": [
    "# Simpler dense layers with less regularization\n",
    "merged = concatenate([lstm_output, ticker_embedding], name='Merged')\n",
    "\n",
    "# Single dense layer\n",
    "hidden = Dense(32, activation='relu', name='Dense1')(merged)\n",
    "dropout = tf.keras.layers.Dropout(0.1)(hidden)  # Reduced dropout\n",
    "\n",
    "# Output layer\n",
    "output = Dense(1, name='Output')(dropout)\n",
    "\n",
    "rnn = Model(inputs=[returns, tickers], outputs=output)"
   ]
  },
  {
   "cell_type": "code",
   "execution_count": 93,
   "id": "0de14ae0",
   "metadata": {},
   "outputs": [
    {
     "data": {
      "text/html": [
       "<pre style=\"white-space:pre;overflow-x:auto;line-height:normal;font-family:Menlo,'DejaVu Sans Mono',consolas,'Courier New',monospace\"><span style=\"font-weight: bold\">Model: \"functional_2\"</span>\n",
       "</pre>\n"
      ],
      "text/plain": [
       "\u001b[1mModel: \"functional_2\"\u001b[0m\n"
      ]
     },
     "metadata": {},
     "output_type": "display_data"
    },
    {
     "data": {
      "text/html": [
       "<pre style=\"white-space:pre;overflow-x:auto;line-height:normal;font-family:Menlo,'DejaVu Sans Mono',consolas,'Courier New',monospace\">┏━━━━━━━━━━━━━━━━━━━━━┳━━━━━━━━━━━━━━━━━━━┳━━━━━━━━━━━━┳━━━━━━━━━━━━━━━━━━━┓\n",
       "┃<span style=\"font-weight: bold\"> Layer (type)        </span>┃<span style=\"font-weight: bold\"> Output Shape      </span>┃<span style=\"font-weight: bold\">    Param # </span>┃<span style=\"font-weight: bold\"> Connected to      </span>┃\n",
       "┡━━━━━━━━━━━━━━━━━━━━━╇━━━━━━━━━━━━━━━━━━━╇━━━━━━━━━━━━╇━━━━━━━━━━━━━━━━━━━┩\n",
       "│ Returns             │ (<span style=\"color: #00d7ff; text-decoration-color: #00d7ff\">None</span>, <span style=\"color: #00af00; text-decoration-color: #00af00\">96</span>, <span style=\"color: #00af00; text-decoration-color: #00af00\">2</span>)     │          <span style=\"color: #00af00; text-decoration-color: #00af00\">0</span> │ -                 │\n",
       "│ (<span style=\"color: #0087ff; text-decoration-color: #0087ff\">InputLayer</span>)        │                   │            │                   │\n",
       "├─────────────────────┼───────────────────┼────────────┼───────────────────┤\n",
       "│ Tickers             │ (<span style=\"color: #00d7ff; text-decoration-color: #00d7ff\">None</span>, <span style=\"color: #00af00; text-decoration-color: #00af00\">1</span>)         │          <span style=\"color: #00af00; text-decoration-color: #00af00\">0</span> │ -                 │\n",
       "│ (<span style=\"color: #0087ff; text-decoration-color: #0087ff\">InputLayer</span>)        │                   │            │                   │\n",
       "├─────────────────────┼───────────────────┼────────────┼───────────────────┤\n",
       "│ LSTM1 (<span style=\"color: #0087ff; text-decoration-color: #0087ff\">LSTM</span>)        │ (<span style=\"color: #00d7ff; text-decoration-color: #00d7ff\">None</span>, <span style=\"color: #00af00; text-decoration-color: #00af00\">96</span>, <span style=\"color: #00af00; text-decoration-color: #00af00\">64</span>)    │     <span style=\"color: #00af00; text-decoration-color: #00af00\">17,152</span> │ Returns[<span style=\"color: #00af00; text-decoration-color: #00af00\">0</span>][<span style=\"color: #00af00; text-decoration-color: #00af00\">0</span>]     │\n",
       "├─────────────────────┼───────────────────┼────────────┼───────────────────┤\n",
       "│ embedding_2         │ (<span style=\"color: #00d7ff; text-decoration-color: #00d7ff\">None</span>, <span style=\"color: #00af00; text-decoration-color: #00af00\">1</span>, <span style=\"color: #00af00; text-decoration-color: #00af00\">8</span>)      │        <span style=\"color: #00af00; text-decoration-color: #00af00\">160</span> │ Tickers[<span style=\"color: #00af00; text-decoration-color: #00af00\">0</span>][<span style=\"color: #00af00; text-decoration-color: #00af00\">0</span>]     │\n",
       "│ (<span style=\"color: #0087ff; text-decoration-color: #0087ff\">Embedding</span>)         │                   │            │                   │\n",
       "├─────────────────────┼───────────────────┼────────────┼───────────────────┤\n",
       "│ LSTM2 (<span style=\"color: #0087ff; text-decoration-color: #0087ff\">LSTM</span>)        │ (<span style=\"color: #00d7ff; text-decoration-color: #00d7ff\">None</span>, <span style=\"color: #00af00; text-decoration-color: #00af00\">32</span>)        │     <span style=\"color: #00af00; text-decoration-color: #00af00\">12,416</span> │ LSTM1[<span style=\"color: #00af00; text-decoration-color: #00af00\">0</span>][<span style=\"color: #00af00; text-decoration-color: #00af00\">0</span>]       │\n",
       "├─────────────────────┼───────────────────┼────────────┼───────────────────┤\n",
       "│ reshape_2 (<span style=\"color: #0087ff; text-decoration-color: #0087ff\">Reshape</span>) │ (<span style=\"color: #00d7ff; text-decoration-color: #00d7ff\">None</span>, <span style=\"color: #00af00; text-decoration-color: #00af00\">8</span>)         │          <span style=\"color: #00af00; text-decoration-color: #00af00\">0</span> │ embedding_2[<span style=\"color: #00af00; text-decoration-color: #00af00\">0</span>][<span style=\"color: #00af00; text-decoration-color: #00af00\">0</span>] │\n",
       "├─────────────────────┼───────────────────┼────────────┼───────────────────┤\n",
       "│ Merged              │ (<span style=\"color: #00d7ff; text-decoration-color: #00d7ff\">None</span>, <span style=\"color: #00af00; text-decoration-color: #00af00\">40</span>)        │          <span style=\"color: #00af00; text-decoration-color: #00af00\">0</span> │ LSTM2[<span style=\"color: #00af00; text-decoration-color: #00af00\">0</span>][<span style=\"color: #00af00; text-decoration-color: #00af00\">0</span>],      │\n",
       "│ (<span style=\"color: #0087ff; text-decoration-color: #0087ff\">Concatenate</span>)       │                   │            │ reshape_2[<span style=\"color: #00af00; text-decoration-color: #00af00\">0</span>][<span style=\"color: #00af00; text-decoration-color: #00af00\">0</span>]   │\n",
       "├─────────────────────┼───────────────────┼────────────┼───────────────────┤\n",
       "│ Dense1 (<span style=\"color: #0087ff; text-decoration-color: #0087ff\">Dense</span>)      │ (<span style=\"color: #00d7ff; text-decoration-color: #00d7ff\">None</span>, <span style=\"color: #00af00; text-decoration-color: #00af00\">32</span>)        │      <span style=\"color: #00af00; text-decoration-color: #00af00\">1,312</span> │ Merged[<span style=\"color: #00af00; text-decoration-color: #00af00\">0</span>][<span style=\"color: #00af00; text-decoration-color: #00af00\">0</span>]      │\n",
       "├─────────────────────┼───────────────────┼────────────┼───────────────────┤\n",
       "│ dropout_4 (<span style=\"color: #0087ff; text-decoration-color: #0087ff\">Dropout</span>) │ (<span style=\"color: #00d7ff; text-decoration-color: #00d7ff\">None</span>, <span style=\"color: #00af00; text-decoration-color: #00af00\">32</span>)        │          <span style=\"color: #00af00; text-decoration-color: #00af00\">0</span> │ Dense1[<span style=\"color: #00af00; text-decoration-color: #00af00\">0</span>][<span style=\"color: #00af00; text-decoration-color: #00af00\">0</span>]      │\n",
       "├─────────────────────┼───────────────────┼────────────┼───────────────────┤\n",
       "│ Output (<span style=\"color: #0087ff; text-decoration-color: #0087ff\">Dense</span>)      │ (<span style=\"color: #00d7ff; text-decoration-color: #00d7ff\">None</span>, <span style=\"color: #00af00; text-decoration-color: #00af00\">1</span>)         │         <span style=\"color: #00af00; text-decoration-color: #00af00\">33</span> │ dropout_4[<span style=\"color: #00af00; text-decoration-color: #00af00\">0</span>][<span style=\"color: #00af00; text-decoration-color: #00af00\">0</span>]   │\n",
       "└─────────────────────┴───────────────────┴────────────┴───────────────────┘\n",
       "</pre>\n"
      ],
      "text/plain": [
       "┏━━━━━━━━━━━━━━━━━━━━━┳━━━━━━━━━━━━━━━━━━━┳━━━━━━━━━━━━┳━━━━━━━━━━━━━━━━━━━┓\n",
       "┃\u001b[1m \u001b[0m\u001b[1mLayer (type)       \u001b[0m\u001b[1m \u001b[0m┃\u001b[1m \u001b[0m\u001b[1mOutput Shape     \u001b[0m\u001b[1m \u001b[0m┃\u001b[1m \u001b[0m\u001b[1m   Param #\u001b[0m\u001b[1m \u001b[0m┃\u001b[1m \u001b[0m\u001b[1mConnected to     \u001b[0m\u001b[1m \u001b[0m┃\n",
       "┡━━━━━━━━━━━━━━━━━━━━━╇━━━━━━━━━━━━━━━━━━━╇━━━━━━━━━━━━╇━━━━━━━━━━━━━━━━━━━┩\n",
       "│ Returns             │ (\u001b[38;5;45mNone\u001b[0m, \u001b[38;5;34m96\u001b[0m, \u001b[38;5;34m2\u001b[0m)     │          \u001b[38;5;34m0\u001b[0m │ -                 │\n",
       "│ (\u001b[38;5;33mInputLayer\u001b[0m)        │                   │            │                   │\n",
       "├─────────────────────┼───────────────────┼────────────┼───────────────────┤\n",
       "│ Tickers             │ (\u001b[38;5;45mNone\u001b[0m, \u001b[38;5;34m1\u001b[0m)         │          \u001b[38;5;34m0\u001b[0m │ -                 │\n",
       "│ (\u001b[38;5;33mInputLayer\u001b[0m)        │                   │            │                   │\n",
       "├─────────────────────┼───────────────────┼────────────┼───────────────────┤\n",
       "│ LSTM1 (\u001b[38;5;33mLSTM\u001b[0m)        │ (\u001b[38;5;45mNone\u001b[0m, \u001b[38;5;34m96\u001b[0m, \u001b[38;5;34m64\u001b[0m)    │     \u001b[38;5;34m17,152\u001b[0m │ Returns[\u001b[38;5;34m0\u001b[0m][\u001b[38;5;34m0\u001b[0m]     │\n",
       "├─────────────────────┼───────────────────┼────────────┼───────────────────┤\n",
       "│ embedding_2         │ (\u001b[38;5;45mNone\u001b[0m, \u001b[38;5;34m1\u001b[0m, \u001b[38;5;34m8\u001b[0m)      │        \u001b[38;5;34m160\u001b[0m │ Tickers[\u001b[38;5;34m0\u001b[0m][\u001b[38;5;34m0\u001b[0m]     │\n",
       "│ (\u001b[38;5;33mEmbedding\u001b[0m)         │                   │            │                   │\n",
       "├─────────────────────┼───────────────────┼────────────┼───────────────────┤\n",
       "│ LSTM2 (\u001b[38;5;33mLSTM\u001b[0m)        │ (\u001b[38;5;45mNone\u001b[0m, \u001b[38;5;34m32\u001b[0m)        │     \u001b[38;5;34m12,416\u001b[0m │ LSTM1[\u001b[38;5;34m0\u001b[0m][\u001b[38;5;34m0\u001b[0m]       │\n",
       "├─────────────────────┼───────────────────┼────────────┼───────────────────┤\n",
       "│ reshape_2 (\u001b[38;5;33mReshape\u001b[0m) │ (\u001b[38;5;45mNone\u001b[0m, \u001b[38;5;34m8\u001b[0m)         │          \u001b[38;5;34m0\u001b[0m │ embedding_2[\u001b[38;5;34m0\u001b[0m][\u001b[38;5;34m0\u001b[0m] │\n",
       "├─────────────────────┼───────────────────┼────────────┼───────────────────┤\n",
       "│ Merged              │ (\u001b[38;5;45mNone\u001b[0m, \u001b[38;5;34m40\u001b[0m)        │          \u001b[38;5;34m0\u001b[0m │ LSTM2[\u001b[38;5;34m0\u001b[0m][\u001b[38;5;34m0\u001b[0m],      │\n",
       "│ (\u001b[38;5;33mConcatenate\u001b[0m)       │                   │            │ reshape_2[\u001b[38;5;34m0\u001b[0m][\u001b[38;5;34m0\u001b[0m]   │\n",
       "├─────────────────────┼───────────────────┼────────────┼───────────────────┤\n",
       "│ Dense1 (\u001b[38;5;33mDense\u001b[0m)      │ (\u001b[38;5;45mNone\u001b[0m, \u001b[38;5;34m32\u001b[0m)        │      \u001b[38;5;34m1,312\u001b[0m │ Merged[\u001b[38;5;34m0\u001b[0m][\u001b[38;5;34m0\u001b[0m]      │\n",
       "├─────────────────────┼───────────────────┼────────────┼───────────────────┤\n",
       "│ dropout_4 (\u001b[38;5;33mDropout\u001b[0m) │ (\u001b[38;5;45mNone\u001b[0m, \u001b[38;5;34m32\u001b[0m)        │          \u001b[38;5;34m0\u001b[0m │ Dense1[\u001b[38;5;34m0\u001b[0m][\u001b[38;5;34m0\u001b[0m]      │\n",
       "├─────────────────────┼───────────────────┼────────────┼───────────────────┤\n",
       "│ Output (\u001b[38;5;33mDense\u001b[0m)      │ (\u001b[38;5;45mNone\u001b[0m, \u001b[38;5;34m1\u001b[0m)         │         \u001b[38;5;34m33\u001b[0m │ dropout_4[\u001b[38;5;34m0\u001b[0m][\u001b[38;5;34m0\u001b[0m]   │\n",
       "└─────────────────────┴───────────────────┴────────────┴───────────────────┘\n"
      ]
     },
     "metadata": {},
     "output_type": "display_data"
    },
    {
     "data": {
      "text/html": [
       "<pre style=\"white-space:pre;overflow-x:auto;line-height:normal;font-family:Menlo,'DejaVu Sans Mono',consolas,'Courier New',monospace\"><span style=\"font-weight: bold\"> Total params: </span><span style=\"color: #00af00; text-decoration-color: #00af00\">31,073</span> (121.38 KB)\n",
       "</pre>\n"
      ],
      "text/plain": [
       "\u001b[1m Total params: \u001b[0m\u001b[38;5;34m31,073\u001b[0m (121.38 KB)\n"
      ]
     },
     "metadata": {},
     "output_type": "display_data"
    },
    {
     "data": {
      "text/html": [
       "<pre style=\"white-space:pre;overflow-x:auto;line-height:normal;font-family:Menlo,'DejaVu Sans Mono',consolas,'Courier New',monospace\"><span style=\"font-weight: bold\"> Trainable params: </span><span style=\"color: #00af00; text-decoration-color: #00af00\">31,073</span> (121.38 KB)\n",
       "</pre>\n"
      ],
      "text/plain": [
       "\u001b[1m Trainable params: \u001b[0m\u001b[38;5;34m31,073\u001b[0m (121.38 KB)\n"
      ]
     },
     "metadata": {},
     "output_type": "display_data"
    },
    {
     "data": {
      "text/html": [
       "<pre style=\"white-space:pre;overflow-x:auto;line-height:normal;font-family:Menlo,'DejaVu Sans Mono',consolas,'Courier New',monospace\"><span style=\"font-weight: bold\"> Non-trainable params: </span><span style=\"color: #00af00; text-decoration-color: #00af00\">0</span> (0.00 B)\n",
       "</pre>\n"
      ],
      "text/plain": [
       "\u001b[1m Non-trainable params: \u001b[0m\u001b[38;5;34m0\u001b[0m (0.00 B)\n"
      ]
     },
     "metadata": {},
     "output_type": "display_data"
    }
   ],
   "source": [
    "rnn.summary()"
   ]
  },
  {
   "cell_type": "markdown",
   "id": "02936b99",
   "metadata": {},
   "source": [
    "\n",
    "## Train\n"
   ]
  },
  {
   "cell_type": "code",
   "execution_count": 94,
   "id": "8a099e2b",
   "metadata": {},
   "outputs": [],
   "source": [
    "# Higher learning rate and different loss\n",
    "initial_lr = 0.01  # Increased from 0.001\n",
    "\n",
    "optimizer = tf.keras.optimizers.Adam(\n",
    "    learning_rate=initial_lr,\n",
    "    clipnorm=1.0  \n",
    ")\n",
    "\n",
    "# Try MAE loss instead of MSE (less sensitive to outliers)\n",
    "rnn.compile(\n",
    "    loss='mae',  # Changed from 'mse'\n",
    "    optimizer=optimizer,\n",
    "    metrics=['mae', 'mse']  \n",
    ")"
   ]
  },
  {
   "cell_type": "code",
   "execution_count": 95,
   "id": "930a1c88",
   "metadata": {},
   "outputs": [],
   "source": [
    "results_path = Path('results', 'models')\n",
    "if not results_path.exists():\n",
    "    results_path.mkdir(parents=True)\n",
    "    \n",
    "lstm_path = (results_path / 'lstm.regression.keras').as_posix()\n",
    "\n",
    "checkpointer = ModelCheckpoint(filepath=lstm_path,\n",
    "                               verbose=1,\n",
    "                               monitor='val_loss',\n",
    "                               mode='min',\n",
    "                               save_best_only=True)"
   ]
  },
  {
   "cell_type": "code",
   "execution_count": 96,
   "id": "b6157b6a",
   "metadata": {},
   "outputs": [],
   "source": [
    "# Improved callbacks\n",
    "early_stopping = EarlyStopping(\n",
    "    monitor='val_loss', \n",
    "    patience=8,  # Increased patience\n",
    "    restore_best_weights=True,\n",
    "    min_delta=1e-5\n",
    ")\n",
    "\n",
    "# Learning rate reduction\n",
    "lr_reducer = tf.keras.callbacks.ReduceLROnPlateau(\n",
    "    monitor='val_loss',\n",
    "    factor=0.5,\n",
    "    patience=4,\n",
    "    min_lr=1e-6,\n",
    "    verbose=1\n",
    ")"
   ]
  },
  {
   "cell_type": "code",
   "execution_count": 97,
   "id": "720b4771",
   "metadata": {},
   "outputs": [
    {
     "data": {
      "text/plain": [
       "(174876, 96, 2)"
      ]
     },
     "execution_count": 97,
     "metadata": {},
     "output_type": "execute_result"
    }
   ],
   "source": [
    "X_tr.shape"
   ]
  },
  {
   "cell_type": "code",
   "execution_count": 98,
   "id": "45be326d",
   "metadata": {},
   "outputs": [
    {
     "name": "stdout",
     "output_type": "stream",
     "text": [
      "Epoch 1/50\n",
      "\u001b[1m1367/1367\u001b[0m \u001b[32m━━━━━━━━━━━━━━━━━━━━\u001b[0m\u001b[37m\u001b[0m \u001b[1m0s\u001b[0m 108ms/step - loss: 0.0121 - mae: 0.0121 - mse: 4.0370e-04\n",
      "Epoch 1: val_loss improved from inf to 0.01042, saving model to results/models/lstm.regression.keras\n",
      "\n",
      "Epoch 1: val_loss improved from inf to 0.01042, saving model to results/models/lstm.regression.keras\n",
      "\u001b[1m1367/1367\u001b[0m \u001b[32m━━━━━━━━━━━━━━━━━━━━\u001b[0m\u001b[37m\u001b[0m \u001b[1m159s\u001b[0m 114ms/step - loss: 0.0121 - mae: 0.0121 - mse: 4.0365e-04 - val_loss: 0.0104 - val_mae: 0.0104 - val_mse: 2.3154e-04 - learning_rate: 0.0100\n",
      "Epoch 2/50\n",
      "\u001b[1m1367/1367\u001b[0m \u001b[32m━━━━━━━━━━━━━━━━━━━━\u001b[0m\u001b[37m\u001b[0m \u001b[1m159s\u001b[0m 114ms/step - loss: 0.0121 - mae: 0.0121 - mse: 4.0365e-04 - val_loss: 0.0104 - val_mae: 0.0104 - val_mse: 2.3154e-04 - learning_rate: 0.0100\n",
      "Epoch 2/50\n",
      "\u001b[1m1367/1367\u001b[0m \u001b[32m━━━━━━━━━━━━━━━━━━━━\u001b[0m\u001b[37m\u001b[0m \u001b[1m0s\u001b[0m 107ms/step - loss: 0.0114 - mae: 0.0114 - mse: 3.2125e-04\n",
      "Epoch 2: val_loss did not improve from 0.01042\n",
      "\u001b[1m1367/1367\u001b[0m \u001b[32m━━━━━━━━━━━━━━━━━━━━\u001b[0m\u001b[37m\u001b[0m \u001b[1m153s\u001b[0m 112ms/step - loss: 0.0114 - mae: 0.0114 - mse: 3.2125e-04 - val_loss: 0.0112 - val_mae: 0.0112 - val_mse: 2.5263e-04 - learning_rate: 0.0100\n",
      "Epoch 3/50\n",
      "\n",
      "Epoch 2: val_loss did not improve from 0.01042\n",
      "\u001b[1m1367/1367\u001b[0m \u001b[32m━━━━━━━━━━━━━━━━━━━━\u001b[0m\u001b[37m\u001b[0m \u001b[1m153s\u001b[0m 112ms/step - loss: 0.0114 - mae: 0.0114 - mse: 3.2125e-04 - val_loss: 0.0112 - val_mae: 0.0112 - val_mse: 2.5263e-04 - learning_rate: 0.0100\n",
      "Epoch 3/50\n",
      "\u001b[1m1367/1367\u001b[0m \u001b[32m━━━━━━━━━━━━━━━━━━━━\u001b[0m\u001b[37m\u001b[0m \u001b[1m0s\u001b[0m 108ms/step - loss: 0.0114 - mae: 0.0114 - mse: 3.2064e-04\n",
      "Epoch 3: val_loss did not improve from 0.01042\n",
      "\u001b[1m1367/1367\u001b[0m \u001b[32m━━━━━━━━━━━━━━━━━━━━\u001b[0m\u001b[37m\u001b[0m \u001b[1m154s\u001b[0m 113ms/step - loss: 0.0114 - mae: 0.0114 - mse: 3.2064e-04 - val_loss: 0.0104 - val_mae: 0.0104 - val_mse: 2.3215e-04 - learning_rate: 0.0100\n",
      "Epoch 4/50\n",
      "\n",
      "Epoch 3: val_loss did not improve from 0.01042\n",
      "\u001b[1m1367/1367\u001b[0m \u001b[32m━━━━━━━━━━━━━━━━━━━━\u001b[0m\u001b[37m\u001b[0m \u001b[1m154s\u001b[0m 113ms/step - loss: 0.0114 - mae: 0.0114 - mse: 3.2064e-04 - val_loss: 0.0104 - val_mae: 0.0104 - val_mse: 2.3215e-04 - learning_rate: 0.0100\n",
      "Epoch 4/50\n",
      "\u001b[1m1367/1367\u001b[0m \u001b[32m━━━━━━━━━━━━━━━━━━━━\u001b[0m\u001b[37m\u001b[0m \u001b[1m0s\u001b[0m 108ms/step - loss: 0.0114 - mae: 0.0114 - mse: 3.2134e-04\n",
      "Epoch 4: val_loss did not improve from 0.01042\n",
      "\u001b[1m1367/1367\u001b[0m \u001b[32m━━━━━━━━━━━━━━━━━━━━\u001b[0m\u001b[37m\u001b[0m \u001b[1m154s\u001b[0m 113ms/step - loss: 0.0114 - mae: 0.0114 - mse: 3.2134e-04 - val_loss: 0.0105 - val_mae: 0.0105 - val_mse: 2.3426e-04 - learning_rate: 0.0100\n",
      "Epoch 5/50\n",
      "\n",
      "Epoch 4: val_loss did not improve from 0.01042\n",
      "\u001b[1m1367/1367\u001b[0m \u001b[32m━━━━━━━━━━━━━━━━━━━━\u001b[0m\u001b[37m\u001b[0m \u001b[1m154s\u001b[0m 113ms/step - loss: 0.0114 - mae: 0.0114 - mse: 3.2134e-04 - val_loss: 0.0105 - val_mae: 0.0105 - val_mse: 2.3426e-04 - learning_rate: 0.0100\n",
      "Epoch 5/50\n",
      "\u001b[1m1367/1367\u001b[0m \u001b[32m━━━━━━━━━━━━━━━━━━━━\u001b[0m\u001b[37m\u001b[0m \u001b[1m0s\u001b[0m 112ms/step - loss: 0.0114 - mae: 0.0114 - mse: 3.1690e-04\n",
      "Epoch 5: val_loss did not improve from 0.01042\n",
      "\n",
      "Epoch 5: ReduceLROnPlateau reducing learning rate to 0.004999999888241291.\n",
      "\u001b[1m1367/1367\u001b[0m \u001b[32m━━━━━━━━━━━━━━━━━━━━\u001b[0m\u001b[37m\u001b[0m \u001b[1m161s\u001b[0m 118ms/step - loss: 0.0114 - mae: 0.0114 - mse: 3.1691e-04 - val_loss: 0.0104 - val_mae: 0.0104 - val_mse: 2.3234e-04 - learning_rate: 0.0100\n",
      "Epoch 6/50\n",
      "\n",
      "Epoch 5: val_loss did not improve from 0.01042\n",
      "\n",
      "Epoch 5: ReduceLROnPlateau reducing learning rate to 0.004999999888241291.\n",
      "\u001b[1m1367/1367\u001b[0m \u001b[32m━━━━━━━━━━━━━━━━━━━━\u001b[0m\u001b[37m\u001b[0m \u001b[1m161s\u001b[0m 118ms/step - loss: 0.0114 - mae: 0.0114 - mse: 3.1691e-04 - val_loss: 0.0104 - val_mae: 0.0104 - val_mse: 2.3234e-04 - learning_rate: 0.0100\n",
      "Epoch 6/50\n",
      "\u001b[1m1367/1367\u001b[0m \u001b[32m━━━━━━━━━━━━━━━━━━━━\u001b[0m\u001b[37m\u001b[0m \u001b[1m0s\u001b[0m 113ms/step - loss: 0.0114 - mae: 0.0114 - mse: 3.2556e-04\n",
      "Epoch 6: val_loss improved from 0.01042 to 0.01039, saving model to results/models/lstm.regression.keras\n",
      "\n",
      "Epoch 6: val_loss improved from 0.01042 to 0.01039, saving model to results/models/lstm.regression.keras\n",
      "\u001b[1m1367/1367\u001b[0m \u001b[32m━━━━━━━━━━━━━━━━━━━━\u001b[0m\u001b[37m\u001b[0m \u001b[1m163s\u001b[0m 119ms/step - loss: 0.0114 - mae: 0.0114 - mse: 3.2556e-04 - val_loss: 0.0104 - val_mae: 0.0104 - val_mse: 2.3075e-04 - learning_rate: 0.0050\n",
      "Epoch 7/50\n",
      "\u001b[1m1367/1367\u001b[0m \u001b[32m━━━━━━━━━━━━━━━━━━━━\u001b[0m\u001b[37m\u001b[0m \u001b[1m163s\u001b[0m 119ms/step - loss: 0.0114 - mae: 0.0114 - mse: 3.2556e-04 - val_loss: 0.0104 - val_mae: 0.0104 - val_mse: 2.3075e-04 - learning_rate: 0.0050\n",
      "Epoch 7/50\n",
      "\u001b[1m1367/1367\u001b[0m \u001b[32m━━━━━━━━━━━━━━━━━━━━\u001b[0m\u001b[37m\u001b[0m \u001b[1m0s\u001b[0m 112ms/step - loss: 0.0113 - mae: 0.0113 - mse: 3.2402e-04\n",
      "Epoch 7: val_loss did not improve from 0.01039\n",
      "\u001b[1m1367/1367\u001b[0m \u001b[32m━━━━━━━━━━━━━━━━━━━━\u001b[0m\u001b[37m\u001b[0m \u001b[1m161s\u001b[0m 118ms/step - loss: 0.0113 - mae: 0.0113 - mse: 3.2402e-04 - val_loss: 0.0104 - val_mae: 0.0104 - val_mse: 2.3080e-04 - learning_rate: 0.0050\n",
      "Epoch 8/50\n",
      "\n",
      "Epoch 7: val_loss did not improve from 0.01039\n",
      "\u001b[1m1367/1367\u001b[0m \u001b[32m━━━━━━━━━━━━━━━━━━━━\u001b[0m\u001b[37m\u001b[0m \u001b[1m161s\u001b[0m 118ms/step - loss: 0.0113 - mae: 0.0113 - mse: 3.2402e-04 - val_loss: 0.0104 - val_mae: 0.0104 - val_mse: 2.3080e-04 - learning_rate: 0.0050\n",
      "Epoch 8/50\n",
      "\u001b[1m1367/1367\u001b[0m \u001b[32m━━━━━━━━━━━━━━━━━━━━\u001b[0m\u001b[37m\u001b[0m \u001b[1m0s\u001b[0m 111ms/step - loss: 0.0113 - mae: 0.0113 - mse: 3.1966e-04\n",
      "Epoch 8: val_loss did not improve from 0.01039\n",
      "\u001b[1m1367/1367\u001b[0m \u001b[32m━━━━━━━━━━━━━━━━━━━━\u001b[0m\u001b[37m\u001b[0m \u001b[1m159s\u001b[0m 116ms/step - loss: 0.0113 - mae: 0.0113 - mse: 3.1966e-04 - val_loss: 0.0104 - val_mae: 0.0104 - val_mse: 2.3132e-04 - learning_rate: 0.0050\n",
      "Epoch 9/50\n",
      "\n",
      "Epoch 8: val_loss did not improve from 0.01039\n",
      "\u001b[1m1367/1367\u001b[0m \u001b[32m━━━━━━━━━━━━━━━━━━━━\u001b[0m\u001b[37m\u001b[0m \u001b[1m159s\u001b[0m 116ms/step - loss: 0.0113 - mae: 0.0113 - mse: 3.1966e-04 - val_loss: 0.0104 - val_mae: 0.0104 - val_mse: 2.3132e-04 - learning_rate: 0.0050\n",
      "Epoch 9/50\n",
      "\u001b[1m1367/1367\u001b[0m \u001b[32m━━━━━━━━━━━━━━━━━━━━\u001b[0m\u001b[37m\u001b[0m \u001b[1m0s\u001b[0m 108ms/step - loss: 0.0114 - mae: 0.0114 - mse: 3.4070e-04\n",
      "Epoch 9: val_loss did not improve from 0.01039\n",
      "\n",
      "Epoch 9: ReduceLROnPlateau reducing learning rate to 0.0024999999441206455.\n",
      "\u001b[1m1367/1367\u001b[0m \u001b[32m━━━━━━━━━━━━━━━━━━━━\u001b[0m\u001b[37m\u001b[0m \u001b[1m154s\u001b[0m 113ms/step - loss: 0.0114 - mae: 0.0114 - mse: 3.4069e-04 - val_loss: 0.0105 - val_mae: 0.0105 - val_mse: 2.3257e-04 - learning_rate: 0.0050\n",
      "Epoch 10/50\n",
      "\n",
      "Epoch 9: val_loss did not improve from 0.01039\n",
      "\n",
      "Epoch 9: ReduceLROnPlateau reducing learning rate to 0.0024999999441206455.\n",
      "\u001b[1m1367/1367\u001b[0m \u001b[32m━━━━━━━━━━━━━━━━━━━━\u001b[0m\u001b[37m\u001b[0m \u001b[1m154s\u001b[0m 113ms/step - loss: 0.0114 - mae: 0.0114 - mse: 3.4069e-04 - val_loss: 0.0105 - val_mae: 0.0105 - val_mse: 2.3257e-04 - learning_rate: 0.0050\n",
      "Epoch 10/50\n",
      "\u001b[1m1367/1367\u001b[0m \u001b[32m━━━━━━━━━━━━━━━━━━━━\u001b[0m\u001b[37m\u001b[0m \u001b[1m0s\u001b[0m 111ms/step - loss: 0.0114 - mae: 0.0114 - mse: 3.2638e-04\n",
      "Epoch 10: val_loss did not improve from 0.01039\n",
      "\u001b[1m1367/1367\u001b[0m \u001b[32m━━━━━━━━━━━━━━━━━━━━\u001b[0m\u001b[37m\u001b[0m \u001b[1m158s\u001b[0m 116ms/step - loss: 0.0114 - mae: 0.0114 - mse: 3.2638e-04 - val_loss: 0.0104 - val_mae: 0.0104 - val_mse: 2.3083e-04 - learning_rate: 0.0025\n",
      "Epoch 11/50\n",
      "\n",
      "Epoch 10: val_loss did not improve from 0.01039\n",
      "\u001b[1m1367/1367\u001b[0m \u001b[32m━━━━━━━━━━━━━━━━━━━━\u001b[0m\u001b[37m\u001b[0m \u001b[1m158s\u001b[0m 116ms/step - loss: 0.0114 - mae: 0.0114 - mse: 3.2638e-04 - val_loss: 0.0104 - val_mae: 0.0104 - val_mse: 2.3083e-04 - learning_rate: 0.0025\n",
      "Epoch 11/50\n",
      "\u001b[1m1367/1367\u001b[0m \u001b[32m━━━━━━━━━━━━━━━━━━━━\u001b[0m\u001b[37m\u001b[0m \u001b[1m0s\u001b[0m 107ms/step - loss: 0.0113 - mae: 0.0113 - mse: 3.1715e-04\n",
      "Epoch 11: val_loss did not improve from 0.01039\n",
      "\u001b[1m1367/1367\u001b[0m \u001b[32m━━━━━━━━━━━━━━━━━━━━\u001b[0m\u001b[37m\u001b[0m \u001b[1m152s\u001b[0m 111ms/step - loss: 0.0113 - mae: 0.0113 - mse: 3.1715e-04 - val_loss: 0.0105 - val_mae: 0.0105 - val_mse: 2.3200e-04 - learning_rate: 0.0025\n",
      "Epoch 12/50\n",
      "\n",
      "Epoch 11: val_loss did not improve from 0.01039\n",
      "\u001b[1m1367/1367\u001b[0m \u001b[32m━━━━━━━━━━━━━━━━━━━━\u001b[0m\u001b[37m\u001b[0m \u001b[1m152s\u001b[0m 111ms/step - loss: 0.0113 - mae: 0.0113 - mse: 3.1715e-04 - val_loss: 0.0105 - val_mae: 0.0105 - val_mse: 2.3200e-04 - learning_rate: 0.0025\n",
      "Epoch 12/50\n",
      "\u001b[1m1367/1367\u001b[0m \u001b[32m━━━━━━━━━━━━━━━━━━━━\u001b[0m\u001b[37m\u001b[0m \u001b[1m0s\u001b[0m 111ms/step - loss: 0.0113 - mae: 0.0113 - mse: 3.2277e-04\n",
      "Epoch 12: val_loss did not improve from 0.01039\n",
      "\u001b[1m1367/1367\u001b[0m \u001b[32m━━━━━━━━━━━━━━━━━━━━\u001b[0m\u001b[37m\u001b[0m \u001b[1m160s\u001b[0m 117ms/step - loss: 0.0113 - mae: 0.0113 - mse: 3.2277e-04 - val_loss: 0.0104 - val_mae: 0.0104 - val_mse: 2.3134e-04 - learning_rate: 0.0025\n",
      "Epoch 13/50\n",
      "\n",
      "Epoch 12: val_loss did not improve from 0.01039\n",
      "\u001b[1m1367/1367\u001b[0m \u001b[32m━━━━━━━━━━━━━━━━━━━━\u001b[0m\u001b[37m\u001b[0m \u001b[1m160s\u001b[0m 117ms/step - loss: 0.0113 - mae: 0.0113 - mse: 3.2277e-04 - val_loss: 0.0104 - val_mae: 0.0104 - val_mse: 2.3134e-04 - learning_rate: 0.0025\n",
      "Epoch 13/50\n",
      "\u001b[1m1367/1367\u001b[0m \u001b[32m━━━━━━━━━━━━━━━━━━━━\u001b[0m\u001b[37m\u001b[0m \u001b[1m0s\u001b[0m 109ms/step - loss: 0.0113 - mae: 0.0113 - mse: 3.1457e-04\n",
      "Epoch 13: val_loss did not improve from 0.01039\n",
      "\n",
      "Epoch 13: ReduceLROnPlateau reducing learning rate to 0.0012499999720603228.\n",
      "\u001b[1m1367/1367\u001b[0m \u001b[32m━━━━━━━━━━━━━━━━━━━━\u001b[0m\u001b[37m\u001b[0m \u001b[1m156s\u001b[0m 114ms/step - loss: 0.0113 - mae: 0.0113 - mse: 3.1457e-04 - val_loss: 0.0105 - val_mae: 0.0105 - val_mse: 2.3523e-04 - learning_rate: 0.0025\n",
      "Epoch 14/50\n",
      "\n",
      "Epoch 13: val_loss did not improve from 0.01039\n",
      "\n",
      "Epoch 13: ReduceLROnPlateau reducing learning rate to 0.0012499999720603228.\n",
      "\u001b[1m1367/1367\u001b[0m \u001b[32m━━━━━━━━━━━━━━━━━━━━\u001b[0m\u001b[37m\u001b[0m \u001b[1m156s\u001b[0m 114ms/step - loss: 0.0113 - mae: 0.0113 - mse: 3.1457e-04 - val_loss: 0.0105 - val_mae: 0.0105 - val_mse: 2.3523e-04 - learning_rate: 0.0025\n",
      "Epoch 14/50\n",
      "\u001b[1m1367/1367\u001b[0m \u001b[32m━━━━━━━━━━━━━━━━━━━━\u001b[0m\u001b[37m\u001b[0m \u001b[1m0s\u001b[0m 108ms/step - loss: 0.0114 - mae: 0.0114 - mse: 3.2825e-04\n",
      "Epoch 14: val_loss did not improve from 0.01039\n",
      "\u001b[1m1367/1367\u001b[0m \u001b[32m━━━━━━━━━━━━━━━━━━━━\u001b[0m\u001b[37m\u001b[0m \u001b[1m155s\u001b[0m 113ms/step - loss: 0.0114 - mae: 0.0114 - mse: 3.2824e-04 - val_loss: 0.0104 - val_mae: 0.0104 - val_mse: 2.3075e-04 - learning_rate: 0.0012\n",
      "\n",
      "Epoch 14: val_loss did not improve from 0.01039\n",
      "\u001b[1m1367/1367\u001b[0m \u001b[32m━━━━━━━━━━━━━━━━━━━━\u001b[0m\u001b[37m\u001b[0m \u001b[1m155s\u001b[0m 113ms/step - loss: 0.0114 - mae: 0.0114 - mse: 3.2824e-04 - val_loss: 0.0104 - val_mae: 0.0104 - val_mse: 2.3075e-04 - learning_rate: 0.0012\n"
     ]
    }
   ],
   "source": [
    "# Improved training with better validation\n",
    "training = rnn.fit(\n",
    "    [X_tr, A_tr], y_tr,\n",
    "    epochs=50,\n",
    "    batch_size=128,  # Reduced batch size for better convergence\n",
    "    validation_data=([X_va, A_va], y_va),  # Use validation set instead of test\n",
    "    callbacks=[early_stopping, checkpointer, lr_reducer],\n",
    "    verbose=1,\n",
    "    shuffle=True  # Enable shuffling for better training\n",
    ")"
   ]
  },
  {
   "cell_type": "markdown",
   "id": "cb2f9b75",
   "metadata": {},
   "source": [
    "\n",
    "## Evaluate\n"
   ]
  },
  {
   "cell_type": "code",
   "execution_count": 99,
   "id": "22bc7c0b",
   "metadata": {},
   "outputs": [
    {
     "data": {
      "image/png": "[encoded data removed]",
      "text/plain": [
       "<Figure size 640x480 with 1 Axes>"
      ]
     },
     "metadata": {},
     "output_type": "display_data"
    }
   ],
   "source": [
    "plt.plot(training.history['loss'], label='train loss')\n",
    "plt.plot(training.history['val_loss'], label='val loss')\n",
    "plt.legend()\n",
    "plt.show()"
   ]
  },
  {
   "cell_type": "code",
   "execution_count": 100,
   "id": "78f0a0b8",
   "metadata": {},
   "outputs": [
    {
     "name": "stdout",
     "output_type": "stream",
     "text": [
      "val_metrics: [0.010394318960607052, 0.010394318960607052, 0.00023075190256349742] test_metrics: [0.009781606495380402, 0.009781606495380402, 0.00020069387392140925]\n"
     ]
    }
   ],
   "source": [
    "val_metrics = rnn.evaluate({\"Returns\": X_va, \"Tickers\": A_va}, y_va,verbose=0)\n",
    "test_metrics = rnn.evaluate({\"Returns\": X_te, \"Tickers\": A_te}, y_te, verbose=0)\n",
    "print(f\"val_metrics: {val_metrics} test_metrics: {test_metrics}\")"
   ]
  },
  {
   "cell_type": "code",
   "execution_count": 104,
   "id": "07579a4c",
   "metadata": {},
   "outputs": [
    {
     "name": "stdout",
     "output_type": "stream",
     "text": [
      "💾 Saving trained model...\n",
      "✅ Model saved to:\n",
      "   - results/models/lstm_trained_final.keras\n",
      "   - results/models/lstm_weights_final.h5\n",
      "   - results/models/lstm.regression.keras (for backtest)\n"
     ]
    }
   ],
   "source": [
    "# 💾 Explicitly save the trained model\n",
    "print(\"💾 Saving trained model...\")\n",
    "\n",
    "# Save the model in multiple formats for safety\n",
    "rnn.save('results/models/lstm_trained_final.keras')\n",
    "\n",
    "# Also save to the original path to ensure backtest works\n",
    "rnn.save('results/models/lstm.regression.keras')\n",
    "\n",
    "print(\"✅ Model saved to:\")\n",
    "print(\"   - results/models/lstm_trained_final.keras\")\n",
    "print(\"   - results/models/lstm_weights_final.h5\") \n",
    "print(\"   - results/models/lstm.regression.keras (for backtest)\")"
   ]
  },
  {
   "cell_type": "code",
   "execution_count": 105,
   "id": "b7a9d7c4",
   "metadata": {},
   "outputs": [
    {
     "name": "stdout",
     "output_type": "stream",
     "text": [
      "\n",
      "🎯 Model Performance Comparison:\n",
      "Model MAE: 0.0098 (0.98%)\n",
      "Zero MAE: 0.0098 (0.98%)\n",
      "Mean MAE: 0.0098 (0.98%)\n",
      "\n",
      "🚀 Model Improvements:\n",
      "vs Zero:  -0.0%\n",
      "vs Mean:  -0.0%\n",
      "❌ Model worse than always-zero - needs more work\n"
     ]
    }
   ],
   "source": [
    "# 📊 Compare with simple baselines\n",
    "print(\"\\n🎯 Model Performance Comparison:\")\n",
    "print(f\"Model MAE: {test_metrics[0]:.4f} ({test_metrics[0]*100:.2f}%)\")\n",
    "\n",
    "# Baseline 1: Always predict zero (naive)\n",
    "zero_mae = np.abs(y_te).mean()\n",
    "print(f\"Zero MAE: {zero_mae:.4f} ({zero_mae*100:.2f}%)\")\n",
    "\n",
    "# Baseline 2: Always predict mean\n",
    "mean_pred_mae = np.abs(y_te - y_tr.mean()).mean()\n",
    "print(f\"Mean MAE: {mean_pred_mae:.4f} ({mean_pred_mae*100:.2f}%)\")\n",
    "\n",
    "# Improvement metrics\n",
    "print(f\"\\n🚀 Model Improvements:\")\n",
    "print(f\"vs Zero:  {((zero_mae - test_metrics[0]) / zero_mae * 100):+.1f}%\")\n",
    "print(f\"vs Mean:  {((mean_pred_mae - test_metrics[0]) / mean_pred_mae * 100):+.1f}%\")\n",
    "\n",
    "if test_metrics[0] < zero_mae:\n",
    "    print(\"✅ Model beats always-zero prediction!\")\n",
    "else:\n",
    "    print(\"❌ Model worse than always-zero - needs more work\")"
   ]
  },
  {
   "cell_type": "code",
   "execution_count": 106,
   "id": "25bbe061",
   "metadata": {},
   "outputs": [
    {
     "name": "stdout",
     "output_type": "stream",
     "text": [
      "🔍 Checking model predictions to confirm the issue...\n",
      "Prediction stats:\n",
      "  Min: 0.000294\n",
      "  Max: 0.000294\n",
      "  Mean: 0.000294\n",
      "  Std: 0.000000\n",
      "  Unique values: 1\n",
      "\n",
      "First 10 predictions: [0.00029386 0.00029386 0.00029386 0.00029386 0.00029386 0.00029386\n",
      " 0.00029386 0.00029386 0.00029386 0.00029386]\n",
      "Are all predictions the same? True\n",
      "\n",
      "📊 Sequence feature stats (should be normalized if done correctly):\n",
      "  price_pct_change: mean=0.000055, std=0.010411\n",
      "  volume_pct_change: mean=0.683254, std=121.255995\n"
     ]
    }
   ],
   "source": [
    "# 🔍 DEBUG: Check actual model predictions\n",
    "print(\"🔍 Checking model predictions to confirm the issue...\")\n",
    "test_preds = rnn.predict({\"Returns\": X_te[:100], \"Tickers\": A_te[:100]}, verbose=0)\n",
    "\n",
    "print(f\"Prediction stats:\")\n",
    "print(f\"  Min: {test_preds.min():.6f}\")\n",
    "print(f\"  Max: {test_preds.max():.6f}\") \n",
    "print(f\"  Mean: {test_preds.mean():.6f}\")\n",
    "print(f\"  Std: {test_preds.std():.6f}\")\n",
    "print(f\"  Unique values: {len(np.unique(np.round(test_preds, 6)))}\")\n",
    "\n",
    "print(f\"\\nFirst 10 predictions: {test_preds[:10, 0]}\")\n",
    "print(f\"Are all predictions the same? {np.allclose(test_preds, test_preds[0])}\")\n",
    "\n",
    "# Check if sequences were created with normalized features\n",
    "print(f\"\\n📊 Sequence feature stats (should be normalized if done correctly):\")\n",
    "for i, feat in enumerate(FEATURES):\n",
    "    feat_data = X_tr[:, :, i]\n",
    "    print(f\"  {feat}: mean={feat_data.mean():.6f}, std={feat_data.std():.6f}\")"
   ]
  },
  {
   "cell_type": "code",
   "execution_count": 108,
   "id": "5a4cf87f",
   "metadata": {},
   "outputs": [
    {
     "name": "stdout",
     "output_type": "stream",
     "text": [
      "🔍 Checking for data quality issues...\n",
      "\n",
      "price_pct_change:\n",
      "  NaN count: 0\n",
      "  Inf count: 0\n",
      "  Min: -21.47678952807513\n",
      "  Max: 60.85389124042518\n",
      "  Mean: 0.005897\n",
      "  Std: 1.229927\n",
      "\n",
      "volume_pct_change:\n",
      "  NaN count: 0\n",
      "  Inf count: 0\n",
      "  Min: -1.1142851237095774\n",
      "  Max: 58013.87391484621\n",
      "  Mean: 0.807004\n",
      "  Std: 138.011445\n",
      "  Extreme values (>1000): 1\n",
      "  Sample extreme values: [58013.87391485]\n",
      "\n",
      "🔍 Volume analysis:\n",
      "Original volume stats:\n",
      "  Min: 0.0\n",
      "  Max: 1794448438623.0\n",
      "  Zero volume count: 3\n",
      "  Near-zero volume (<1e-10): 3\n",
      "Volume <= 1e-8: 3 rows (0.0%)\n"
     ]
    }
   ],
   "source": [
    "# 🔍 DEBUG: Check for infinite/NaN values causing the error\n",
    "print(\"🔍 Checking for data quality issues...\")\n",
    "\n",
    "for col in ['price_pct_change', 'volume_pct_change']:\n",
    "    print(f\"\\n{col}:\")\n",
    "    print(f\"  NaN count: {train[col].isna().sum()}\")\n",
    "    print(f\"  Inf count: {np.isinf(train[col]).sum()}\")\n",
    "    print(f\"  Min: {train[col].min()}\")\n",
    "    print(f\"  Max: {train[col].max()}\")\n",
    "    print(f\"  Mean: {train[col].mean():.6f}\")\n",
    "    print(f\"  Std: {train[col].std():.6f}\")\n",
    "    \n",
    "    # Check for extreme values\n",
    "    extreme = train[col].abs() > 1000\n",
    "    if extreme.sum() > 0:\n",
    "        print(f\"  Extreme values (>1000): {extreme.sum()}\")\n",
    "        print(f\"  Sample extreme values: {train[col][extreme].head().values}\")\n",
    "\n",
    "# Check what's causing volume_pct_change to be so extreme\n",
    "print(f\"\\n🔍 Volume analysis:\")\n",
    "print(f\"Original volume stats:\")\n",
    "print(f\"  Min: {long['volume'].min()}\")\n",
    "print(f\"  Max: {long['volume'].max()}\")\n",
    "print(f\"  Zero volume count: {(long['volume'] == 0).sum()}\")\n",
    "print(f\"  Near-zero volume (<1e-10): {(long['volume'] < 1e-10).sum()}\")\n",
    "\n",
    "# The problem: pct_change from 0 or very small numbers creates infinite values!\n",
    "zero_volume_mask = long['volume'] <= 1e-8\n",
    "print(f\"Volume <= 1e-8: {zero_volume_mask.sum()} rows ({zero_volume_mask.mean():.1%})\")"
   ]
  },
  {
   "cell_type": "code",
   "execution_count": 109,
   "id": "439fa737",
   "metadata": {},
   "outputs": [
    {
     "name": "stdout",
     "output_type": "stream",
     "text": [
      "🔧 Fixing extreme outliers in percentage changes...\n",
      "Before capping:\n",
      "  volume_pct_change max: 58013.87\n",
      "  price_pct_change max: 60.85\n",
      "\n",
      "Applying caps: volume ±11.16, price ±4.59\n",
      "\n",
      "After capping:\n",
      "  volume_pct_change max: 11.16\n",
      "  price_pct_change max: 4.59\n",
      "  volume_pct_change std: 1.50\n",
      "  price_pct_change std: 1.11\n",
      "✅ Extreme outliers capped - features should be much better balanced now!\n"
     ]
    }
   ],
   "source": [
    "# 🔧 FIX: Cap extreme percentage changes (better than normalization)\n",
    "print(\"🔧 Fixing extreme outliers in percentage changes...\")\n",
    "\n",
    "def cap_outliers(df, col, cap_percentile=99.5):\n",
    "    \"\"\"Cap extreme values at the specified percentile\"\"\"\n",
    "    lower_cap = df[col].quantile((100 - cap_percentile) / 100)\n",
    "    upper_cap = df[col].quantile(cap_percentile / 100)\n",
    "    \n",
    "    before_extreme = (df[col].abs() > upper_cap).sum()\n",
    "    df[col] = df[col].clip(lower_cap, upper_cap)\n",
    "    after_extreme = (df[col].abs() > upper_cap).sum()\n",
    "    \n",
    "    print(f\"  {col}: capped {before_extreme} extreme values (>{upper_cap:.2f}) to ±{upper_cap:.2f}\")\n",
    "    return df\n",
    "\n",
    "# Cap outliers in all splits using train-derived caps\n",
    "print(\"Before capping:\")\n",
    "print(f\"  volume_pct_change max: {train['volume_pct_change'].max():.2f}\")\n",
    "print(f\"  price_pct_change max: {train['price_pct_change'].max():.2f}\")\n",
    "\n",
    "# Get caps from training data\n",
    "vol_cap = train['volume_pct_change'].quantile(0.995)\n",
    "price_cap = train['price_pct_change'].quantile(0.995) \n",
    "vol_cap_low = train['volume_pct_change'].quantile(0.005)\n",
    "price_cap_low = train['price_pct_change'].quantile(0.005)\n",
    "\n",
    "print(f\"\\nApplying caps: volume ±{vol_cap:.2f}, price ±{price_cap:.2f}\")\n",
    "\n",
    "# Apply to all splits\n",
    "for df_name, df in [('train', train), ('val', val), ('test', test)]:\n",
    "    df['volume_pct_change'] = df['volume_pct_change'].clip(vol_cap_low, vol_cap)\n",
    "    df['price_pct_change'] = df['price_pct_change'].clip(price_cap_low, price_cap)\n",
    "\n",
    "print(f\"\\nAfter capping:\")\n",
    "print(f\"  volume_pct_change max: {train['volume_pct_change'].max():.2f}\")  \n",
    "print(f\"  price_pct_change max: {train['price_pct_change'].max():.2f}\")\n",
    "print(f\"  volume_pct_change std: {train['volume_pct_change'].std():.2f}\")\n",
    "print(f\"  price_pct_change std: {train['price_pct_change'].std():.2f}\")\n",
    "\n",
    "print(\"✅ Extreme outliers capped - features should be much better balanced now!\")"
   ]
  },
  {
   "cell_type": "code",
   "execution_count": 110,
   "id": "1a4d696f",
   "metadata": {},
   "outputs": [
    {
     "name": "stdout",
     "output_type": "stream",
     "text": [
      "🔄 Regenerating sequences with outlier-capped features...\n",
      "New sequence shapes: (174876, 96, 2) (35960, 96, 2) (35980, 96, 2)\n",
      "\n",
      "📊 Fixed sequence feature stats:\n",
      "  price_pct_change: mean=0.004890, std=1.113828\n",
      "  volume_pct_change: mean=0.407815, std=1.500551\n",
      "✅ Sequences and datasets regenerated with balanced features!\n"
     ]
    }
   ],
   "source": [
    "# 🔄 REGENERATE sequences with fixed features  \n",
    "print(\"🔄 Regenerating sequences with outlier-capped features...\")\n",
    "\n",
    "# Regenerate sequences with the fixed data\n",
    "X_tr, A_tr, y_tr = make_sequences(train, LOOKBACK_L)\n",
    "X_va, A_va, y_va = make_sequences(val, LOOKBACK_L) \n",
    "X_te, A_te, y_te = make_sequences(test, LOOKBACK_L)\n",
    "\n",
    "print(\"New sequence shapes:\", X_tr.shape, X_va.shape, X_te.shape)\n",
    "\n",
    "# Check the new feature balance in sequences\n",
    "print(f\"\\n📊 Fixed sequence feature stats:\")\n",
    "for i, feat in enumerate(FEATURES):\n",
    "    feat_data = X_tr[:, :, i]\n",
    "    print(f\"  {feat}: mean={feat_data.mean():.6f}, std={feat_data.std():.6f}\")\n",
    "\n",
    "# Regenerate datasets\n",
    "train_ds = make_ds(X_tr, A_tr, y_tr, batch=256, shuffle=True)\n",
    "val_ds = make_ds(X_va, A_va, y_va, batch=512, shuffle=False) \n",
    "test_ds = make_ds(X_te, A_te, y_te, batch=512, shuffle=False)\n",
    "\n",
    "print(\"✅ Sequences and datasets regenerated with balanced features!\")"
   ]
  },
  {
   "cell_type": "code",
   "execution_count": null,
   "id": "30e808f8",
   "metadata": {},
   "outputs": [],
   "source": [
    "# 🚀 RETRAIN model with balanced features\n",
    "print(\"🚀 Retraining model with properly balanced features...\")\n",
    "\n",
    "# Reset the model to fresh state\n",
    "rnn = Model(inputs=[returns, tickers], outputs=output)\n",
    "rnn.compile(\n",
    "    loss='mae',\n",
    "    optimizer=tf.keras.optimizers.Adam(learning_rate=0.01, clipnorm=1.0),\n",
    "    metrics=['mae', 'mse']\n",
    ")\n",
    "\n",
    "# Retrain with balanced data\n",
    "print(\"Training with balanced features...\")\n",
    "training = rnn.fit(\n",
    "    [X_tr, A_tr], y_tr,\n",
    "    epochs=50,\n",
    "    batch_size=128, \n",
    "    validation_data=([X_va, A_va], y_va),\n",
    "    callbacks=[early_stopping, checkpointer, lr_reducer],\n",
    "    verbose=1,\n",
    "    shuffle=True\n",
    ")"
   ]
  }
 ],
 "metadata": {
  "kernelspec": {
   "display_name": "Python 3",
   "language": "python",
   "name": "python3"
  },
  "language_info": {
   "codemirror_mode": {
    "name": "ipython",
    "version": 3
   },
   "file_extension": ".py",
   "mimetype": "text/x-python",
   "name": "python",
   "nbconvert_exporter": "python",
   "pygments_lexer": "ipython3",
   "version": "3.12.7"
  }
 },
 "nbformat": 4,
 "nbformat_minor": 5
}
