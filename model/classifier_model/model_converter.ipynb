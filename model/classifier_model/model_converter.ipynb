{
 "cells": [
  {
   "cell_type": "code",
   "execution_count": 51,
   "metadata": {},
   "outputs": [],
   "source": [
    "import tf2onnx\n",
    "import tensorflow as tf\n",
    "import onnx\n",
    "import scipy.sparse.linalg"
   ]
  },
  {
   "cell_type": "code",
   "execution_count": 52,
   "metadata": {},
   "outputs": [],
   "source": [
    "# Load the model\n",
    "model = tf.keras.models.load_model(\"models/model.keras\")"
   ]
  },
  {
   "cell_type": "code",
   "execution_count": 53,
   "metadata": {},
   "outputs": [
    {
     "name": "stderr",
     "output_type": "stream",
     "text": [
      "I0000 00:00:1746757014.591859 7599304 devices.cc:76] Number of eligible GPUs (core count >= 8, compute capability >= 0.0): 0 (Note: TensorFlow was not compiled with CUDA or ROCm support)\n",
      "I0000 00:00:1746757014.592659 7599304 single_machine.cc:361] Starting new session\n",
      "I0000 00:00:1746757014.781581 7599304 devices.cc:76] Number of eligible GPUs (core count >= 8, compute capability >= 0.0): 0 (Note: TensorFlow was not compiled with CUDA or ROCm support)\n",
      "I0000 00:00:1746757014.781685 7599304 single_machine.cc:361] Starting new session\n"
     ]
    }
   ],
   "source": [
    "# Convert Sequential model to Functional model\n",
    "inputs = tf.keras.Input(shape=model.input_shape[1:], name=\"input_layer\")\n",
    "outputs = model(inputs)\n",
    "functional_model = tf.keras.Model(inputs, outputs, name=\"functional_model\")\n",
    "\n",
    "# Define explicit input signature\n",
    "input_signature = [tf.TensorSpec([None] + list(functional_model.input_shape[1:]), tf.float32, name=\"input\")]\n",
    "\n",
    "# Convert to ONNX\n",
    "onnx_model, _ = tf2onnx.convert.from_keras(functional_model, opset=13, input_signature=input_signature)\n"
   ]
  },
  {
   "cell_type": "code",
   "execution_count": 54,
   "metadata": {},
   "outputs": [],
   "source": [
    "onnx.save(onnx_model, \"models/model.onnx\")"
   ]
  },
  {
   "cell_type": "markdown",
   "metadata": {},
   "source": [
    "### IMPORTANT: Check this! If the input name is different in the ModelInvoker.cs, there will be an issue"
   ]
  },
  {
   "cell_type": "code",
   "execution_count": 55,
   "metadata": {},
   "outputs": [
    {
     "name": "stdout",
     "output_type": "stream",
     "text": [
      "Input Name: input\n"
     ]
    }
   ],
   "source": [
    "# Print model inputs\n",
    "for input in onnx_model.graph.input:\n",
    "    print(f\"Input Name: {input.name}\")\n"
   ]
  }
 ],
 "metadata": {
  "kernelspec": {
   "display_name": "Python 3",
   "language": "python",
   "name": "python3"
  },
  "language_info": {
   "codemirror_mode": {
    "name": "ipython",
    "version": 3
   },
   "file_extension": ".py",
   "mimetype": "text/x-python",
   "name": "python",
   "nbconvert_exporter": "python",
   "pygments_lexer": "ipython3",
   "version": "3.12.7"
  }
 },
 "nbformat": 4,
 "nbformat_minor": 2
}
