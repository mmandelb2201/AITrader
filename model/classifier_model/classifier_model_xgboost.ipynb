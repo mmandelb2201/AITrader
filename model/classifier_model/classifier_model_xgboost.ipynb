{
 "cells": [
  {
   "cell_type": "code",
   "execution_count": 12,
   "id": "90fa4fe9",
   "metadata": {},
   "outputs": [],
   "source": [
    "\n",
    "from xgboost import XGBClassifier\n",
    "from sklearn.model_selection import train_test_split\n",
    "from sklearn.metrics import classification_report, accuracy_score\n",
    "import pandas as pd\n",
    "import numpy as np"
   ]
  },
  {
   "cell_type": "code",
   "execution_count": 13,
   "metadata": {},
   "outputs": [],
   "source": [
    "df = pd.read_csv(\"eth_hourly_data.csv\") \n",
    "df['time'] = pd.to_datetime(df['time'], errors='coerce')\n",
    "df = df.dropna(subset=['time'])\n",
    "df.sort_values('time', inplace=True)\n",
    "df.reset_index(drop=True, inplace=True)"
   ]
  },
  {
   "cell_type": "code",
   "execution_count": 14,
   "metadata": {},
   "outputs": [],
   "source": [
    "df['rolling_max_5'] = df['close'].rolling(5).max()\n",
    "df['rolling_min_5'] = df['close'].rolling(5).min()\n",
    "df['sma_5'] = df['close'].rolling(5).mean()\n",
    "df['ema_5'] = df['close'].ewm(span=5).mean()\n",
    "df['open_close_pct'] = (df['close'] - df['open']) / df['open']"
   ]
  },
  {
   "cell_type": "code",
   "execution_count": 15,
   "metadata": {},
   "outputs": [],
   "source": [
    "# --- Future Price Movement Classification Target ---\n",
    "df['future_close'] = df['close'].shift(-1)  # Predicting 3 steps ahead\n",
    "future_return = (df['future_close'] - df['close']) / df['close']\n",
    "df['target'] = ((df['future_close'] - df['close']) / df['close']).apply(lambda x: 1 if x > 0 else 0)\n",
    "\n",
    "# Drop rows with NaNs from rolling calculations\n",
    "df.dropna(inplace=True)"
   ]
  },
  {
   "cell_type": "code",
   "execution_count": 16,
   "metadata": {},
   "outputs": [],
   "source": [
    "features = ['rolling_min_5', 'rolling_max_5', 'ema_5', 'sma_5', 'open_close_pct']"
   ]
  },
  {
   "cell_type": "code",
   "execution_count": 17,
   "metadata": {},
   "outputs": [],
   "source": [
    "threshold = 0.01  # 0.2% change, for example\n",
    "\n",
    "delta = (df['future_close'] - df['close']) / df['close']\n",
    "df['target'] = np.where(delta > threshold, 1, np.where(delta < -threshold, 0, np.nan))"
   ]
  },
  {
   "cell_type": "code",
   "execution_count": 18,
   "metadata": {},
   "outputs": [],
   "source": [
    "X = df[features].values\n",
    "y = df['target'].values\n",
    "\n",
    "filtered_X = []\n",
    "filtered_y = []\n",
    "\n",
    "for i in range(len(X)):\n",
    "    if not np.isnan(y[i]):\n",
    "        filtered_X.append(X[i])\n",
    "        filtered_y.append(y[i])\n",
    "\n",
    "X = np.array(filtered_X)\n",
    "y = np.array(filtered_y)"
   ]
  },
  {
   "cell_type": "code",
   "execution_count": 19,
   "metadata": {},
   "outputs": [
    {
     "name": "stdout",
     "output_type": "stream",
     "text": [
      "Accuracy: 0.47345132743362833\n",
      "Classification Report:\n",
      "               precision    recall  f1-score   support\n",
      "\n",
      "        DOWN       0.49      0.44      0.46       116\n",
      "          UP       0.46      0.51      0.48       110\n",
      "\n",
      "    accuracy                           0.47       226\n",
      "   macro avg       0.47      0.47      0.47       226\n",
      "weighted avg       0.47      0.47      0.47       226\n",
      "\n"
     ]
    },
    {
     "name": "stderr",
     "output_type": "stream",
     "text": [
      "/Library/Frameworks/Python.framework/Versions/3.12/lib/python3.12/site-packages/xgboost/core.py:158: UserWarning: [13:46:34] WARNING: /Users/runner/work/xgboost/xgboost/src/learner.cc:740: \n",
      "Parameters: { \"use_label_encoder\" } are not used.\n",
      "\n",
      "  warnings.warn(smsg, UserWarning)\n"
     ]
    }
   ],
   "source": [
    "# Prepare data (no LSTM reshaping)\n",
    "X = df[features].values\n",
    "y = df['target'].values\n",
    "mask = ~np.isnan(y)\n",
    "X = X[mask]\n",
    "y = y[mask]\n",
    "\n",
    "X_train, X_test, y_train, y_test = train_test_split(\n",
    "    X, y, test_size=0.2, random_state=42, stratify=y\n",
    ")\n",
    "\n",
    "# Train XGBoost model\n",
    "model = XGBClassifier(\n",
    "    objective='binary:logistic',\n",
    "    eval_metric='logloss',\n",
    "    use_label_encoder=False\n",
    ")\n",
    "\n",
    "model.fit(X_train, y_train)\n",
    "y_pred = model.predict(X_test)\n",
    "\n",
    "# Evaluate\n",
    "print(\"Accuracy:\", accuracy_score(y_test, y_pred))\n",
    "print(\"Classification Report:\\n\", classification_report(y_test, y_pred, target_names=['DOWN', 'UP']))"
   ]
  }
 ],
 "metadata": {
  "kernelspec": {
   "display_name": "Python 3",
   "language": "python",
   "name": "python3"
  },
  "language_info": {
   "codemirror_mode": {
    "name": "ipython",
    "version": 3
   },
   "file_extension": ".py",
   "mimetype": "text/x-python",
   "name": "python",
   "nbconvert_exporter": "python",
   "pygments_lexer": "ipython3",
   "version": "3.12.7"
  }
 },
 "nbformat": 4,
 "nbformat_minor": 2
}
