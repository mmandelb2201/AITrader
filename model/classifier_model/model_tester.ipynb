{
 "cells": [
  {
   "cell_type": "code",
   "execution_count": 6,
   "metadata": {},
   "outputs": [],
   "source": [
    "import numpy as np\n",
    "import pandas as pd\n",
    "import tensorflow as tf\n",
    "from sklearn.preprocessing import MinMaxScaler, RobustScaler\n",
    "import matplotlib.pyplot as plt\n",
    "import json\n",
    "from config import LOOKBACK_L, HORIZON_H, TEST_SAMPLES, FEATURES"
   ]
  },
  {
   "cell_type": "code",
   "execution_count": 7,
   "metadata": {},
   "outputs": [
    {
     "name": "stdout",
     "output_type": "stream",
     "text": [
      "\n",
      "📊 Model Configuration\n",
      "────────────────────────────\n",
      "LOOKBACK_L : 48\n",
      "HORIZON_H  : 3\n",
      "TEST_SAMPLES: 2000\n",
      "FEATURES    : ['price_pct_change', 'volume_pct_change']\n",
      "────────────────────────────\n",
      "\n"
     ]
    }
   ],
   "source": [
    "print(f\"\"\"\n",
    "📊 Model Configuration\n",
    "────────────────────────────\n",
    "LOOKBACK_L : {LOOKBACK_L}\n",
    "HORIZON_H  : {HORIZON_H}\n",
    "TEST_SAMPLES: {TEST_SAMPLES}\n",
    "FEATURES    : {FEATURES}\n",
    "────────────────────────────\n",
    "\"\"\")"
   ]
  },
  {
   "cell_type": "code",
   "execution_count": 8,
   "metadata": {},
   "outputs": [],
   "source": [
    "model = tf.keras.models.load_model(\"./results/models/lstm.regression.keras\")"
   ]
  },
  {
   "cell_type": "code",
   "execution_count": 9,
   "metadata": {},
   "outputs": [
    {
     "data": {
      "text/html": [
       "<div>\n",
       "<style scoped>\n",
       "    .dataframe tbody tr th:only-of-type {\n",
       "        vertical-align: middle;\n",
       "    }\n",
       "\n",
       "    .dataframe tbody tr th {\n",
       "        vertical-align: top;\n",
       "    }\n",
       "\n",
       "    .dataframe thead th {\n",
       "        text-align: right;\n",
       "    }\n",
       "</style>\n",
       "<table border=\"1\" class=\"dataframe\">\n",
       "  <thead>\n",
       "    <tr style=\"text-align: right;\">\n",
       "      <th></th>\n",
       "      <th>time</th>\n",
       "      <th>low</th>\n",
       "      <th>high</th>\n",
       "      <th>open</th>\n",
       "      <th>close</th>\n",
       "      <th>volume</th>\n",
       "    </tr>\n",
       "  </thead>\n",
       "  <tbody>\n",
       "    <tr>\n",
       "      <th>0</th>\n",
       "      <td>2024-08-15 07:00:00+00:00</td>\n",
       "      <td>2589.39</td>\n",
       "      <td>2625.01</td>\n",
       "      <td>2623.84</td>\n",
       "      <td>2614.76</td>\n",
       "      <td>3283.535428</td>\n",
       "    </tr>\n",
       "    <tr>\n",
       "      <th>1</th>\n",
       "      <td>2024-08-15 08:00:00+00:00</td>\n",
       "      <td>2606.05</td>\n",
       "      <td>2622.11</td>\n",
       "      <td>2615.07</td>\n",
       "      <td>2621.35</td>\n",
       "      <td>1855.089703</td>\n",
       "    </tr>\n",
       "    <tr>\n",
       "      <th>2</th>\n",
       "      <td>2024-08-15 09:00:00+00:00</td>\n",
       "      <td>2617.40</td>\n",
       "      <td>2631.12</td>\n",
       "      <td>2621.54</td>\n",
       "      <td>2623.63</td>\n",
       "      <td>1193.382931</td>\n",
       "    </tr>\n",
       "    <tr>\n",
       "      <th>3</th>\n",
       "      <td>2024-08-15 10:00:00+00:00</td>\n",
       "      <td>2614.40</td>\n",
       "      <td>2627.65</td>\n",
       "      <td>2623.74</td>\n",
       "      <td>2618.11</td>\n",
       "      <td>760.890678</td>\n",
       "    </tr>\n",
       "    <tr>\n",
       "      <th>4</th>\n",
       "      <td>2024-08-15 11:00:00+00:00</td>\n",
       "      <td>2617.64</td>\n",
       "      <td>2643.82</td>\n",
       "      <td>2618.31</td>\n",
       "      <td>2637.94</td>\n",
       "      <td>1485.566206</td>\n",
       "    </tr>\n",
       "  </tbody>\n",
       "</table>\n",
       "</div>"
      ],
      "text/plain": [
       "                        time      low     high     open    close       volume\n",
       "0  2024-08-15 07:00:00+00:00  2589.39  2625.01  2623.84  2614.76  3283.535428\n",
       "1  2024-08-15 08:00:00+00:00  2606.05  2622.11  2615.07  2621.35  1855.089703\n",
       "2  2024-08-15 09:00:00+00:00  2617.40  2631.12  2621.54  2623.63  1193.382931\n",
       "3  2024-08-15 10:00:00+00:00  2614.40  2627.65  2623.74  2618.11   760.890678\n",
       "4  2024-08-15 11:00:00+00:00  2617.64  2643.82  2618.31  2637.94  1485.566206"
      ]
     },
     "execution_count": 9,
     "metadata": {},
     "output_type": "execute_result"
    }
   ],
   "source": [
    "eth_data = pd.read_csv('./paper_wallet_data/new_eth_hourly_data.csv')\n",
    "eth_data = eth_data.dropna().reset_index(drop=True)\n",
    "eth_data.head()"
   ]
  },
  {
   "cell_type": "code",
   "execution_count": 10,
   "metadata": {},
   "outputs": [],
   "source": [
    "eth_data['time'] = pd.to_datetime(eth_data['time'], utc=True)\n",
    "\n",
    "eth_data[\"hour\"] = eth_data[\"time\"].dt.hour"
   ]
  },
  {
   "cell_type": "code",
   "execution_count": 11,
   "metadata": {},
   "outputs": [],
   "source": [
    "eth_data['price_pct_change'] = eth_data['close'].pct_change(1)   \n",
    "eth_data['volume_pct_change'] = eth_data['volume'].pct_change(1)\n",
    "eth_data = eth_data.dropna().reset_index(drop=True)\n",
    "hours = eth_data['hour']\n",
    "hours = np.array(hours, dtype=np.int32)   # force integers 0–23\n",
    "\n",
    "y = eth_data['close'].pct_change(HORIZON_H)"
   ]
  },
  {
   "cell_type": "code",
   "execution_count": 12,
   "metadata": {},
   "outputs": [
    {
     "name": "stdout",
     "output_type": "stream",
     "text": [
      "ETH Id: 8\n"
     ]
    }
   ],
   "source": [
    "#get ETH id\n",
    "with open(\"paper_wallet_data/asset_to_id.json\", \"r\") as f:\n",
    "    asset_to_id = json.load(f)\n",
    "\n",
    "# Example usage\n",
    "eth_id = asset_to_id[\"ETH\"]\n",
    "print(f\"ETH Id: {eth_id}\")"
   ]
  },
  {
   "cell_type": "code",
   "execution_count": 13,
   "metadata": {},
   "outputs": [],
   "source": [
    "def make_sequences(df, L):\n",
    "    X_list = []\n",
    "    X = df[FEATURES].values\n",
    "    X = X\n",
    "    for t in range(L, len(df)):\n",
    "            X_list.append(X[t-L:t,:])\n",
    "    return np.stack(X_list[-TEST_SAMPLES:], dtype=np.float64)\n",
    "\n",
    "X = make_sequences(eth_data, LOOKBACK_L)"
   ]
  },
  {
   "cell_type": "code",
   "execution_count": 14,
   "metadata": {},
   "outputs": [],
   "source": [
    "A = np.full((TEST_SAMPLES,), eth_id, dtype=np.int32)"
   ]
  },
  {
   "cell_type": "code",
   "execution_count": 15,
   "metadata": {},
   "outputs": [
    {
     "name": "stdout",
     "output_type": "stream",
     "text": [
      "\u001b[1m63/63\u001b[0m \u001b[32m━━━━━━━━━━━━━━━━━━━━\u001b[0m\u001b[37m\u001b[0m \u001b[1m1s\u001b[0m 6ms/step\n",
      "(2000, 1)\n"
     ]
    }
   ],
   "source": [
    "yhat = model.predict({\"Returns\": X, \"Tickers\": A})\n",
    "print(yhat.shape)  # (1000, 1)"
   ]
  },
  {
   "cell_type": "code",
   "execution_count": 16,
   "metadata": {},
   "outputs": [],
   "source": [
    "def compute_true_targets(prices, horizon=3, n_samples=TEST_SAMPLES):\n",
    "    \"\"\"\n",
    "    Compute true forward % change targets for the last n_samples windows.\n",
    "    \n",
    "    prices: array-like of raw prices\n",
    "    horizon: prediction horizon (steps ahead)\n",
    "    n_samples: how many sequences we predicted\n",
    "    seq_len: length of each input window (48 in your case)\n",
    "    \"\"\"\n",
    "    prices = np.asarray(prices, dtype=np.float32)\n",
    "    \n",
    "    # forward return for every valid index\n",
    "    forward = (prices[horizon:] - prices[:-horizon]) / prices[:-horizon]\n",
    "    \n",
    "    # slice the last n_samples, aligned with your X windows\n",
    "    true_vals = forward[-n_samples:]\n",
    "    \n",
    "    return true_vals\n",
    "\n",
    "prices = eth_data['close']\n",
    "true_changes = compute_true_targets(prices, horizon=3, n_samples=TEST_SAMPLES)"
   ]
  },
  {
   "cell_type": "code",
   "execution_count": 17,
   "metadata": {},
   "outputs": [
    {
     "name": "stdout",
     "output_type": "stream",
     "text": [
      "MAE: 0.0097,\n"
     ]
    }
   ],
   "source": [
    "# Metrics\n",
    "mae = np.mean(np.abs(yhat - true_changes))\n",
    "#corr = np.corrcoef(yhat, true_changes)[0,1]\n",
    "directional_acc = np.mean(np.sign(yhat) == np.sign(true_changes))\n",
    "\n",
    "print(f\"MAE: {mae:.4f},\")"
   ]
  },
  {
   "cell_type": "code",
   "execution_count": 18,
   "metadata": {},
   "outputs": [
    {
     "name": "stdout",
     "output_type": "stream",
     "text": [
      "Predicted Up predictions: 1441 Down predictions: 559\n",
      "Real Up predictions: 1029 Down predictions: 971\n"
     ]
    }
   ],
   "source": [
    "y_count = np.sum(yhat < 0)\n",
    "print(f\"Predicted Up predictions: {len(yhat) - y_count} Down predictions: {y_count}\")\n",
    "true_count = np.sum(true_changes < 0)\n",
    "print(f\"Real Up predictions: {len(true_changes) - true_count} Down predictions: {true_count}\")"
   ]
  },
  {
   "cell_type": "code",
   "execution_count": 19,
   "metadata": {},
   "outputs": [
    {
     "name": "stdout",
     "output_type": "stream",
     "text": [
      "Correct direction: 1456 out of 2000\n"
     ]
    }
   ],
   "source": [
    "correct = 0\n",
    "for i in range(len(yhat)):\n",
    "    if (yhat[i] < 0 and true_changes[i] < 0) or (yhat[i] > 0 and true_changes[i] > 0):\n",
    "        correct += 1\n",
    "\n",
    "print(f\"Correct direction: {correct} out of {len(yhat)}\")"
   ]
  },
  {
   "cell_type": "code",
   "execution_count": 20,
   "metadata": {},
   "outputs": [
    {
     "data": {
      "text/plain": [
       "array([[ 0.00341166],\n",
       "       [-0.00295093],\n",
       "       [-0.0084643 ],\n",
       "       [ 0.00151799],\n",
       "       [ 0.00174111],\n",
       "       [-0.00616351],\n",
       "       [ 0.00102671],\n",
       "       [ 0.00651019],\n",
       "       [ 0.00486992],\n",
       "       [ 0.00486412]], dtype=float32)"
      ]
     },
     "execution_count": 20,
     "metadata": {},
     "output_type": "execute_result"
    }
   ],
   "source": [
    "yhat[:10]"
   ]
  },
  {
   "cell_type": "code",
   "execution_count": 21,
   "metadata": {},
   "outputs": [
    {
     "data": {
      "text/plain": [
       "array([-0.00721127, -0.01270129, -0.01021208, -0.00702927, -0.00752429,\n",
       "       -0.00810989, -0.00129622,  0.00717669,  0.00445129,  0.00318476],\n",
       "      dtype=float32)"
      ]
     },
     "execution_count": 21,
     "metadata": {},
     "output_type": "execute_result"
    }
   ],
   "source": [
    "true_changes[:10]"
   ]
  }
 ],
 "metadata": {
  "kernelspec": {
   "display_name": "Python 3",
   "language": "python",
   "name": "python3"
  },
  "language_info": {
   "codemirror_mode": {
    "name": "ipython",
    "version": 3
   },
   "file_extension": ".py",
   "mimetype": "text/x-python",
   "name": "python",
   "nbconvert_exporter": "python",
   "pygments_lexer": "ipython3",
   "version": "3.12.7"
  }
 },
 "nbformat": 4,
 "nbformat_minor": 2
}
