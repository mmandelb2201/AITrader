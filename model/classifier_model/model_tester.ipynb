{
 "cells": [
  {
   "cell_type": "code",
   "execution_count": 96,
   "metadata": {},
   "outputs": [],
   "source": [
    "import numpy as np\n",
    "import pandas as pd\n",
    "import tensorflow as tf\n",
    "from sklearn.preprocessing import MinMaxScaler, RobustScaler\n",
    "import matplotlib.pyplot as plt\n",
    "import json\n",
    "\n",
    "ASSUME_TZ = None\n",
    "HORIZON_H = 6\n",
    "LOOKBACK_L = 48\n",
    "TEST_SAMPLES = 1000\n",
    "\n",
    "FEATURES = ['price_pct_change', 'volume_pct_change']"
   ]
  },
  {
   "cell_type": "code",
   "execution_count": 97,
   "metadata": {},
   "outputs": [],
   "source": [
    "model = tf.keras.models.load_model(\"./models/model.keras\")"
   ]
  },
  {
   "cell_type": "code",
   "execution_count": 98,
   "metadata": {},
   "outputs": [
    {
     "data": {
      "text/html": [
       "<div>\n",
       "<style scoped>\n",
       "    .dataframe tbody tr th:only-of-type {\n",
       "        vertical-align: middle;\n",
       "    }\n",
       "\n",
       "    .dataframe tbody tr th {\n",
       "        vertical-align: top;\n",
       "    }\n",
       "\n",
       "    .dataframe thead th {\n",
       "        text-align: right;\n",
       "    }\n",
       "</style>\n",
       "<table border=\"1\" class=\"dataframe\">\n",
       "  <thead>\n",
       "    <tr style=\"text-align: right;\">\n",
       "      <th></th>\n",
       "      <th>Unnamed: 0</th>\n",
       "      <th>time</th>\n",
       "      <th>ETH_price</th>\n",
       "      <th>ETH_volume</th>\n",
       "    </tr>\n",
       "  </thead>\n",
       "  <tbody>\n",
       "    <tr>\n",
       "      <th>0</th>\n",
       "      <td>12063</td>\n",
       "      <td>2016-06-09 15:00:00</td>\n",
       "      <td>14.69</td>\n",
       "      <td>333.920307</td>\n",
       "    </tr>\n",
       "    <tr>\n",
       "      <th>1</th>\n",
       "      <td>12064</td>\n",
       "      <td>2016-06-09 16:00:00</td>\n",
       "      <td>14.69</td>\n",
       "      <td>667.084306</td>\n",
       "    </tr>\n",
       "    <tr>\n",
       "      <th>2</th>\n",
       "      <td>12065</td>\n",
       "      <td>2016-06-09 17:00:00</td>\n",
       "      <td>14.57</td>\n",
       "      <td>355.767139</td>\n",
       "    </tr>\n",
       "    <tr>\n",
       "      <th>3</th>\n",
       "      <td>12066</td>\n",
       "      <td>2016-06-09 18:00:00</td>\n",
       "      <td>14.65</td>\n",
       "      <td>561.489527</td>\n",
       "    </tr>\n",
       "    <tr>\n",
       "      <th>4</th>\n",
       "      <td>12090</td>\n",
       "      <td>2016-06-10 18:00:00</td>\n",
       "      <td>14.10</td>\n",
       "      <td>1238.313305</td>\n",
       "    </tr>\n",
       "  </tbody>\n",
       "</table>\n",
       "</div>"
      ],
      "text/plain": [
       "   Unnamed: 0                 time  ETH_price   ETH_volume\n",
       "0       12063  2016-06-09 15:00:00      14.69   333.920307\n",
       "1       12064  2016-06-09 16:00:00      14.69   667.084306\n",
       "2       12065  2016-06-09 17:00:00      14.57   355.767139\n",
       "3       12066  2016-06-09 18:00:00      14.65   561.489527\n",
       "4       12090  2016-06-10 18:00:00      14.10  1238.313305"
      ]
     },
     "execution_count": 98,
     "metadata": {},
     "output_type": "execute_result"
    }
   ],
   "source": [
    "eth_data = pd.read_csv('./paper_wallet_data/eth_data')\n",
    "eth_data = eth_data.dropna().reset_index(drop=True)\n",
    "eth_data.head()"
   ]
  },
  {
   "cell_type": "code",
   "execution_count": 99,
   "metadata": {},
   "outputs": [],
   "source": [
    "eth_data['time'] = pd.to_datetime(eth_data['time'], utc=True)\n",
    "if ASSUME_TZ is not None:\n",
    "    eth_data['time'] = eth_data['time'].dt.tz_convert('UTC')\n",
    "\n",
    "eth_data[\"hour\"] = eth_data[\"time\"].dt.hour"
   ]
  },
  {
   "cell_type": "code",
   "execution_count": 100,
   "metadata": {},
   "outputs": [],
   "source": [
    "eth_data['price_pct_change'] = eth_data['ETH_price'].pct_change(1)   \n",
    "eth_data['volume_pct_change'] = eth_data['ETH_volume'].pct_change(1)\n",
    "eth_data = eth_data.dropna().reset_index(drop=True)\n",
    "hours = eth_data['hour']\n",
    "hours = np.array(hours, dtype=np.int32)   # force integers 0–23\n",
    "\n",
    "y = eth_data['ETH_price'].pct_change(HORIZON_H)"
   ]
  },
  {
   "cell_type": "code",
   "execution_count": 101,
   "metadata": {},
   "outputs": [
    {
     "name": "stdout",
     "output_type": "stream",
     "text": [
      "ETH Id: 8\n"
     ]
    }
   ],
   "source": [
    "#get ETH id\n",
    "with open(\"paper_wallet_data/asset_to_id.json\", \"r\") as f:\n",
    "    asset_to_id = json.load(f)\n",
    "\n",
    "# Example usage\n",
    "eth_id = asset_to_id[\"ETH\"]\n",
    "print(f\"ETH Id: {eth_id}\")"
   ]
  },
  {
   "cell_type": "code",
   "execution_count": 102,
   "metadata": {},
   "outputs": [],
   "source": [
    "def make_sequences(df, L):\n",
    "    X_list = []\n",
    "    X = df[FEATURES].values\n",
    "    for t in range(L, len(df)):\n",
    "            X_list.append(X[t-L:t,:])\n",
    "    return np.stack(X_list, dtype=np.float64)\n",
    "\n",
    "X = make_sequences(eth_data, LOOKBACK_L)"
   ]
  },
  {
   "cell_type": "code",
   "execution_count": 103,
   "metadata": {},
   "outputs": [],
   "source": [
    "A = np.full((TEST_SAMPLES,), eth_id, dtype=np.int32)"
   ]
  },
  {
   "cell_type": "code",
   "execution_count": 104,
   "metadata": {},
   "outputs": [],
   "source": [
    "def make_recent_windows(features, seq_len=LOOKBACK_L, n_samples=TEST_SAMPLES, asset_id=0):\n",
    "    N = features.shape[0]\n",
    "    X_list = []\n",
    "    for t in range(N - seq_len - n_samples, N - seq_len):\n",
    "        if X_list and X_list[0].shape == features[t:t+seq_len].shape:\n",
    "            X_list.append(features[t:t+seq_len])\n",
    "        elif not X_list:\n",
    "            X_list.append(features[t:t+seq_len])\n",
    "    \n",
    "    X = np.stack(X_list[:n_samples])  # (n_samples, seq_len, feat_dim)\n",
    "    A = np.full((n_samples,), asset_id, dtype=np.int32)  # (n_samples,)\n",
    "    return X, A"
   ]
  },
  {
   "cell_type": "code",
   "execution_count": 105,
   "metadata": {},
   "outputs": [
    {
     "ename": "ValueError",
     "evalue": "could not broadcast input array from shape (66864,7) into shape (1000,)",
     "output_type": "error",
     "traceback": [
      "\u001b[0;31m---------------------------------------------------------------------------\u001b[0m",
      "\u001b[0;31mValueError\u001b[0m                                Traceback (most recent call last)",
      "Cell \u001b[0;32mIn[105], line 2\u001b[0m\n\u001b[1;32m      1\u001b[0m features \u001b[38;5;241m=\u001b[39m eth_data[FEATURES]\u001b[38;5;241m.\u001b[39mvalues\n\u001b[0;32m----> 2\u001b[0m X, A \u001b[38;5;241m=\u001b[39m \u001b[43mmake_recent_windows\u001b[49m\u001b[43m(\u001b[49m\u001b[43mfeatures\u001b[49m\u001b[43m,\u001b[49m\u001b[43m \u001b[49m\u001b[43mseq_len\u001b[49m\u001b[38;5;241;43m=\u001b[39;49m\u001b[43mLOOKBACK_L\u001b[49m\u001b[43m,\u001b[49m\u001b[43m \u001b[49m\u001b[43mn_samples\u001b[49m\u001b[38;5;241;43m=\u001b[39;49m\u001b[43mTEST_SAMPLES\u001b[49m\u001b[43m,\u001b[49m\u001b[43m \u001b[49m\u001b[43masset_id\u001b[49m\u001b[38;5;241;43m=\u001b[39;49m\u001b[43meth_data\u001b[49m\u001b[43m)\u001b[49m\n",
      "Cell \u001b[0;32mIn[104], line 11\u001b[0m, in \u001b[0;36mmake_recent_windows\u001b[0;34m(features, seq_len, n_samples, asset_id)\u001b[0m\n\u001b[1;32m      8\u001b[0m         X_list\u001b[38;5;241m.\u001b[39mappend(features[t:t\u001b[38;5;241m+\u001b[39mseq_len])\n\u001b[1;32m     10\u001b[0m X \u001b[38;5;241m=\u001b[39m np\u001b[38;5;241m.\u001b[39mstack(X_list[:n_samples])  \u001b[38;5;66;03m# (n_samples, seq_len, feat_dim)\u001b[39;00m\n\u001b[0;32m---> 11\u001b[0m A \u001b[38;5;241m=\u001b[39m \u001b[43mnp\u001b[49m\u001b[38;5;241;43m.\u001b[39;49m\u001b[43mfull\u001b[49m\u001b[43m(\u001b[49m\u001b[43m(\u001b[49m\u001b[43mn_samples\u001b[49m\u001b[43m,\u001b[49m\u001b[43m)\u001b[49m\u001b[43m,\u001b[49m\u001b[43m \u001b[49m\u001b[43masset_id\u001b[49m\u001b[43m,\u001b[49m\u001b[43m \u001b[49m\u001b[43mdtype\u001b[49m\u001b[38;5;241;43m=\u001b[39;49m\u001b[43mnp\u001b[49m\u001b[38;5;241;43m.\u001b[39;49m\u001b[43mint32\u001b[49m\u001b[43m)\u001b[49m  \u001b[38;5;66;03m# (n_samples,)\u001b[39;00m\n\u001b[1;32m     12\u001b[0m \u001b[38;5;28;01mreturn\u001b[39;00m X, A\n",
      "File \u001b[0;32m/Library/Frameworks/Python.framework/Versions/3.12/lib/python3.12/site-packages/numpy/core/numeric.py:330\u001b[0m, in \u001b[0;36mfull\u001b[0;34m(shape, fill_value, dtype, order, like)\u001b[0m\n\u001b[1;32m    328\u001b[0m     dtype \u001b[38;5;241m=\u001b[39m fill_value\u001b[38;5;241m.\u001b[39mdtype\n\u001b[1;32m    329\u001b[0m a \u001b[38;5;241m=\u001b[39m empty(shape, dtype, order)\n\u001b[0;32m--> 330\u001b[0m \u001b[43mmultiarray\u001b[49m\u001b[38;5;241;43m.\u001b[39;49m\u001b[43mcopyto\u001b[49m\u001b[43m(\u001b[49m\u001b[43ma\u001b[49m\u001b[43m,\u001b[49m\u001b[43m \u001b[49m\u001b[43mfill_value\u001b[49m\u001b[43m,\u001b[49m\u001b[43m \u001b[49m\u001b[43mcasting\u001b[49m\u001b[38;5;241;43m=\u001b[39;49m\u001b[38;5;124;43m'\u001b[39;49m\u001b[38;5;124;43munsafe\u001b[39;49m\u001b[38;5;124;43m'\u001b[39;49m\u001b[43m)\u001b[49m\n\u001b[1;32m    331\u001b[0m \u001b[38;5;28;01mreturn\u001b[39;00m a\n",
      "\u001b[0;31mValueError\u001b[0m: could not broadcast input array from shape (66864,7) into shape (1000,)"
     ]
    }
   ],
   "source": [
    "features = eth_data[FEATURES].values[:TEST_SAMPLES]\n",
    "X, A = make_recent_windows(features, seq_len=LOOKBACK_L, n_samples=TEST_SAMPLES, asset_id=eth_data)"
   ]
  },
  {
   "cell_type": "code",
   "execution_count": 94,
   "metadata": {},
   "outputs": [
    {
     "data": {
      "text/plain": [
       "(1000,)"
      ]
     },
     "execution_count": 94,
     "metadata": {},
     "output_type": "execute_result"
    }
   ],
   "source": [
    "A.shape"
   ]
  },
  {
   "cell_type": "code",
   "execution_count": 95,
   "metadata": {},
   "outputs": [
    {
     "ename": "AttributeError",
     "evalue": "'str' object has no attribute 'shape'",
     "output_type": "error",
     "traceback": [
      "\u001b[0;31m---------------------------------------------------------------------------\u001b[0m",
      "\u001b[0;31mAttributeError\u001b[0m                            Traceback (most recent call last)",
      "Cell \u001b[0;32mIn[95], line 1\u001b[0m\n\u001b[0;32m----> 1\u001b[0m yhat \u001b[38;5;241m=\u001b[39m \u001b[43mmodel\u001b[49m\u001b[38;5;241;43m.\u001b[39;49m\u001b[43mpredict\u001b[49m\u001b[43m(\u001b[49m\u001b[43m{\u001b[49m\u001b[38;5;124;43m\"\u001b[39;49m\u001b[38;5;124;43mseq\u001b[39;49m\u001b[38;5;124;43m\"\u001b[39;49m\u001b[43m:\u001b[49m\u001b[43m \u001b[49m\u001b[43mX\u001b[49m\u001b[43m,\u001b[49m\u001b[43m \u001b[49m\u001b[38;5;124;43m\"\u001b[39;49m\u001b[38;5;124;43masset_id\u001b[39;49m\u001b[38;5;124;43m\"\u001b[39;49m\u001b[43m:\u001b[49m\u001b[43m \u001b[49m\u001b[43mA\u001b[49m\u001b[43m}\u001b[49m\u001b[43m)\u001b[49m\n\u001b[1;32m      2\u001b[0m \u001b[38;5;28mprint\u001b[39m(yhat\u001b[38;5;241m.\u001b[39mshape)  \u001b[38;5;66;03m# (1000, 1)\u001b[39;00m\n",
      "File \u001b[0;32m/Library/Frameworks/Python.framework/Versions/3.12/lib/python3.12/site-packages/keras/src/utils/traceback_utils.py:122\u001b[0m, in \u001b[0;36mfilter_traceback.<locals>.error_handler\u001b[0;34m(*args, **kwargs)\u001b[0m\n\u001b[1;32m    119\u001b[0m     filtered_tb \u001b[38;5;241m=\u001b[39m _process_traceback_frames(e\u001b[38;5;241m.\u001b[39m__traceback__)\n\u001b[1;32m    120\u001b[0m     \u001b[38;5;66;03m# To get the full stack trace, call:\u001b[39;00m\n\u001b[1;32m    121\u001b[0m     \u001b[38;5;66;03m# `keras.config.disable_traceback_filtering()`\u001b[39;00m\n\u001b[0;32m--> 122\u001b[0m     \u001b[38;5;28;01mraise\u001b[39;00m e\u001b[38;5;241m.\u001b[39mwith_traceback(filtered_tb) \u001b[38;5;28;01mfrom\u001b[39;00m \u001b[38;5;28;01mNone\u001b[39;00m\n\u001b[1;32m    123\u001b[0m \u001b[38;5;28;01mfinally\u001b[39;00m:\n\u001b[1;32m    124\u001b[0m     \u001b[38;5;28;01mdel\u001b[39;00m filtered_tb\n",
      "File \u001b[0;32m/Library/Frameworks/Python.framework/Versions/3.12/lib/python3.12/site-packages/keras/src/trainers/data_adapters/data_adapter_utils.py:112\u001b[0m, in \u001b[0;36m<genexpr>\u001b[0;34m(.0)\u001b[0m\n\u001b[1;32m    106\u001b[0m msg \u001b[38;5;241m=\u001b[39m (\n\u001b[1;32m    107\u001b[0m     \u001b[38;5;124m\"\u001b[39m\u001b[38;5;124mData cardinality is ambiguous. \u001b[39m\u001b[38;5;124m\"\u001b[39m\n\u001b[1;32m    108\u001b[0m     \u001b[38;5;124m\"\u001b[39m\u001b[38;5;124mMake sure all arrays contain the same number of samples.\u001b[39m\u001b[38;5;124m\"\u001b[39m\n\u001b[1;32m    109\u001b[0m )\n\u001b[1;32m    110\u001b[0m \u001b[38;5;28;01mfor\u001b[39;00m label, single_data \u001b[38;5;129;01min\u001b[39;00m \u001b[38;5;28mzip\u001b[39m([\u001b[38;5;124m\"\u001b[39m\u001b[38;5;124mx\u001b[39m\u001b[38;5;124m\"\u001b[39m, \u001b[38;5;124m\"\u001b[39m\u001b[38;5;124my\u001b[39m\u001b[38;5;124m\"\u001b[39m, \u001b[38;5;124m\"\u001b[39m\u001b[38;5;124msample_weight\u001b[39m\u001b[38;5;124m\"\u001b[39m], data):\n\u001b[1;32m    111\u001b[0m     sizes \u001b[38;5;241m=\u001b[39m \u001b[38;5;124m\"\u001b[39m\u001b[38;5;124m, \u001b[39m\u001b[38;5;124m\"\u001b[39m\u001b[38;5;241m.\u001b[39mjoin(\n\u001b[0;32m--> 112\u001b[0m         \u001b[38;5;28mstr\u001b[39m(\u001b[43mi\u001b[49m\u001b[38;5;241;43m.\u001b[39;49m\u001b[43mshape\u001b[49m[\u001b[38;5;241m0\u001b[39m]) \u001b[38;5;28;01mfor\u001b[39;00m i \u001b[38;5;129;01min\u001b[39;00m tree\u001b[38;5;241m.\u001b[39mflatten(single_data)\n\u001b[1;32m    113\u001b[0m     )\n\u001b[1;32m    114\u001b[0m     msg \u001b[38;5;241m+\u001b[39m\u001b[38;5;241m=\u001b[39m \u001b[38;5;124mf\u001b[39m\u001b[38;5;124m\"\u001b[39m\u001b[38;5;124m'\u001b[39m\u001b[38;5;132;01m{\u001b[39;00mlabel\u001b[38;5;132;01m}\u001b[39;00m\u001b[38;5;124m'\u001b[39m\u001b[38;5;124m sizes: \u001b[39m\u001b[38;5;132;01m{\u001b[39;00msizes\u001b[38;5;132;01m}\u001b[39;00m\u001b[38;5;130;01m\\n\u001b[39;00m\u001b[38;5;124m\"\u001b[39m\n\u001b[1;32m    115\u001b[0m \u001b[38;5;28;01mraise\u001b[39;00m \u001b[38;5;167;01mValueError\u001b[39;00m(msg)\n",
      "\u001b[0;31mAttributeError\u001b[0m: 'str' object has no attribute 'shape'"
     ]
    }
   ],
   "source": [
    "yhat = model.predict({\"seq\": X, \"asset_id\": A})\n",
    "print(yhat.shape)  # (1000, 1)"
   ]
  },
  {
   "cell_type": "code",
   "execution_count": 190,
   "metadata": {},
   "outputs": [
    {
     "name": "stderr",
     "output_type": "stream",
     "text": [
      "/var/folders/1f/5lhk7sb97rz53v7gk1vkcjkr0000gn/T/ipykernel_11255/64026007.py:13: RuntimeWarning: divide by zero encountered in divide\n",
      "  forward = (prices[horizon:] - prices[:-horizon]) / prices[:-horizon]\n",
      "/var/folders/1f/5lhk7sb97rz53v7gk1vkcjkr0000gn/T/ipykernel_11255/64026007.py:13: RuntimeWarning: invalid value encountered in divide\n",
      "  forward = (prices[horizon:] - prices[:-horizon]) / prices[:-horizon]\n"
     ]
    }
   ],
   "source": [
    "def compute_true_targets(prices, horizon=3, n_samples=TEST_SAMPLES):\n",
    "    \"\"\"\n",
    "    Compute true forward % change targets for the last n_samples windows.\n",
    "    \n",
    "    prices: array-like of raw prices\n",
    "    horizon: prediction horizon (steps ahead)\n",
    "    n_samples: how many sequences we predicted\n",
    "    seq_len: length of each input window (48 in your case)\n",
    "    \"\"\"\n",
    "    prices = np.asarray(prices, dtype=np.float32)\n",
    "    \n",
    "    # forward return for every valid index\n",
    "    forward = (prices[horizon:] - prices[:-horizon]) / prices[:-horizon]\n",
    "    \n",
    "    # slice the last n_samples, aligned with your X windows\n",
    "    true_vals = forward[-n_samples:]\n",
    "    \n",
    "    return true_vals\n",
    "\n",
    "true_changes = compute_true_targets(prices, horizon=3, n_samples=1000)"
   ]
  },
  {
   "cell_type": "code",
   "execution_count": 191,
   "metadata": {},
   "outputs": [
    {
     "name": "stdout",
     "output_type": "stream",
     "text": [
      "MAE: inf, DirAcc: 45.45%\n"
     ]
    }
   ],
   "source": [
    "# Metrics\n",
    "mae = np.mean(np.abs(yhat - true_changes))\n",
    "#corr = np.corrcoef(yhat, true_changes)[0,1]\n",
    "directional_acc = np.mean(np.sign(yhat) == np.sign(true_changes))\n",
    "\n",
    "print(f\"MAE: {mae:.4f}, DirAcc: {directional_acc:.2%}\")"
   ]
  }
 ],
 "metadata": {
  "kernelspec": {
   "display_name": "Python 3",
   "language": "python",
   "name": "python3"
  },
  "language_info": {
   "codemirror_mode": {
    "name": "ipython",
    "version": 3
   },
   "file_extension": ".py",
   "mimetype": "text/x-python",
   "name": "python",
   "nbconvert_exporter": "python",
   "pygments_lexer": "ipython3",
   "version": "3.12.7"
  }
 },
 "nbformat": 4,
 "nbformat_minor": 2
}
