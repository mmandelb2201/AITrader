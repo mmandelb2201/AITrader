{
 "cells": [
  {
   "cell_type": "code",
   "execution_count": 159,
   "metadata": {},
   "outputs": [],
   "source": [
    "import numpy as np\n",
    "import pandas as pd\n",
    "import tensorflow as tf\n",
    "from sklearn.preprocessing import MinMaxScaler, RobustScaler\n",
    "import matplotlib.pyplot as plt\n",
    "import json\n",
    "\n",
    "ASSUME_TZ = None\n",
    "HORIZON_H = 3\n",
    "LOOKBACK_L = 48\n",
    "TEST_SAMPLES = 2000\n",
    "\n",
    "FEATURES = ['price_pct_change', 'volume_pct_change']"
   ]
  },
  {
   "cell_type": "code",
   "execution_count": 160,
   "metadata": {},
   "outputs": [],
   "source": [
    "model = tf.keras.models.load_model(\"./results/models/lstm.regression.keras\")"
   ]
  },
  {
   "cell_type": "code",
   "execution_count": 161,
   "metadata": {},
   "outputs": [
    {
     "data": {
      "text/html": [
       "<div>\n",
       "<style scoped>\n",
       "    .dataframe tbody tr th:only-of-type {\n",
       "        vertical-align: middle;\n",
       "    }\n",
       "\n",
       "    .dataframe tbody tr th {\n",
       "        vertical-align: top;\n",
       "    }\n",
       "\n",
       "    .dataframe thead th {\n",
       "        text-align: right;\n",
       "    }\n",
       "</style>\n",
       "<table border=\"1\" class=\"dataframe\">\n",
       "  <thead>\n",
       "    <tr style=\"text-align: right;\">\n",
       "      <th></th>\n",
       "      <th>Unnamed: 0</th>\n",
       "      <th>time</th>\n",
       "      <th>ETH_price</th>\n",
       "      <th>ETH_volume</th>\n",
       "    </tr>\n",
       "  </thead>\n",
       "  <tbody>\n",
       "    <tr>\n",
       "      <th>0</th>\n",
       "      <td>12063</td>\n",
       "      <td>2016-06-09 15:00:00</td>\n",
       "      <td>14.69</td>\n",
       "      <td>333.920307</td>\n",
       "    </tr>\n",
       "    <tr>\n",
       "      <th>1</th>\n",
       "      <td>12064</td>\n",
       "      <td>2016-06-09 16:00:00</td>\n",
       "      <td>14.69</td>\n",
       "      <td>667.084306</td>\n",
       "    </tr>\n",
       "    <tr>\n",
       "      <th>2</th>\n",
       "      <td>12065</td>\n",
       "      <td>2016-06-09 17:00:00</td>\n",
       "      <td>14.57</td>\n",
       "      <td>355.767139</td>\n",
       "    </tr>\n",
       "    <tr>\n",
       "      <th>3</th>\n",
       "      <td>12066</td>\n",
       "      <td>2016-06-09 18:00:00</td>\n",
       "      <td>14.65</td>\n",
       "      <td>561.489527</td>\n",
       "    </tr>\n",
       "    <tr>\n",
       "      <th>4</th>\n",
       "      <td>12090</td>\n",
       "      <td>2016-06-10 18:00:00</td>\n",
       "      <td>14.10</td>\n",
       "      <td>1238.313305</td>\n",
       "    </tr>\n",
       "  </tbody>\n",
       "</table>\n",
       "</div>"
      ],
      "text/plain": [
       "   Unnamed: 0                 time  ETH_price   ETH_volume\n",
       "0       12063  2016-06-09 15:00:00      14.69   333.920307\n",
       "1       12064  2016-06-09 16:00:00      14.69   667.084306\n",
       "2       12065  2016-06-09 17:00:00      14.57   355.767139\n",
       "3       12066  2016-06-09 18:00:00      14.65   561.489527\n",
       "4       12090  2016-06-10 18:00:00      14.10  1238.313305"
      ]
     },
     "execution_count": 161,
     "metadata": {},
     "output_type": "execute_result"
    }
   ],
   "source": [
    "eth_data = pd.read_csv('./paper_wallet_data/eth_data.csv')\n",
    "eth_data = eth_data.dropna().reset_index(drop=True)\n",
    "eth_data.head()"
   ]
  },
  {
   "cell_type": "code",
   "execution_count": 162,
   "metadata": {},
   "outputs": [],
   "source": [
    "eth_data['time'] = pd.to_datetime(eth_data['time'], utc=True)\n",
    "if ASSUME_TZ is not None:\n",
    "    eth_data['time'] = eth_data['time'].dt.tz_convert('UTC')\n",
    "\n",
    "eth_data[\"hour\"] = eth_data[\"time\"].dt.hour"
   ]
  },
  {
   "cell_type": "code",
   "execution_count": 163,
   "metadata": {},
   "outputs": [],
   "source": [
    "eth_data['price_pct_change'] = eth_data['ETH_price'].pct_change(1)   \n",
    "eth_data['volume_pct_change'] = eth_data['ETH_volume'].pct_change(1)\n",
    "eth_data = eth_data.dropna().reset_index(drop=True)\n",
    "hours = eth_data['hour']\n",
    "hours = np.array(hours, dtype=np.int32)   # force integers 0–23\n",
    "\n",
    "y = eth_data['ETH_price'].pct_change(HORIZON_H)"
   ]
  },
  {
   "cell_type": "code",
   "execution_count": 164,
   "metadata": {},
   "outputs": [
    {
     "name": "stdout",
     "output_type": "stream",
     "text": [
      "ETH Id: 8\n"
     ]
    }
   ],
   "source": [
    "#get ETH id\n",
    "with open(\"paper_wallet_data/asset_to_id.json\", \"r\") as f:\n",
    "    asset_to_id = json.load(f)\n",
    "\n",
    "# Example usage\n",
    "eth_id = asset_to_id[\"ETH\"]\n",
    "print(f\"ETH Id: {eth_id}\")"
   ]
  },
  {
   "cell_type": "code",
   "execution_count": 165,
   "metadata": {},
   "outputs": [],
   "source": [
    "def make_sequences(df, L):\n",
    "    X_list = []\n",
    "    X = df[FEATURES].values\n",
    "    X = X\n",
    "    for t in range(L, len(df)):\n",
    "            X_list.append(X[t-L:t,:])\n",
    "    return np.stack(X_list[-TEST_SAMPLES:], dtype=np.float64)\n",
    "\n",
    "X = make_sequences(eth_data, LOOKBACK_L)"
   ]
  },
  {
   "cell_type": "code",
   "execution_count": 166,
   "metadata": {},
   "outputs": [],
   "source": [
    "A = np.full((TEST_SAMPLES,), eth_id, dtype=np.int32)"
   ]
  },
  {
   "cell_type": "code",
   "execution_count": 167,
   "metadata": {},
   "outputs": [
    {
     "name": "stdout",
     "output_type": "stream",
     "text": [
      "\u001b[1m63/63\u001b[0m \u001b[32m━━━━━━━━━━━━━━━━━━━━\u001b[0m\u001b[37m\u001b[0m \u001b[1m1s\u001b[0m 8ms/step\n",
      "(2000, 1)\n"
     ]
    }
   ],
   "source": [
    "yhat = model.predict({\"Returns\": X, \"Tickers\": A})\n",
    "print(yhat.shape)  # (1000, 1)"
   ]
  },
  {
   "cell_type": "code",
   "execution_count": 168,
   "metadata": {},
   "outputs": [],
   "source": [
    "def compute_true_targets(prices, horizon=3, n_samples=TEST_SAMPLES):\n",
    "    \"\"\"\n",
    "    Compute true forward % change targets for the last n_samples windows.\n",
    "    \n",
    "    prices: array-like of raw prices\n",
    "    horizon: prediction horizon (steps ahead)\n",
    "    n_samples: how many sequences we predicted\n",
    "    seq_len: length of each input window (48 in your case)\n",
    "    \"\"\"\n",
    "    prices = np.asarray(prices, dtype=np.float32)\n",
    "    \n",
    "    # forward return for every valid index\n",
    "    forward = (prices[horizon:] - prices[:-horizon]) / prices[:-horizon]\n",
    "    \n",
    "    # slice the last n_samples, aligned with your X windows\n",
    "    true_vals = forward[-n_samples:]\n",
    "    \n",
    "    return true_vals\n",
    "\n",
    "prices = eth_data['ETH_price']\n",
    "true_changes = compute_true_targets(prices, horizon=3, n_samples=TEST_SAMPLES)"
   ]
  },
  {
   "cell_type": "code",
   "execution_count": 169,
   "metadata": {},
   "outputs": [
    {
     "name": "stdout",
     "output_type": "stream",
     "text": [
      "MAE: 0.0097, DirAcc: 50.83%\n"
     ]
    }
   ],
   "source": [
    "# Metrics\n",
    "mae = np.mean(np.abs(yhat - true_changes))\n",
    "#corr = np.corrcoef(yhat, true_changes)[0,1]\n",
    "directional_acc = np.mean(np.sign(yhat) == np.sign(true_changes))\n",
    "\n",
    "print(f\"MAE: {mae:.4f}, DirAcc: {directional_acc:.2%}\")"
   ]
  },
  {
   "cell_type": "code",
   "execution_count": 170,
   "metadata": {},
   "outputs": [
    {
     "name": "stdout",
     "output_type": "stream",
     "text": [
      "Predicted Up predictions: 1216 Down predictions: 784\n",
      "Real Up predictions: 1080 Down predictions: 920\n"
     ]
    }
   ],
   "source": [
    "y_count = np.sum(yhat < 0)\n",
    "print(f\"Predicted Up predictions: {len(yhat) - y_count} Down predictions: {y_count}\")\n",
    "true_count = np.sum(true_changes < 0)\n",
    "print(f\"Real Up predictions: {len(true_changes) - true_count} Down predictions: {true_count}\")"
   ]
  },
  {
   "cell_type": "code",
   "execution_count": 171,
   "metadata": {},
   "outputs": [
    {
     "name": "stdout",
     "output_type": "stream",
     "text": [
      "Correct direction: 1577 out of 2000\n"
     ]
    }
   ],
   "source": [
    "correct = 0\n",
    "for i in range(len(yhat)):\n",
    "    if (yhat[i] < 0 and true_changes[i] < 0) or (yhat[i] > 0 and true_changes[i] > 0):\n",
    "        correct += 1\n",
    "\n",
    "print(f\"Correct direction: {correct} out of {len(yhat)}\")"
   ]
  },
  {
   "cell_type": "code",
   "execution_count": 172,
   "metadata": {},
   "outputs": [
    {
     "data": {
      "text/plain": [
       "array([[ 0.00681133],\n",
       "       [ 0.00454094],\n",
       "       [ 0.00303155],\n",
       "       [ 0.00053786],\n",
       "       [-0.00947612],\n",
       "       [ 0.00019584],\n",
       "       [ 0.01192352],\n",
       "       [ 0.00754448],\n",
       "       [ 0.00318329],\n",
       "       [ 0.00036662]], dtype=float32)"
      ]
     },
     "execution_count": 172,
     "metadata": {},
     "output_type": "execute_result"
    }
   ],
   "source": [
    "yhat[:10]"
   ]
  },
  {
   "cell_type": "code",
   "execution_count": 173,
   "metadata": {},
   "outputs": [
    {
     "data": {
      "text/plain": [
       "array([ 0.00749497,  0.00653031, -0.00061215, -0.00792378, -0.00490625,\n",
       "        0.0074824 ,  0.01425597,  0.01175291, -0.00122018, -0.00087031],\n",
       "      dtype=float32)"
      ]
     },
     "execution_count": 173,
     "metadata": {},
     "output_type": "execute_result"
    }
   ],
   "source": [
    "true_changes[:10]"
   ]
  }
 ],
 "metadata": {
  "kernelspec": {
   "display_name": "Python 3",
   "language": "python",
   "name": "python3"
  },
  "language_info": {
   "codemirror_mode": {
    "name": "ipython",
    "version": 3
   },
   "file_extension": ".py",
   "mimetype": "text/x-python",
   "name": "python",
   "nbconvert_exporter": "python",
   "pygments_lexer": "ipython3",
   "version": "3.12.7"
  }
 },
 "nbformat": 4,
 "nbformat_minor": 2
}
