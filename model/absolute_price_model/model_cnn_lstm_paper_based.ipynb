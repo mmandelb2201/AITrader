{
 "cells": [
  {
   "cell_type": "code",
   "execution_count": 73,
   "metadata": {},
   "outputs": [],
   "source": [
    "import pandas as pd\n",
    "import numpy as np\n",
    "from tensorflow.keras.models import Sequential\n",
    "from tensorflow.keras.layers import LSTM, Dense, Dropout, Input, LeakyReLU, BatchNormalization, Bidirectional, GRU\n",
    "from tensorflow.keras.layers import Conv1D, BatchNormalization, AveragePooling1D, Dropout\n",
    "from tensorflow.keras.callbacks import EarlyStopping\n",
    "from tensorflow.keras.losses import MeanSquaredError\n",
    "from tensorflow.keras.optimizers import Adam\n",
    "from tensorflow.keras.regularizers import l2, l1\n",
    "from tensorflow.keras.saving import save_model\n",
    "import matplotlib.pyplot as plt\n",
    "from sklearn.preprocessing import MinMaxScaler, RobustScaler, StandardScaler"
   ]
  },
  {
   "cell_type": "code",
   "execution_count": 74,
   "metadata": {},
   "outputs": [
    {
     "data": {
      "text/html": [
       "<div>\n",
       "<style scoped>\n",
       "    .dataframe tbody tr th:only-of-type {\n",
       "        vertical-align: middle;\n",
       "    }\n",
       "\n",
       "    .dataframe tbody tr th {\n",
       "        vertical-align: top;\n",
       "    }\n",
       "\n",
       "    .dataframe thead th {\n",
       "        text-align: right;\n",
       "    }\n",
       "</style>\n",
       "<table border=\"1\" class=\"dataframe\">\n",
       "  <thead>\n",
       "    <tr style=\"text-align: right;\">\n",
       "      <th></th>\n",
       "      <th>Unnamed: 0</th>\n",
       "      <th>trade_id</th>\n",
       "      <th>product_id</th>\n",
       "      <th>price</th>\n",
       "      <th>size</th>\n",
       "      <th>time</th>\n",
       "      <th>side</th>\n",
       "      <th>bid</th>\n",
       "      <th>ask</th>\n",
       "      <th>exchange</th>\n",
       "      <th>...</th>\n",
       "      <th>Unnamed: 0.10</th>\n",
       "      <th>Unnamed: 0.9</th>\n",
       "      <th>Unnamed: 0.8</th>\n",
       "      <th>Unnamed: 0.7</th>\n",
       "      <th>Unnamed: 0.6</th>\n",
       "      <th>Unnamed: 0.5</th>\n",
       "      <th>Unnamed: 0.4</th>\n",
       "      <th>Unnamed: 0.3</th>\n",
       "      <th>Unnamed: 0.2</th>\n",
       "      <th>Unnamed: 0.1</th>\n",
       "    </tr>\n",
       "  </thead>\n",
       "  <tbody>\n",
       "    <tr>\n",
       "      <th>0</th>\n",
       "      <td>60305</td>\n",
       "      <td>590641283</td>\n",
       "      <td>ETH-USD</td>\n",
       "      <td>3598.16</td>\n",
       "      <td>0.013755</td>\n",
       "      <td>2025-01-04 06:38:20.767435+00:00</td>\n",
       "      <td>SELL</td>\n",
       "      <td>NaN</td>\n",
       "      <td>NaN</td>\n",
       "      <td>NaN</td>\n",
       "      <td>...</td>\n",
       "      <td>36308.0</td>\n",
       "      <td>36308.0</td>\n",
       "      <td>36308.0</td>\n",
       "      <td>36308.0</td>\n",
       "      <td>36308.0</td>\n",
       "      <td>36308.0</td>\n",
       "      <td>227275.0</td>\n",
       "      <td>227275.0</td>\n",
       "      <td>143784.0</td>\n",
       "      <td>60293.0</td>\n",
       "    </tr>\n",
       "    <tr>\n",
       "      <th>1</th>\n",
       "      <td>60304</td>\n",
       "      <td>590641310</td>\n",
       "      <td>ETH-USD</td>\n",
       "      <td>3598.95</td>\n",
       "      <td>0.002479</td>\n",
       "      <td>2025-01-04 06:38:35.543964+00:00</td>\n",
       "      <td>SELL</td>\n",
       "      <td>NaN</td>\n",
       "      <td>NaN</td>\n",
       "      <td>NaN</td>\n",
       "      <td>...</td>\n",
       "      <td>36309.0</td>\n",
       "      <td>36309.0</td>\n",
       "      <td>36309.0</td>\n",
       "      <td>36309.0</td>\n",
       "      <td>36309.0</td>\n",
       "      <td>36309.0</td>\n",
       "      <td>227274.0</td>\n",
       "      <td>227274.0</td>\n",
       "      <td>143783.0</td>\n",
       "      <td>60292.0</td>\n",
       "    </tr>\n",
       "    <tr>\n",
       "      <th>2</th>\n",
       "      <td>60303</td>\n",
       "      <td>590641344</td>\n",
       "      <td>ETH-USD</td>\n",
       "      <td>3598.15</td>\n",
       "      <td>3.565571</td>\n",
       "      <td>2025-01-04 06:38:55.779501+00:00</td>\n",
       "      <td>BUY</td>\n",
       "      <td>NaN</td>\n",
       "      <td>NaN</td>\n",
       "      <td>NaN</td>\n",
       "      <td>...</td>\n",
       "      <td>36310.0</td>\n",
       "      <td>36310.0</td>\n",
       "      <td>36310.0</td>\n",
       "      <td>36310.0</td>\n",
       "      <td>36310.0</td>\n",
       "      <td>36310.0</td>\n",
       "      <td>227273.0</td>\n",
       "      <td>227273.0</td>\n",
       "      <td>143782.0</td>\n",
       "      <td>60291.0</td>\n",
       "    </tr>\n",
       "    <tr>\n",
       "      <th>3</th>\n",
       "      <td>60302</td>\n",
       "      <td>590641361</td>\n",
       "      <td>ETH-USD</td>\n",
       "      <td>3597.71</td>\n",
       "      <td>0.000987</td>\n",
       "      <td>2025-01-04 06:39:14.353069+00:00</td>\n",
       "      <td>BUY</td>\n",
       "      <td>NaN</td>\n",
       "      <td>NaN</td>\n",
       "      <td>NaN</td>\n",
       "      <td>...</td>\n",
       "      <td>36311.0</td>\n",
       "      <td>36311.0</td>\n",
       "      <td>36311.0</td>\n",
       "      <td>36311.0</td>\n",
       "      <td>36311.0</td>\n",
       "      <td>36311.0</td>\n",
       "      <td>227272.0</td>\n",
       "      <td>227272.0</td>\n",
       "      <td>143781.0</td>\n",
       "      <td>60290.0</td>\n",
       "    </tr>\n",
       "    <tr>\n",
       "      <th>4</th>\n",
       "      <td>60301</td>\n",
       "      <td>590641382</td>\n",
       "      <td>ETH-USD</td>\n",
       "      <td>3597.72</td>\n",
       "      <td>0.200000</td>\n",
       "      <td>2025-01-04 06:39:29.902680+00:00</td>\n",
       "      <td>SELL</td>\n",
       "      <td>NaN</td>\n",
       "      <td>NaN</td>\n",
       "      <td>NaN</td>\n",
       "      <td>...</td>\n",
       "      <td>36312.0</td>\n",
       "      <td>36312.0</td>\n",
       "      <td>36312.0</td>\n",
       "      <td>36312.0</td>\n",
       "      <td>36312.0</td>\n",
       "      <td>36312.0</td>\n",
       "      <td>227271.0</td>\n",
       "      <td>227271.0</td>\n",
       "      <td>143780.0</td>\n",
       "      <td>60289.0</td>\n",
       "    </tr>\n",
       "  </tbody>\n",
       "</table>\n",
       "<p>5 rows × 59 columns</p>\n",
       "</div>"
      ],
      "text/plain": [
       "   Unnamed: 0   trade_id product_id    price      size  \\\n",
       "0       60305  590641283    ETH-USD  3598.16  0.013755   \n",
       "1       60304  590641310    ETH-USD  3598.95  0.002479   \n",
       "2       60303  590641344    ETH-USD  3598.15  3.565571   \n",
       "3       60302  590641361    ETH-USD  3597.71  0.000987   \n",
       "4       60301  590641382    ETH-USD  3597.72  0.200000   \n",
       "\n",
       "                               time  side  bid  ask  exchange  ...  \\\n",
       "0  2025-01-04 06:38:20.767435+00:00  SELL  NaN  NaN       NaN  ...   \n",
       "1  2025-01-04 06:38:35.543964+00:00  SELL  NaN  NaN       NaN  ...   \n",
       "2  2025-01-04 06:38:55.779501+00:00   BUY  NaN  NaN       NaN  ...   \n",
       "3  2025-01-04 06:39:14.353069+00:00   BUY  NaN  NaN       NaN  ...   \n",
       "4  2025-01-04 06:39:29.902680+00:00  SELL  NaN  NaN       NaN  ...   \n",
       "\n",
       "   Unnamed: 0.10  Unnamed: 0.9  Unnamed: 0.8  Unnamed: 0.7  Unnamed: 0.6  \\\n",
       "0        36308.0       36308.0       36308.0       36308.0       36308.0   \n",
       "1        36309.0       36309.0       36309.0       36309.0       36309.0   \n",
       "2        36310.0       36310.0       36310.0       36310.0       36310.0   \n",
       "3        36311.0       36311.0       36311.0       36311.0       36311.0   \n",
       "4        36312.0       36312.0       36312.0       36312.0       36312.0   \n",
       "\n",
       "   Unnamed: 0.5  Unnamed: 0.4  Unnamed: 0.3  Unnamed: 0.2  Unnamed: 0.1  \n",
       "0       36308.0      227275.0      227275.0      143784.0       60293.0  \n",
       "1       36309.0      227274.0      227274.0      143783.0       60292.0  \n",
       "2       36310.0      227273.0      227273.0      143782.0       60291.0  \n",
       "3       36311.0      227272.0      227272.0      143781.0       60290.0  \n",
       "4       36312.0      227271.0      227271.0      143780.0       60289.0  \n",
       "\n",
       "[5 rows x 59 columns]"
      ]
     },
     "execution_count": 74,
     "metadata": {},
     "output_type": "execute_result"
    }
   ],
   "source": [
    "df = pd.read_csv('model_data_1min.csv')\n",
    "df.head()"
   ]
  },
  {
   "cell_type": "code",
   "execution_count": 75,
   "metadata": {},
   "outputs": [
    {
     "name": "stderr",
     "output_type": "stream",
     "text": [
      "/var/folders/1f/5lhk7sb97rz53v7gk1vkcjkr0000gn/T/ipykernel_88661/991056651.py:10: FutureWarning: 'T' is deprecated and will be removed in a future version, please use 'min' instead.\n",
      "  df_resampled = df.resample(f'{minute}T').agg({\n"
     ]
    }
   ],
   "source": [
    "#data set is one datapoint every 15 seconds. Want to look once every 3 minutes instead. So we're going to limit our dataset as such\n",
    "# Make sure 'time' is a datetime object\n",
    "df['time'] = pd.to_datetime(df['time'])\n",
    "\n",
    "# Set it as index\n",
    "df.set_index('time', inplace=True)\n",
    "\n",
    "# Resample every 6 minutes\n",
    "minute = 12\n",
    "df_resampled = df.resample(f'{minute}T').agg({\n",
    "    'price': 'last',  # Last traded price in the interval\n",
    "    'size': 'sum',    # Total volume traded in the interval\n",
    "    'side': lambda x: x.mode()[0] if not x.mode().empty else 'UNKNOWN'  # Most common side or fallback\n",
    "})\n",
    "\n",
    "#x = 4000 #start data a 3/1\n",
    "\n",
    "# Grab everything after (and including) the 83,000th row\n",
    "#df_resampled = df_resampled.iloc[x:]\n",
    "\n",
    "df_resampled = df_resampled.reset_index()\n",
    "df_resampled.head()\n",
    "df_resampled.to_csv('resampled_data.csv')"
   ]
  },
  {
   "cell_type": "code",
   "execution_count": 76,
   "metadata": {},
   "outputs": [
    {
     "data": {
      "text/html": [
       "<div>\n",
       "<style scoped>\n",
       "    .dataframe tbody tr th:only-of-type {\n",
       "        vertical-align: middle;\n",
       "    }\n",
       "\n",
       "    .dataframe tbody tr th {\n",
       "        vertical-align: top;\n",
       "    }\n",
       "\n",
       "    .dataframe thead th {\n",
       "        text-align: right;\n",
       "    }\n",
       "</style>\n",
       "<table border=\"1\" class=\"dataframe\">\n",
       "  <thead>\n",
       "    <tr style=\"text-align: right;\">\n",
       "      <th></th>\n",
       "      <th>time</th>\n",
       "      <th>price</th>\n",
       "      <th>size</th>\n",
       "      <th>side</th>\n",
       "    </tr>\n",
       "  </thead>\n",
       "  <tbody>\n",
       "    <tr>\n",
       "      <th>0</th>\n",
       "      <td>2025-01-04 06:36:00+00:00</td>\n",
       "      <td>3594.34</td>\n",
       "      <td>6.551917</td>\n",
       "      <td>SELL</td>\n",
       "    </tr>\n",
       "    <tr>\n",
       "      <th>1</th>\n",
       "      <td>2025-01-04 06:48:00+00:00</td>\n",
       "      <td>3598.94</td>\n",
       "      <td>2.166045</td>\n",
       "      <td>SELL</td>\n",
       "    </tr>\n",
       "    <tr>\n",
       "      <th>2</th>\n",
       "      <td>2025-01-04 07:00:00+00:00</td>\n",
       "      <td>3604.52</td>\n",
       "      <td>6.454355</td>\n",
       "      <td>SELL</td>\n",
       "    </tr>\n",
       "    <tr>\n",
       "      <th>3</th>\n",
       "      <td>2025-01-04 07:12:00+00:00</td>\n",
       "      <td>3599.73</td>\n",
       "      <td>15.299945</td>\n",
       "      <td>SELL</td>\n",
       "    </tr>\n",
       "    <tr>\n",
       "      <th>4</th>\n",
       "      <td>2025-01-04 07:24:00+00:00</td>\n",
       "      <td>3601.35</td>\n",
       "      <td>9.520276</td>\n",
       "      <td>SELL</td>\n",
       "    </tr>\n",
       "  </tbody>\n",
       "</table>\n",
       "</div>"
      ],
      "text/plain": [
       "                       time    price       size  side\n",
       "0 2025-01-04 06:36:00+00:00  3594.34   6.551917  SELL\n",
       "1 2025-01-04 06:48:00+00:00  3598.94   2.166045  SELL\n",
       "2 2025-01-04 07:00:00+00:00  3604.52   6.454355  SELL\n",
       "3 2025-01-04 07:12:00+00:00  3599.73  15.299945  SELL\n",
       "4 2025-01-04 07:24:00+00:00  3601.35   9.520276  SELL"
      ]
     },
     "execution_count": 76,
     "metadata": {},
     "output_type": "execute_result"
    }
   ],
   "source": [
    "df_resampled.head()"
   ]
  },
  {
   "cell_type": "code",
   "execution_count": 77,
   "metadata": {},
   "outputs": [
    {
     "data": {
      "image/png": "[encoded data removed]",
      "text/plain": [
       "<Figure size 1000x600 with 1 Axes>"
      ]
     },
     "metadata": {},
     "output_type": "display_data"
    }
   ],
   "source": [
    "df_trades = df_resampled\n",
    "\n",
    "# Convert 'price' column to numeric\n",
    "df_trades['price'] = pd.to_numeric(df_trades['price'])\n",
    "\n",
    "# Plot the data\n",
    "plt.figure(figsize=(10, 6))\n",
    "plt.plot(df_trades['time'], df_trades['price'], linestyle='-', label='Price')\n",
    "\n",
    "# Add labels and title\n",
    "plt.xlabel('Time')\n",
    "plt.ylabel('Price (USD)')\n",
    "plt.title('ETH-USD Price Over Time')\n",
    "plt.grid(True)\n",
    "plt.legend()\n",
    "plt.tight_layout()\n",
    "\n",
    "# Show the plot\n",
    "plt.show()"
   ]
  },
  {
   "cell_type": "code",
   "execution_count": 78,
   "metadata": {},
   "outputs": [],
   "source": [
    "# Ensure time column is sorted\n",
    "df_trades = df_trades.sort_values('time')\n",
    "\n",
    "# Scale the 'price' and 'size' column\n",
    "scaler = MinMaxScaler(feature_range=(0, 1))\n",
    "#scaler = StandardScaler()\n",
    "df_trades['price_scaled'] = scaler.fit_transform(df_trades[['price']])\n",
    "\n",
    "# Create sequences of data for LSTM\n",
    "sequence_length = 10  # Sequence of 10 observations\n",
    "forecast_steps = 5     # Predict 5 steps into the future"
   ]
  },
  {
   "cell_type": "code",
   "execution_count": 79,
   "metadata": {},
   "outputs": [
    {
     "name": "stderr",
     "output_type": "stream",
     "text": [
      "/var/folders/1f/5lhk7sb97rz53v7gk1vkcjkr0000gn/T/ipykernel_88661/1791461416.py:2: FutureWarning: The default fill_method='pad' in Series.pct_change is deprecated and will be removed in a future version. Either fill in any non-leading NA values prior to calling pct_change or specify 'fill_method=None' to not fill NA values.\n",
      "  df_trades['pct_change'] = df_trades['price'].pct_change() * 100  # Convert to percentage\n"
     ]
    }
   ],
   "source": [
    "# Compute percent   difference\n",
    "df_trades['pct_change'] = df_trades['price'].pct_change() * 100  # Convert to percentage\n",
    "\n",
    "# Drop the first row since pct_change for first row is NaN\n",
    "df_trades = df_trades.dropna(subset=['pct_change']).reset_index(drop=True)\n",
    "\n",
    "df_trades = df_trades.drop(columns=[col for col in df_trades.columns if col.startswith(\"Unnamed\")])"
   ]
  },
  {
   "cell_type": "code",
   "execution_count": 80,
   "metadata": {},
   "outputs": [
    {
     "data": {
      "text/html": [
       "<div>\n",
       "<style scoped>\n",
       "    .dataframe tbody tr th:only-of-type {\n",
       "        vertical-align: middle;\n",
       "    }\n",
       "\n",
       "    .dataframe tbody tr th {\n",
       "        vertical-align: top;\n",
       "    }\n",
       "\n",
       "    .dataframe thead th {\n",
       "        text-align: right;\n",
       "    }\n",
       "</style>\n",
       "<table border=\"1\" class=\"dataframe\">\n",
       "  <thead>\n",
       "    <tr style=\"text-align: right;\">\n",
       "      <th></th>\n",
       "      <th>time</th>\n",
       "      <th>price</th>\n",
       "      <th>size</th>\n",
       "      <th>side</th>\n",
       "      <th>price_scaled</th>\n",
       "      <th>pct_change</th>\n",
       "      <th>sma_5</th>\n",
       "      <th>momentum</th>\n",
       "    </tr>\n",
       "  </thead>\n",
       "  <tbody>\n",
       "    <tr>\n",
       "      <th>5</th>\n",
       "      <td>2025-01-04 07:48:00+00:00</td>\n",
       "      <td>3592.58</td>\n",
       "      <td>9.574716</td>\n",
       "      <td>SELL</td>\n",
       "      <td>0.937762</td>\n",
       "      <td>-0.175609</td>\n",
       "      <td>0.940693</td>\n",
       "      <td>-0.002727</td>\n",
       "    </tr>\n",
       "    <tr>\n",
       "      <th>6</th>\n",
       "      <td>2025-01-04 08:00:00+00:00</td>\n",
       "      <td>3600.20</td>\n",
       "      <td>4.764039</td>\n",
       "      <td>SELL</td>\n",
       "      <td>0.941029</td>\n",
       "      <td>0.212104</td>\n",
       "      <td>0.940323</td>\n",
       "      <td>-0.001853</td>\n",
       "    </tr>\n",
       "    <tr>\n",
       "      <th>7</th>\n",
       "      <td>2025-01-04 08:12:00+00:00</td>\n",
       "      <td>3595.58</td>\n",
       "      <td>4.483896</td>\n",
       "      <td>SELL</td>\n",
       "      <td>0.939048</td>\n",
       "      <td>-0.128326</td>\n",
       "      <td>0.939967</td>\n",
       "      <td>-0.001780</td>\n",
       "    </tr>\n",
       "    <tr>\n",
       "      <th>8</th>\n",
       "      <td>2025-01-04 08:24:00+00:00</td>\n",
       "      <td>3597.75</td>\n",
       "      <td>7.692453</td>\n",
       "      <td>SELL</td>\n",
       "      <td>0.939979</td>\n",
       "      <td>0.060352</td>\n",
       "      <td>0.939658</td>\n",
       "      <td>-0.001544</td>\n",
       "    </tr>\n",
       "    <tr>\n",
       "      <th>9</th>\n",
       "      <td>2025-01-04 08:36:00+00:00</td>\n",
       "      <td>3585.29</td>\n",
       "      <td>19.931080</td>\n",
       "      <td>SELL</td>\n",
       "      <td>0.934635</td>\n",
       "      <td>-0.346328</td>\n",
       "      <td>0.938491</td>\n",
       "      <td>-0.005837</td>\n",
       "    </tr>\n",
       "  </tbody>\n",
       "</table>\n",
       "</div>"
      ],
      "text/plain": [
       "                       time    price       size  side  price_scaled  \\\n",
       "5 2025-01-04 07:48:00+00:00  3592.58   9.574716  SELL      0.937762   \n",
       "6 2025-01-04 08:00:00+00:00  3600.20   4.764039  SELL      0.941029   \n",
       "7 2025-01-04 08:12:00+00:00  3595.58   4.483896  SELL      0.939048   \n",
       "8 2025-01-04 08:24:00+00:00  3597.75   7.692453  SELL      0.939979   \n",
       "9 2025-01-04 08:36:00+00:00  3585.29  19.931080  SELL      0.934635   \n",
       "\n",
       "   pct_change     sma_5  momentum  \n",
       "5   -0.175609  0.940693 -0.002727  \n",
       "6    0.212104  0.940323 -0.001853  \n",
       "7   -0.128326  0.939967 -0.001780  \n",
       "8    0.060352  0.939658 -0.001544  \n",
       "9   -0.346328  0.938491 -0.005837  "
      ]
     },
     "execution_count": 80,
     "metadata": {},
     "output_type": "execute_result"
    }
   ],
   "source": [
    "df_trades['sma_5'] = df_trades['price_scaled'].rolling(window=5).mean()\n",
    "df_trades['momentum'] = df_trades['price_scaled'] - df_trades['price_scaled'].shift(5)\n",
    "df_trades.dropna(subset=['sma_5', 'momentum'], inplace=True)\n",
    "df_trades.head()"
   ]
  },
  {
   "cell_type": "code",
   "execution_count": 81,
   "id": "623a2255",
   "metadata": {},
   "outputs": [
    {
     "name": "stdout",
     "output_type": "stream",
     "text": [
      "One-hot encoded labels shape: (12937, 3)\n"
     ]
    }
   ],
   "source": [
    "\n",
    "from sklearn.preprocessing import OneHotEncoder\n",
    "\n",
    "sequence_length = 60\n",
    "forecast_steps = 3\n",
    "\n",
    "X = []\n",
    "y = []\n",
    "\n",
    "# Generate binary inputs: 0 if price went down, 1 if up\n",
    "price_changes = (df_trades['price_scaled'].diff() > 0).astype(int).values\n",
    "\n",
    "# Normalize prices for use in label logic\n",
    "prices = df_trades['price'].values\n",
    "\n",
    "for i in range(len(prices) - sequence_length - forecast_steps):\n",
    "    # Inputs: binary price movement over last `sequence_length` steps\n",
    "    X.append(price_changes[i:i + sequence_length])\n",
    "\n",
    "    # Determine price movement for target\n",
    "    current_price = prices[i + sequence_length]\n",
    "    future_price = prices[i + sequence_length + forecast_steps]\n",
    "    pct_change = (future_price - current_price) / current_price\n",
    "\n",
    "    if pct_change > 0.001:\n",
    "        label = 2  # BUY\n",
    "    elif pct_change < -0.001:\n",
    "        label = 0  # SELL\n",
    "    else:\n",
    "        label = 1  # HOLD\n",
    "\n",
    "    y.append(label)\n",
    "\n",
    "X = np.array(X).reshape(-1, sequence_length, 1)  # Reshape for CNN 1D input\n",
    "y = np.array(y).reshape(-1, 1)\n",
    "\n",
    "# One-hot encode both inputs and outputs\n",
    "encoder_y = OneHotEncoder(sparse_output=False)\n",
    "y = encoder_y.fit_transform(y)\n",
    "print(\"One-hot encoded labels shape:\", y.shape)\n"
   ]
  },
  {
   "cell_type": "code",
   "execution_count": 82,
   "metadata": {},
   "outputs": [],
   "source": [
    "# Split the data into training and testing sets\n",
    "train_size = int(len(X) * 0.8)\n",
    "X_train, X_test = X[:train_size], X[train_size:]\n",
    "y_train, y_test = y[:train_size], y[train_size:]"
   ]
  },
  {
   "cell_type": "code",
   "execution_count": 83,
   "metadata": {},
   "outputs": [
    {
     "name": "stdout",
     "output_type": "stream",
     "text": [
      "[1028.  518. 1042.]\n"
     ]
    }
   ],
   "source": [
    "print(np.sum(y_test, axis=0))  # if y is one-hot"
   ]
  },
  {
   "cell_type": "code",
   "execution_count": 84,
   "metadata": {},
   "outputs": [
    {
     "data": {
      "text/plain": [
       "(10349, 60, 1)"
      ]
     },
     "execution_count": 84,
     "metadata": {},
     "output_type": "execute_result"
    }
   ],
   "source": [
    "X_train.shape"
   ]
  },
  {
   "cell_type": "code",
   "execution_count": 85,
   "id": "44f0a9dd",
   "metadata": {},
   "outputs": [
    {
     "data": {
      "text/html": [
       "<pre style=\"white-space:pre;overflow-x:auto;line-height:normal;font-family:Menlo,'DejaVu Sans Mono',consolas,'Courier New',monospace\"><span style=\"font-weight: bold\">Model: \"sequential_7\"</span>\n",
       "</pre>\n"
      ],
      "text/plain": [
       "\u001b[1mModel: \"sequential_7\"\u001b[0m\n"
      ]
     },
     "metadata": {},
     "output_type": "display_data"
    },
    {
     "data": {
      "text/html": [
       "<pre style=\"white-space:pre;overflow-x:auto;line-height:normal;font-family:Menlo,'DejaVu Sans Mono',consolas,'Courier New',monospace\">┏━━━━━━━━━━━━━━━━━━━━━━━━━━━━━━━━━┳━━━━━━━━━━━━━━━━━━━━━━━━┳━━━━━━━━━━━━━━━┓\n",
       "┃<span style=\"font-weight: bold\"> Layer (type)                    </span>┃<span style=\"font-weight: bold\"> Output Shape           </span>┃<span style=\"font-weight: bold\">       Param # </span>┃\n",
       "┡━━━━━━━━━━━━━━━━━━━━━━━━━━━━━━━━━╇━━━━━━━━━━━━━━━━━━━━━━━━╇━━━━━━━━━━━━━━━┩\n",
       "│ conv1d_5 (<span style=\"color: #0087ff; text-decoration-color: #0087ff\">Conv1D</span>)               │ (<span style=\"color: #00d7ff; text-decoration-color: #00d7ff\">None</span>, <span style=\"color: #00af00; text-decoration-color: #00af00\">58</span>, <span style=\"color: #00af00; text-decoration-color: #00af00\">64</span>)         │           <span style=\"color: #00af00; text-decoration-color: #00af00\">256</span> │\n",
       "├─────────────────────────────────┼────────────────────────┼───────────────┤\n",
       "│ batch_normalization_15          │ (<span style=\"color: #00d7ff; text-decoration-color: #00d7ff\">None</span>, <span style=\"color: #00af00; text-decoration-color: #00af00\">58</span>, <span style=\"color: #00af00; text-decoration-color: #00af00\">64</span>)         │           <span style=\"color: #00af00; text-decoration-color: #00af00\">256</span> │\n",
       "│ (<span style=\"color: #0087ff; text-decoration-color: #0087ff\">BatchNormalization</span>)            │                        │               │\n",
       "├─────────────────────────────────┼────────────────────────┼───────────────┤\n",
       "│ average_pooling1d_5             │ (<span style=\"color: #00d7ff; text-decoration-color: #00d7ff\">None</span>, <span style=\"color: #00af00; text-decoration-color: #00af00\">58</span>, <span style=\"color: #00af00; text-decoration-color: #00af00\">64</span>)         │             <span style=\"color: #00af00; text-decoration-color: #00af00\">0</span> │\n",
       "│ (<span style=\"color: #0087ff; text-decoration-color: #0087ff\">AveragePooling1D</span>)              │                        │               │\n",
       "├─────────────────────────────────┼────────────────────────┼───────────────┤\n",
       "│ dropout_15 (<span style=\"color: #0087ff; text-decoration-color: #0087ff\">Dropout</span>)            │ (<span style=\"color: #00d7ff; text-decoration-color: #00d7ff\">None</span>, <span style=\"color: #00af00; text-decoration-color: #00af00\">58</span>, <span style=\"color: #00af00; text-decoration-color: #00af00\">64</span>)         │             <span style=\"color: #00af00; text-decoration-color: #00af00\">0</span> │\n",
       "├─────────────────────────────────┼────────────────────────┼───────────────┤\n",
       "│ lstm_14 (<span style=\"color: #0087ff; text-decoration-color: #0087ff\">LSTM</span>)                  │ (<span style=\"color: #00d7ff; text-decoration-color: #00d7ff\">None</span>, <span style=\"color: #00af00; text-decoration-color: #00af00\">58</span>, <span style=\"color: #00af00; text-decoration-color: #00af00\">128</span>)        │        <span style=\"color: #00af00; text-decoration-color: #00af00\">98,816</span> │\n",
       "├─────────────────────────────────┼────────────────────────┼───────────────┤\n",
       "│ batch_normalization_16          │ (<span style=\"color: #00d7ff; text-decoration-color: #00d7ff\">None</span>, <span style=\"color: #00af00; text-decoration-color: #00af00\">58</span>, <span style=\"color: #00af00; text-decoration-color: #00af00\">128</span>)        │           <span style=\"color: #00af00; text-decoration-color: #00af00\">512</span> │\n",
       "│ (<span style=\"color: #0087ff; text-decoration-color: #0087ff\">BatchNormalization</span>)            │                        │               │\n",
       "├─────────────────────────────────┼────────────────────────┼───────────────┤\n",
       "│ dropout_16 (<span style=\"color: #0087ff; text-decoration-color: #0087ff\">Dropout</span>)            │ (<span style=\"color: #00d7ff; text-decoration-color: #00d7ff\">None</span>, <span style=\"color: #00af00; text-decoration-color: #00af00\">58</span>, <span style=\"color: #00af00; text-decoration-color: #00af00\">128</span>)        │             <span style=\"color: #00af00; text-decoration-color: #00af00\">0</span> │\n",
       "├─────────────────────────────────┼────────────────────────┼───────────────┤\n",
       "│ lstm_15 (<span style=\"color: #0087ff; text-decoration-color: #0087ff\">LSTM</span>)                  │ (<span style=\"color: #00d7ff; text-decoration-color: #00d7ff\">None</span>, <span style=\"color: #00af00; text-decoration-color: #00af00\">80</span>)             │        <span style=\"color: #00af00; text-decoration-color: #00af00\">66,880</span> │\n",
       "├─────────────────────────────────┼────────────────────────┼───────────────┤\n",
       "│ batch_normalization_17          │ (<span style=\"color: #00d7ff; text-decoration-color: #00d7ff\">None</span>, <span style=\"color: #00af00; text-decoration-color: #00af00\">80</span>)             │           <span style=\"color: #00af00; text-decoration-color: #00af00\">320</span> │\n",
       "│ (<span style=\"color: #0087ff; text-decoration-color: #0087ff\">BatchNormalization</span>)            │                        │               │\n",
       "├─────────────────────────────────┼────────────────────────┼───────────────┤\n",
       "│ dropout_17 (<span style=\"color: #0087ff; text-decoration-color: #0087ff\">Dropout</span>)            │ (<span style=\"color: #00d7ff; text-decoration-color: #00d7ff\">None</span>, <span style=\"color: #00af00; text-decoration-color: #00af00\">80</span>)             │             <span style=\"color: #00af00; text-decoration-color: #00af00\">0</span> │\n",
       "├─────────────────────────────────┼────────────────────────┼───────────────┤\n",
       "│ dense_9 (<span style=\"color: #0087ff; text-decoration-color: #0087ff\">Dense</span>)                 │ (<span style=\"color: #00d7ff; text-decoration-color: #00d7ff\">None</span>, <span style=\"color: #00af00; text-decoration-color: #00af00\">3</span>)              │           <span style=\"color: #00af00; text-decoration-color: #00af00\">243</span> │\n",
       "└─────────────────────────────────┴────────────────────────┴───────────────┘\n",
       "</pre>\n"
      ],
      "text/plain": [
       "┏━━━━━━━━━━━━━━━━━━━━━━━━━━━━━━━━━┳━━━━━━━━━━━━━━━━━━━━━━━━┳━━━━━━━━━━━━━━━┓\n",
       "┃\u001b[1m \u001b[0m\u001b[1mLayer (type)                   \u001b[0m\u001b[1m \u001b[0m┃\u001b[1m \u001b[0m\u001b[1mOutput Shape          \u001b[0m\u001b[1m \u001b[0m┃\u001b[1m \u001b[0m\u001b[1m      Param #\u001b[0m\u001b[1m \u001b[0m┃\n",
       "┡━━━━━━━━━━━━━━━━━━━━━━━━━━━━━━━━━╇━━━━━━━━━━━━━━━━━━━━━━━━╇━━━━━━━━━━━━━━━┩\n",
       "│ conv1d_5 (\u001b[38;5;33mConv1D\u001b[0m)               │ (\u001b[38;5;45mNone\u001b[0m, \u001b[38;5;34m58\u001b[0m, \u001b[38;5;34m64\u001b[0m)         │           \u001b[38;5;34m256\u001b[0m │\n",
       "├─────────────────────────────────┼────────────────────────┼───────────────┤\n",
       "│ batch_normalization_15          │ (\u001b[38;5;45mNone\u001b[0m, \u001b[38;5;34m58\u001b[0m, \u001b[38;5;34m64\u001b[0m)         │           \u001b[38;5;34m256\u001b[0m │\n",
       "│ (\u001b[38;5;33mBatchNormalization\u001b[0m)            │                        │               │\n",
       "├─────────────────────────────────┼────────────────────────┼───────────────┤\n",
       "│ average_pooling1d_5             │ (\u001b[38;5;45mNone\u001b[0m, \u001b[38;5;34m58\u001b[0m, \u001b[38;5;34m64\u001b[0m)         │             \u001b[38;5;34m0\u001b[0m │\n",
       "│ (\u001b[38;5;33mAveragePooling1D\u001b[0m)              │                        │               │\n",
       "├─────────────────────────────────┼────────────────────────┼───────────────┤\n",
       "│ dropout_15 (\u001b[38;5;33mDropout\u001b[0m)            │ (\u001b[38;5;45mNone\u001b[0m, \u001b[38;5;34m58\u001b[0m, \u001b[38;5;34m64\u001b[0m)         │             \u001b[38;5;34m0\u001b[0m │\n",
       "├─────────────────────────────────┼────────────────────────┼───────────────┤\n",
       "│ lstm_14 (\u001b[38;5;33mLSTM\u001b[0m)                  │ (\u001b[38;5;45mNone\u001b[0m, \u001b[38;5;34m58\u001b[0m, \u001b[38;5;34m128\u001b[0m)        │        \u001b[38;5;34m98,816\u001b[0m │\n",
       "├─────────────────────────────────┼────────────────────────┼───────────────┤\n",
       "│ batch_normalization_16          │ (\u001b[38;5;45mNone\u001b[0m, \u001b[38;5;34m58\u001b[0m, \u001b[38;5;34m128\u001b[0m)        │           \u001b[38;5;34m512\u001b[0m │\n",
       "│ (\u001b[38;5;33mBatchNormalization\u001b[0m)            │                        │               │\n",
       "├─────────────────────────────────┼────────────────────────┼───────────────┤\n",
       "│ dropout_16 (\u001b[38;5;33mDropout\u001b[0m)            │ (\u001b[38;5;45mNone\u001b[0m, \u001b[38;5;34m58\u001b[0m, \u001b[38;5;34m128\u001b[0m)        │             \u001b[38;5;34m0\u001b[0m │\n",
       "├─────────────────────────────────┼────────────────────────┼───────────────┤\n",
       "│ lstm_15 (\u001b[38;5;33mLSTM\u001b[0m)                  │ (\u001b[38;5;45mNone\u001b[0m, \u001b[38;5;34m80\u001b[0m)             │        \u001b[38;5;34m66,880\u001b[0m │\n",
       "├─────────────────────────────────┼────────────────────────┼───────────────┤\n",
       "│ batch_normalization_17          │ (\u001b[38;5;45mNone\u001b[0m, \u001b[38;5;34m80\u001b[0m)             │           \u001b[38;5;34m320\u001b[0m │\n",
       "│ (\u001b[38;5;33mBatchNormalization\u001b[0m)            │                        │               │\n",
       "├─────────────────────────────────┼────────────────────────┼───────────────┤\n",
       "│ dropout_17 (\u001b[38;5;33mDropout\u001b[0m)            │ (\u001b[38;5;45mNone\u001b[0m, \u001b[38;5;34m80\u001b[0m)             │             \u001b[38;5;34m0\u001b[0m │\n",
       "├─────────────────────────────────┼────────────────────────┼───────────────┤\n",
       "│ dense_9 (\u001b[38;5;33mDense\u001b[0m)                 │ (\u001b[38;5;45mNone\u001b[0m, \u001b[38;5;34m3\u001b[0m)              │           \u001b[38;5;34m243\u001b[0m │\n",
       "└─────────────────────────────────┴────────────────────────┴───────────────┘\n"
      ]
     },
     "metadata": {},
     "output_type": "display_data"
    },
    {
     "data": {
      "text/html": [
       "<pre style=\"white-space:pre;overflow-x:auto;line-height:normal;font-family:Menlo,'DejaVu Sans Mono',consolas,'Courier New',monospace\"><span style=\"font-weight: bold\"> Total params: </span><span style=\"color: #00af00; text-decoration-color: #00af00\">167,283</span> (653.45 KB)\n",
       "</pre>\n"
      ],
      "text/plain": [
       "\u001b[1m Total params: \u001b[0m\u001b[38;5;34m167,283\u001b[0m (653.45 KB)\n"
      ]
     },
     "metadata": {},
     "output_type": "display_data"
    },
    {
     "data": {
      "text/html": [
       "<pre style=\"white-space:pre;overflow-x:auto;line-height:normal;font-family:Menlo,'DejaVu Sans Mono',consolas,'Courier New',monospace\"><span style=\"font-weight: bold\"> Trainable params: </span><span style=\"color: #00af00; text-decoration-color: #00af00\">166,739</span> (651.32 KB)\n",
       "</pre>\n"
      ],
      "text/plain": [
       "\u001b[1m Trainable params: \u001b[0m\u001b[38;5;34m166,739\u001b[0m (651.32 KB)\n"
      ]
     },
     "metadata": {},
     "output_type": "display_data"
    },
    {
     "data": {
      "text/html": [
       "<pre style=\"white-space:pre;overflow-x:auto;line-height:normal;font-family:Menlo,'DejaVu Sans Mono',consolas,'Courier New',monospace\"><span style=\"font-weight: bold\"> Non-trainable params: </span><span style=\"color: #00af00; text-decoration-color: #00af00\">544</span> (2.12 KB)\n",
       "</pre>\n"
      ],
      "text/plain": [
       "\u001b[1m Non-trainable params: \u001b[0m\u001b[38;5;34m544\u001b[0m (2.12 KB)\n"
      ]
     },
     "metadata": {},
     "output_type": "display_data"
    }
   ],
   "source": [
    "model = Sequential([\n",
    "    Input(shape=(X_train.shape[1], X_train.shape[2])),\n",
    "\n",
    "    # CNN Layer\n",
    "    Conv1D(filters=64, kernel_size=3, activation='relu'),\n",
    "    BatchNormalization(),\n",
    "    AveragePooling1D(pool_size=1),\n",
    "    Dropout(0.5),\n",
    "\n",
    "    # First LSTM Layer\n",
    "    LSTM(128, return_sequences=True, activation='tanh'),\n",
    "    BatchNormalization(),\n",
    "    Dropout(0.5),\n",
    "\n",
    "    # Second LSTM Layer\n",
    "    LSTM(80, activation='tanh'),\n",
    "    BatchNormalization(),\n",
    "    Dropout(0.5),\n",
    "\n",
    "    # Output Layer\n",
    "    Dense(3, activation='softmax')\n",
    "])\n",
    "\n",
    "model.compile(optimizer=Adam(learning_rate=0.001),\n",
    "              loss='binary_crossentropy',\n",
    "              metrics=['accuracy'])\n",
    "\n",
    "model.summary()"
   ]
  },
  {
   "cell_type": "code",
   "execution_count": 86,
   "metadata": {},
   "outputs": [
    {
     "name": "stdout",
     "output_type": "stream",
     "text": [
      "Epoch 1/100\n",
      "\u001b[1m324/324\u001b[0m \u001b[32m━━━━━━━━━━━━━━━━━━━━\u001b[0m\u001b[37m\u001b[0m \u001b[1m36s\u001b[0m 101ms/step - accuracy: 0.3480 - loss: 0.8659 - val_accuracy: 0.3872 - val_loss: 0.6174\n",
      "Epoch 2/100\n",
      "\u001b[1m324/324\u001b[0m \u001b[32m━━━━━━━━━━━━━━━━━━━━\u001b[0m\u001b[37m\u001b[0m \u001b[1m26s\u001b[0m 81ms/step - accuracy: 0.3891 - loss: 0.6734 - val_accuracy: 0.3841 - val_loss: 0.6185\n",
      "Epoch 3/100\n",
      "\u001b[1m324/324\u001b[0m \u001b[32m━━━━━━━━━━━━━━━━━━━━\u001b[0m\u001b[37m\u001b[0m \u001b[1m25s\u001b[0m 78ms/step - accuracy: 0.4010 - loss: 0.6367 - val_accuracy: 0.3733 - val_loss: 0.6198\n",
      "Epoch 4/100\n",
      "\u001b[1m324/324\u001b[0m \u001b[32m━━━━━━━━━━━━━━━━━━━━\u001b[0m\u001b[37m\u001b[0m \u001b[1m25s\u001b[0m 77ms/step - accuracy: 0.4040 - loss: 0.6229 - val_accuracy: 0.3810 - val_loss: 0.6212\n",
      "Epoch 5/100\n",
      "\u001b[1m324/324\u001b[0m \u001b[32m━━━━━━━━━━━━━━━━━━━━\u001b[0m\u001b[37m\u001b[0m \u001b[1m23s\u001b[0m 71ms/step - accuracy: 0.3964 - loss: 0.6222 - val_accuracy: 0.3825 - val_loss: 0.6188\n",
      "Epoch 6/100\n",
      "\u001b[1m324/324\u001b[0m \u001b[32m━━━━━━━━━━━━━━━━━━━━\u001b[0m\u001b[37m\u001b[0m \u001b[1m25s\u001b[0m 77ms/step - accuracy: 0.4050 - loss: 0.6203 - val_accuracy: 0.3910 - val_loss: 0.6167\n",
      "Epoch 7/100\n",
      "\u001b[1m324/324\u001b[0m \u001b[32m━━━━━━━━━━━━━━━━━━━━\u001b[0m\u001b[37m\u001b[0m \u001b[1m24s\u001b[0m 75ms/step - accuracy: 0.3997 - loss: 0.6177 - val_accuracy: 0.3775 - val_loss: 0.6196\n",
      "Epoch 8/100\n",
      "\u001b[1m324/324\u001b[0m \u001b[32m━━━━━━━━━━━━━━━━━━━━\u001b[0m\u001b[37m\u001b[0m \u001b[1m24s\u001b[0m 73ms/step - accuracy: 0.4152 - loss: 0.6151 - val_accuracy: 0.3914 - val_loss: 0.6159\n",
      "Epoch 9/100\n",
      "\u001b[1m324/324\u001b[0m \u001b[32m━━━━━━━━━━━━━━━━━━━━\u001b[0m\u001b[37m\u001b[0m \u001b[1m203s\u001b[0m 629ms/step - accuracy: 0.4051 - loss: 0.6140 - val_accuracy: 0.3779 - val_loss: 0.6191\n",
      "Epoch 10/100\n",
      "\u001b[1m324/324\u001b[0m \u001b[32m━━━━━━━━━━━━━━━━━━━━\u001b[0m\u001b[37m\u001b[0m \u001b[1m25s\u001b[0m 76ms/step - accuracy: 0.4025 - loss: 0.6189 - val_accuracy: 0.3984 - val_loss: 0.6178\n",
      "Epoch 11/100\n",
      "\u001b[1m324/324\u001b[0m \u001b[32m━━━━━━━━━━━━━━━━━━━━\u001b[0m\u001b[37m\u001b[0m \u001b[1m24s\u001b[0m 73ms/step - accuracy: 0.4226 - loss: 0.6117 - val_accuracy: 0.3941 - val_loss: 0.6181\n",
      "Epoch 12/100\n",
      "\u001b[1m324/324\u001b[0m \u001b[32m━━━━━━━━━━━━━━━━━━━━\u001b[0m\u001b[37m\u001b[0m \u001b[1m24s\u001b[0m 75ms/step - accuracy: 0.4166 - loss: 0.6137 - val_accuracy: 0.4061 - val_loss: 0.6195\n",
      "Epoch 13/100\n",
      "\u001b[1m324/324\u001b[0m \u001b[32m━━━━━━━━━━━━━━━━━━━━\u001b[0m\u001b[37m\u001b[0m \u001b[1m157s\u001b[0m 485ms/step - accuracy: 0.4162 - loss: 0.6130 - val_accuracy: 0.4034 - val_loss: 0.6196\n"
     ]
    }
   ],
   "source": [
    "# Add Early Stopping to prevent overfitting\n",
    "early_stopping = EarlyStopping(\n",
    "    monitor='val_loss',  # Monitor validation loss\n",
    "    patience=5,         # Stop training if no improvement for 10 epochs\n",
    "    restore_best_weights=True  # Restore model weights from the epoch with the best validation loss\n",
    ")\n",
    "\n",
    "\n",
    "# Train the model\n",
    "history = model.fit(X_train, y_train, epochs=100, batch_size=32, validation_data=(X_test, y_test), verbose=1, callbacks=[early_stopping])"
   ]
  },
  {
   "cell_type": "code",
   "execution_count": 87,
   "metadata": {},
   "outputs": [
    {
     "name": "stdout",
     "output_type": "stream",
     "text": [
      "\u001b[1m81/81\u001b[0m \u001b[32m━━━━━━━━━━━━━━━━━━━━\u001b[0m\u001b[37m\u001b[0m \u001b[1m2s\u001b[0m 24ms/step\n",
      "              precision    recall  f1-score   support\n",
      "\n",
      "        SELL       0.38      0.41      0.40      1028\n",
      "        HOLD       0.00      0.00      0.00       518\n",
      "         BUY       0.40      0.56      0.47      1042\n",
      "\n",
      "    accuracy                           0.39      2588\n",
      "   macro avg       0.26      0.33      0.29      2588\n",
      "weighted avg       0.31      0.39      0.35      2588\n",
      "\n"
     ]
    },
    {
     "name": "stderr",
     "output_type": "stream",
     "text": [
      "/Library/Frameworks/Python.framework/Versions/3.12/lib/python3.12/site-packages/sklearn/metrics/_classification.py:1531: UndefinedMetricWarning: Precision is ill-defined and being set to 0.0 in labels with no predicted samples. Use `zero_division` parameter to control this behavior.\n",
      "  _warn_prf(average, modifier, f\"{metric.capitalize()} is\", len(result))\n",
      "/Library/Frameworks/Python.framework/Versions/3.12/lib/python3.12/site-packages/sklearn/metrics/_classification.py:1531: UndefinedMetricWarning: Precision is ill-defined and being set to 0.0 in labels with no predicted samples. Use `zero_division` parameter to control this behavior.\n",
      "  _warn_prf(average, modifier, f\"{metric.capitalize()} is\", len(result))\n",
      "/Library/Frameworks/Python.framework/Versions/3.12/lib/python3.12/site-packages/sklearn/metrics/_classification.py:1531: UndefinedMetricWarning: Precision is ill-defined and being set to 0.0 in labels with no predicted samples. Use `zero_division` parameter to control this behavior.\n",
      "  _warn_prf(average, modifier, f\"{metric.capitalize()} is\", len(result))\n"
     ]
    }
   ],
   "source": [
    "from sklearn.metrics import classification_report\n",
    "y_pred = model.predict(X_test)\n",
    "y_pred_classes = np.argmax(y_pred, axis=1)\n",
    "y_true_classes = np.argmax(y_test, axis=1)\n",
    "\n",
    "print(classification_report(y_true_classes, y_pred_classes, target_names=['SELL', 'HOLD', 'BUY']))"
   ]
  }
 ],
 "metadata": {
  "kernelspec": {
   "display_name": "Python 3",
   "language": "python",
   "name": "python3"
  },
  "language_info": {
   "codemirror_mode": {
    "name": "ipython",
    "version": 3
   },
   "file_extension": ".py",
   "mimetype": "text/x-python",
   "name": "python",
   "nbconvert_exporter": "python",
   "pygments_lexer": "ipython3",
   "version": "3.12.7"
  }
 },
 "nbformat": 4,
 "nbformat_minor": 2
}
