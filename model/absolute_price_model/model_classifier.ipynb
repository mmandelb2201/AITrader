{
 "cells": [
  {
   "cell_type": "code",
   "execution_count": 152,
   "metadata": {},
   "outputs": [],
   "source": [
    "import pandas as pd\n",
    "import numpy as np\n",
    "from tensorflow.keras.models import Sequential\n",
    "from tensorflow.keras.layers import LSTM, Dense, Dropout, Input, LeakyReLU, BatchNormalization, Bidirectional, GRU\n",
    "from tensorflow.keras.callbacks import EarlyStopping\n",
    "from tensorflow.keras.losses import MeanSquaredError, CategoricalCrossentropy\n",
    "from tensorflow.keras.optimizers import Adam\n",
    "from tensorflow.keras.regularizers import l2, l1\n",
    "from tensorflow.keras.saving import save_model\n",
    "from tensorflow.keras.utils import to_categorical\n",
    "import matplotlib.pyplot as plt\n",
    "from sklearn.preprocessing import MinMaxScaler, RobustScaler, StandardScaler"
   ]
  },
  {
   "cell_type": "code",
   "execution_count": 153,
   "metadata": {},
   "outputs": [
    {
     "data": {
      "text/html": [
       "<div>\n",
       "<style scoped>\n",
       "    .dataframe tbody tr th:only-of-type {\n",
       "        vertical-align: middle;\n",
       "    }\n",
       "\n",
       "    .dataframe tbody tr th {\n",
       "        vertical-align: top;\n",
       "    }\n",
       "\n",
       "    .dataframe thead th {\n",
       "        text-align: right;\n",
       "    }\n",
       "</style>\n",
       "<table border=\"1\" class=\"dataframe\">\n",
       "  <thead>\n",
       "    <tr style=\"text-align: right;\">\n",
       "      <th></th>\n",
       "      <th>Unnamed: 0</th>\n",
       "      <th>trade_id</th>\n",
       "      <th>product_id</th>\n",
       "      <th>price</th>\n",
       "      <th>size</th>\n",
       "      <th>time</th>\n",
       "      <th>side</th>\n",
       "      <th>bid</th>\n",
       "      <th>ask</th>\n",
       "      <th>exchange</th>\n",
       "      <th>...</th>\n",
       "      <th>Unnamed: 0.10</th>\n",
       "      <th>Unnamed: 0.9</th>\n",
       "      <th>Unnamed: 0.8</th>\n",
       "      <th>Unnamed: 0.7</th>\n",
       "      <th>Unnamed: 0.6</th>\n",
       "      <th>Unnamed: 0.5</th>\n",
       "      <th>Unnamed: 0.4</th>\n",
       "      <th>Unnamed: 0.3</th>\n",
       "      <th>Unnamed: 0.2</th>\n",
       "      <th>Unnamed: 0.1</th>\n",
       "    </tr>\n",
       "  </thead>\n",
       "  <tbody>\n",
       "    <tr>\n",
       "      <th>0</th>\n",
       "      <td>60305</td>\n",
       "      <td>590641283</td>\n",
       "      <td>ETH-USD</td>\n",
       "      <td>3598.16</td>\n",
       "      <td>0.013755</td>\n",
       "      <td>2025-01-04 06:38:20.767435+00:00</td>\n",
       "      <td>SELL</td>\n",
       "      <td>NaN</td>\n",
       "      <td>NaN</td>\n",
       "      <td>NaN</td>\n",
       "      <td>...</td>\n",
       "      <td>36308.0</td>\n",
       "      <td>36308.0</td>\n",
       "      <td>36308.0</td>\n",
       "      <td>36308.0</td>\n",
       "      <td>36308.0</td>\n",
       "      <td>36308.0</td>\n",
       "      <td>227275.0</td>\n",
       "      <td>227275.0</td>\n",
       "      <td>143784.0</td>\n",
       "      <td>60293.0</td>\n",
       "    </tr>\n",
       "    <tr>\n",
       "      <th>1</th>\n",
       "      <td>60304</td>\n",
       "      <td>590641310</td>\n",
       "      <td>ETH-USD</td>\n",
       "      <td>3598.95</td>\n",
       "      <td>0.002479</td>\n",
       "      <td>2025-01-04 06:38:35.543964+00:00</td>\n",
       "      <td>SELL</td>\n",
       "      <td>NaN</td>\n",
       "      <td>NaN</td>\n",
       "      <td>NaN</td>\n",
       "      <td>...</td>\n",
       "      <td>36309.0</td>\n",
       "      <td>36309.0</td>\n",
       "      <td>36309.0</td>\n",
       "      <td>36309.0</td>\n",
       "      <td>36309.0</td>\n",
       "      <td>36309.0</td>\n",
       "      <td>227274.0</td>\n",
       "      <td>227274.0</td>\n",
       "      <td>143783.0</td>\n",
       "      <td>60292.0</td>\n",
       "    </tr>\n",
       "    <tr>\n",
       "      <th>2</th>\n",
       "      <td>60303</td>\n",
       "      <td>590641344</td>\n",
       "      <td>ETH-USD</td>\n",
       "      <td>3598.15</td>\n",
       "      <td>3.565571</td>\n",
       "      <td>2025-01-04 06:38:55.779501+00:00</td>\n",
       "      <td>BUY</td>\n",
       "      <td>NaN</td>\n",
       "      <td>NaN</td>\n",
       "      <td>NaN</td>\n",
       "      <td>...</td>\n",
       "      <td>36310.0</td>\n",
       "      <td>36310.0</td>\n",
       "      <td>36310.0</td>\n",
       "      <td>36310.0</td>\n",
       "      <td>36310.0</td>\n",
       "      <td>36310.0</td>\n",
       "      <td>227273.0</td>\n",
       "      <td>227273.0</td>\n",
       "      <td>143782.0</td>\n",
       "      <td>60291.0</td>\n",
       "    </tr>\n",
       "    <tr>\n",
       "      <th>3</th>\n",
       "      <td>60302</td>\n",
       "      <td>590641361</td>\n",
       "      <td>ETH-USD</td>\n",
       "      <td>3597.71</td>\n",
       "      <td>0.000987</td>\n",
       "      <td>2025-01-04 06:39:14.353069+00:00</td>\n",
       "      <td>BUY</td>\n",
       "      <td>NaN</td>\n",
       "      <td>NaN</td>\n",
       "      <td>NaN</td>\n",
       "      <td>...</td>\n",
       "      <td>36311.0</td>\n",
       "      <td>36311.0</td>\n",
       "      <td>36311.0</td>\n",
       "      <td>36311.0</td>\n",
       "      <td>36311.0</td>\n",
       "      <td>36311.0</td>\n",
       "      <td>227272.0</td>\n",
       "      <td>227272.0</td>\n",
       "      <td>143781.0</td>\n",
       "      <td>60290.0</td>\n",
       "    </tr>\n",
       "    <tr>\n",
       "      <th>4</th>\n",
       "      <td>60301</td>\n",
       "      <td>590641382</td>\n",
       "      <td>ETH-USD</td>\n",
       "      <td>3597.72</td>\n",
       "      <td>0.200000</td>\n",
       "      <td>2025-01-04 06:39:29.902680+00:00</td>\n",
       "      <td>SELL</td>\n",
       "      <td>NaN</td>\n",
       "      <td>NaN</td>\n",
       "      <td>NaN</td>\n",
       "      <td>...</td>\n",
       "      <td>36312.0</td>\n",
       "      <td>36312.0</td>\n",
       "      <td>36312.0</td>\n",
       "      <td>36312.0</td>\n",
       "      <td>36312.0</td>\n",
       "      <td>36312.0</td>\n",
       "      <td>227271.0</td>\n",
       "      <td>227271.0</td>\n",
       "      <td>143780.0</td>\n",
       "      <td>60289.0</td>\n",
       "    </tr>\n",
       "  </tbody>\n",
       "</table>\n",
       "<p>5 rows × 59 columns</p>\n",
       "</div>"
      ],
      "text/plain": [
       "   Unnamed: 0   trade_id product_id    price      size  \\\n",
       "0       60305  590641283    ETH-USD  3598.16  0.013755   \n",
       "1       60304  590641310    ETH-USD  3598.95  0.002479   \n",
       "2       60303  590641344    ETH-USD  3598.15  3.565571   \n",
       "3       60302  590641361    ETH-USD  3597.71  0.000987   \n",
       "4       60301  590641382    ETH-USD  3597.72  0.200000   \n",
       "\n",
       "                               time  side  bid  ask  exchange  ...  \\\n",
       "0  2025-01-04 06:38:20.767435+00:00  SELL  NaN  NaN       NaN  ...   \n",
       "1  2025-01-04 06:38:35.543964+00:00  SELL  NaN  NaN       NaN  ...   \n",
       "2  2025-01-04 06:38:55.779501+00:00   BUY  NaN  NaN       NaN  ...   \n",
       "3  2025-01-04 06:39:14.353069+00:00   BUY  NaN  NaN       NaN  ...   \n",
       "4  2025-01-04 06:39:29.902680+00:00  SELL  NaN  NaN       NaN  ...   \n",
       "\n",
       "   Unnamed: 0.10  Unnamed: 0.9  Unnamed: 0.8  Unnamed: 0.7  Unnamed: 0.6  \\\n",
       "0        36308.0       36308.0       36308.0       36308.0       36308.0   \n",
       "1        36309.0       36309.0       36309.0       36309.0       36309.0   \n",
       "2        36310.0       36310.0       36310.0       36310.0       36310.0   \n",
       "3        36311.0       36311.0       36311.0       36311.0       36311.0   \n",
       "4        36312.0       36312.0       36312.0       36312.0       36312.0   \n",
       "\n",
       "   Unnamed: 0.5  Unnamed: 0.4  Unnamed: 0.3  Unnamed: 0.2  Unnamed: 0.1  \n",
       "0       36308.0      227275.0      227275.0      143784.0       60293.0  \n",
       "1       36309.0      227274.0      227274.0      143783.0       60292.0  \n",
       "2       36310.0      227273.0      227273.0      143782.0       60291.0  \n",
       "3       36311.0      227272.0      227272.0      143781.0       60290.0  \n",
       "4       36312.0      227271.0      227271.0      143780.0       60289.0  \n",
       "\n",
       "[5 rows x 59 columns]"
      ]
     },
     "execution_count": 153,
     "metadata": {},
     "output_type": "execute_result"
    }
   ],
   "source": [
    "df = pd.read_csv('model_data_1min.csv')\n",
    "df.head()"
   ]
  },
  {
   "cell_type": "code",
   "execution_count": 154,
   "metadata": {},
   "outputs": [
    {
     "name": "stderr",
     "output_type": "stream",
     "text": [
      "/var/folders/1f/5lhk7sb97rz53v7gk1vkcjkr0000gn/T/ipykernel_14957/991056651.py:10: FutureWarning: 'T' is deprecated and will be removed in a future version, please use 'min' instead.\n",
      "  df_resampled = df.resample(f'{minute}T').agg({\n"
     ]
    }
   ],
   "source": [
    "#data set is one datapoint every 15 seconds. Want to look once every 3 minutes instead. So we're going to limit our dataset as such\n",
    "# Make sure 'time' is a datetime object\n",
    "df['time'] = pd.to_datetime(df['time'])\n",
    "\n",
    "# Set it as index\n",
    "df.set_index('time', inplace=True)\n",
    "\n",
    "# Resample every 6 minutes\n",
    "minute = 12\n",
    "df_resampled = df.resample(f'{minute}T').agg({\n",
    "    'price': 'last',  # Last traded price in the interval\n",
    "    'size': 'sum',    # Total volume traded in the interval\n",
    "    'side': lambda x: x.mode()[0] if not x.mode().empty else 'UNKNOWN'  # Most common side or fallback\n",
    "})\n",
    "\n",
    "#x = 4000 #start data a 3/1\n",
    "\n",
    "# Grab everything after (and including) the 83,000th row\n",
    "#df_resampled = df_resampled.iloc[x:]\n",
    "\n",
    "df_resampled = df_resampled.reset_index()\n",
    "df_resampled.head()\n",
    "df_resampled.to_csv('resampled_data.csv')"
   ]
  },
  {
   "cell_type": "code",
   "execution_count": 155,
   "metadata": {},
   "outputs": [
    {
     "data": {
      "text/html": [
       "<div>\n",
       "<style scoped>\n",
       "    .dataframe tbody tr th:only-of-type {\n",
       "        vertical-align: middle;\n",
       "    }\n",
       "\n",
       "    .dataframe tbody tr th {\n",
       "        vertical-align: top;\n",
       "    }\n",
       "\n",
       "    .dataframe thead th {\n",
       "        text-align: right;\n",
       "    }\n",
       "</style>\n",
       "<table border=\"1\" class=\"dataframe\">\n",
       "  <thead>\n",
       "    <tr style=\"text-align: right;\">\n",
       "      <th></th>\n",
       "      <th>time</th>\n",
       "      <th>price</th>\n",
       "      <th>size</th>\n",
       "      <th>side</th>\n",
       "    </tr>\n",
       "  </thead>\n",
       "  <tbody>\n",
       "    <tr>\n",
       "      <th>0</th>\n",
       "      <td>2025-01-04 06:36:00+00:00</td>\n",
       "      <td>3594.34</td>\n",
       "      <td>6.551917</td>\n",
       "      <td>SELL</td>\n",
       "    </tr>\n",
       "    <tr>\n",
       "      <th>1</th>\n",
       "      <td>2025-01-04 06:48:00+00:00</td>\n",
       "      <td>3598.94</td>\n",
       "      <td>2.166045</td>\n",
       "      <td>SELL</td>\n",
       "    </tr>\n",
       "    <tr>\n",
       "      <th>2</th>\n",
       "      <td>2025-01-04 07:00:00+00:00</td>\n",
       "      <td>3604.52</td>\n",
       "      <td>6.454355</td>\n",
       "      <td>SELL</td>\n",
       "    </tr>\n",
       "    <tr>\n",
       "      <th>3</th>\n",
       "      <td>2025-01-04 07:12:00+00:00</td>\n",
       "      <td>3599.73</td>\n",
       "      <td>15.299945</td>\n",
       "      <td>SELL</td>\n",
       "    </tr>\n",
       "    <tr>\n",
       "      <th>4</th>\n",
       "      <td>2025-01-04 07:24:00+00:00</td>\n",
       "      <td>3601.35</td>\n",
       "      <td>9.520276</td>\n",
       "      <td>SELL</td>\n",
       "    </tr>\n",
       "  </tbody>\n",
       "</table>\n",
       "</div>"
      ],
      "text/plain": [
       "                       time    price       size  side\n",
       "0 2025-01-04 06:36:00+00:00  3594.34   6.551917  SELL\n",
       "1 2025-01-04 06:48:00+00:00  3598.94   2.166045  SELL\n",
       "2 2025-01-04 07:00:00+00:00  3604.52   6.454355  SELL\n",
       "3 2025-01-04 07:12:00+00:00  3599.73  15.299945  SELL\n",
       "4 2025-01-04 07:24:00+00:00  3601.35   9.520276  SELL"
      ]
     },
     "execution_count": 155,
     "metadata": {},
     "output_type": "execute_result"
    }
   ],
   "source": [
    "df_resampled.head()"
   ]
  },
  {
   "cell_type": "code",
   "execution_count": 156,
   "metadata": {},
   "outputs": [
    {
     "data": {
      "image/png": "[encoded data removed]",
      "text/plain": [
       "<Figure size 1000x600 with 1 Axes>"
      ]
     },
     "metadata": {},
     "output_type": "display_data"
    }
   ],
   "source": [
    "df_trades = df_resampled\n",
    "\n",
    "# Convert 'price' column to numeric\n",
    "df_trades['price'] = pd.to_numeric(df_trades['price'])\n",
    "\n",
    "# Plot the data\n",
    "plt.figure(figsize=(10, 6))\n",
    "plt.plot(df_trades['time'], df_trades['price'], linestyle='-', label='Price')\n",
    "\n",
    "# Add labels and title\n",
    "plt.xlabel('Time')\n",
    "plt.ylabel('Price (USD)')\n",
    "plt.title('ETH-USD Price Over Time')\n",
    "plt.grid(True)\n",
    "plt.legend()\n",
    "plt.tight_layout()\n",
    "\n",
    "# Show the plot\n",
    "plt.show()"
   ]
  },
  {
   "cell_type": "code",
   "execution_count": 157,
   "metadata": {},
   "outputs": [],
   "source": [
    "# Ensure time column is sorted\n",
    "df_trades = df_trades.sort_values('time')\n",
    "\n",
    "# Scale the 'price' and 'size' column\n",
    "scaler = MinMaxScaler(feature_range=(0, 1))\n",
    "#scaler = StandardScaler()\n",
    "df_trades['price_scaled'] = scaler.fit_transform(df_trades[['price']])\n",
    "\n",
    "# Create sequences of data for LSTM\n",
    "sequence_length = 10  # Sequence of 10 observations\n",
    "forecast_steps = 5     # Predict 5 steps into the future"
   ]
  },
  {
   "cell_type": "code",
   "execution_count": 158,
   "metadata": {},
   "outputs": [
    {
     "name": "stderr",
     "output_type": "stream",
     "text": [
      "/var/folders/1f/5lhk7sb97rz53v7gk1vkcjkr0000gn/T/ipykernel_14957/1791461416.py:2: FutureWarning: The default fill_method='pad' in Series.pct_change is deprecated and will be removed in a future version. Either fill in any non-leading NA values prior to calling pct_change or specify 'fill_method=None' to not fill NA values.\n",
      "  df_trades['pct_change'] = df_trades['price'].pct_change() * 100  # Convert to percentage\n"
     ]
    }
   ],
   "source": [
    "# Compute percent   difference\n",
    "df_trades['pct_change'] = df_trades['price'].pct_change() * 100  # Convert to percentage\n",
    "\n",
    "# Drop the first row since pct_change for first row is NaN\n",
    "df_trades = df_trades.dropna(subset=['pct_change']).reset_index(drop=True)\n",
    "\n",
    "df_trades = df_trades.drop(columns=[col for col in df_trades.columns if col.startswith(\"Unnamed\")])"
   ]
  },
  {
   "cell_type": "code",
   "execution_count": 159,
   "metadata": {},
   "outputs": [
    {
     "data": {
      "text/html": [
       "<div>\n",
       "<style scoped>\n",
       "    .dataframe tbody tr th:only-of-type {\n",
       "        vertical-align: middle;\n",
       "    }\n",
       "\n",
       "    .dataframe tbody tr th {\n",
       "        vertical-align: top;\n",
       "    }\n",
       "\n",
       "    .dataframe thead th {\n",
       "        text-align: right;\n",
       "    }\n",
       "</style>\n",
       "<table border=\"1\" class=\"dataframe\">\n",
       "  <thead>\n",
       "    <tr style=\"text-align: right;\">\n",
       "      <th></th>\n",
       "      <th>time</th>\n",
       "      <th>price</th>\n",
       "      <th>size</th>\n",
       "      <th>side</th>\n",
       "      <th>price_scaled</th>\n",
       "      <th>pct_change</th>\n",
       "      <th>sma_5</th>\n",
       "      <th>momentum</th>\n",
       "    </tr>\n",
       "  </thead>\n",
       "  <tbody>\n",
       "    <tr>\n",
       "      <th>5</th>\n",
       "      <td>2025-01-04 07:48:00+00:00</td>\n",
       "      <td>3592.58</td>\n",
       "      <td>9.574716</td>\n",
       "      <td>SELL</td>\n",
       "      <td>0.937762</td>\n",
       "      <td>-0.175609</td>\n",
       "      <td>0.940693</td>\n",
       "      <td>-0.002727</td>\n",
       "    </tr>\n",
       "    <tr>\n",
       "      <th>6</th>\n",
       "      <td>2025-01-04 08:00:00+00:00</td>\n",
       "      <td>3600.20</td>\n",
       "      <td>4.764039</td>\n",
       "      <td>SELL</td>\n",
       "      <td>0.941029</td>\n",
       "      <td>0.212104</td>\n",
       "      <td>0.940323</td>\n",
       "      <td>-0.001853</td>\n",
       "    </tr>\n",
       "    <tr>\n",
       "      <th>7</th>\n",
       "      <td>2025-01-04 08:12:00+00:00</td>\n",
       "      <td>3595.58</td>\n",
       "      <td>4.483896</td>\n",
       "      <td>SELL</td>\n",
       "      <td>0.939048</td>\n",
       "      <td>-0.128326</td>\n",
       "      <td>0.939967</td>\n",
       "      <td>-0.001780</td>\n",
       "    </tr>\n",
       "    <tr>\n",
       "      <th>8</th>\n",
       "      <td>2025-01-04 08:24:00+00:00</td>\n",
       "      <td>3597.75</td>\n",
       "      <td>7.692453</td>\n",
       "      <td>SELL</td>\n",
       "      <td>0.939979</td>\n",
       "      <td>0.060352</td>\n",
       "      <td>0.939658</td>\n",
       "      <td>-0.001544</td>\n",
       "    </tr>\n",
       "    <tr>\n",
       "      <th>9</th>\n",
       "      <td>2025-01-04 08:36:00+00:00</td>\n",
       "      <td>3585.29</td>\n",
       "      <td>19.931080</td>\n",
       "      <td>SELL</td>\n",
       "      <td>0.934635</td>\n",
       "      <td>-0.346328</td>\n",
       "      <td>0.938491</td>\n",
       "      <td>-0.005837</td>\n",
       "    </tr>\n",
       "  </tbody>\n",
       "</table>\n",
       "</div>"
      ],
      "text/plain": [
       "                       time    price       size  side  price_scaled  \\\n",
       "5 2025-01-04 07:48:00+00:00  3592.58   9.574716  SELL      0.937762   \n",
       "6 2025-01-04 08:00:00+00:00  3600.20   4.764039  SELL      0.941029   \n",
       "7 2025-01-04 08:12:00+00:00  3595.58   4.483896  SELL      0.939048   \n",
       "8 2025-01-04 08:24:00+00:00  3597.75   7.692453  SELL      0.939979   \n",
       "9 2025-01-04 08:36:00+00:00  3585.29  19.931080  SELL      0.934635   \n",
       "\n",
       "   pct_change     sma_5  momentum  \n",
       "5   -0.175609  0.940693 -0.002727  \n",
       "6    0.212104  0.940323 -0.001853  \n",
       "7   -0.128326  0.939967 -0.001780  \n",
       "8    0.060352  0.939658 -0.001544  \n",
       "9   -0.346328  0.938491 -0.005837  "
      ]
     },
     "execution_count": 159,
     "metadata": {},
     "output_type": "execute_result"
    }
   ],
   "source": [
    "df_trades['sma_5'] = df_trades['price_scaled'].rolling(window=5).mean()\n",
    "df_trades['momentum'] = df_trades['price_scaled'] - df_trades['price_scaled'].shift(5)\n",
    "df_trades.dropna(subset=['sma_5', 'momentum'], inplace=True)\n",
    "df_trades.head()"
   ]
  },
  {
   "cell_type": "code",
   "execution_count": 160,
   "metadata": {},
   "outputs": [
    {
     "name": "stderr",
     "output_type": "stream",
     "text": [
      "/var/folders/1f/5lhk7sb97rz53v7gk1vkcjkr0000gn/T/ipykernel_14957/1470303303.py:13: RuntimeWarning: divide by zero encountered in scalar divide\n",
      "  pct_change = (future_price - current_price) / current_price\n"
     ]
    }
   ],
   "source": [
    "# split data into sequences and X and y\n",
    "X = []\n",
    "y = []\n",
    "\n",
    "prices = df_trades['price_scaled'].values\n",
    "\n",
    "for i in range(len(prices) - sequence_length - forecast_steps):\n",
    "    #build feature set\n",
    "    X.append(prices[i:i + sequence_length])\n",
    "\n",
    "    future_price = prices[i + sequence_length + forecast_steps - 1]\n",
    "    current_price = prices[i+sequence_length]\n",
    "    pct_change = (future_price - current_price) / current_price\n",
    "    if pct_change < -0.01:\n",
    "        label = 0  # SELL\n",
    "    elif pct_change > 0.01:\n",
    "        label = 2  # BUY\n",
    "    else:\n",
    "        label = 1  # HOLD\n",
    "\n",
    "    y.append(label)\n",
    "\n",
    "X = np.array(X)\n",
    "y = np.array(y)\n",
    "y = to_categorical(y, num_classes=3)\n",
    "\n",
    "# Reshape X for LSTM input (samples, time steps, features)\n",
    "X = X.reshape(X.shape[0], X.shape[1], 1)"
   ]
  },
  {
   "cell_type": "code",
   "execution_count": 161,
   "metadata": {},
   "outputs": [
    {
     "name": "stdout",
     "output_type": "stream",
     "text": [
      "{0: 3133, 1: 6807, 2: 3045}\n"
     ]
    }
   ],
   "source": [
    "y_classes = np.argmax(y, axis=1)\n",
    "unique, counts = np.unique(y_classes, return_counts=True)\n",
    "class_counts = dict(zip(unique, counts))\n",
    "print(class_counts)"
   ]
  },
  {
   "cell_type": "code",
   "execution_count": 162,
   "metadata": {},
   "outputs": [],
   "source": [
    "# Split the data into training and testing sets\n",
    "train_size = int(len(X) * 0.8)\n",
    "X_train, X_test = X[:train_size], X[train_size:]\n",
    "y_train, y_test = y[:train_size], y[train_size:]"
   ]
  },
  {
   "cell_type": "code",
   "execution_count": 163,
   "metadata": {},
   "outputs": [
    {
     "data": {
      "text/plain": [
       "(10388, 10, 1)"
      ]
     },
     "execution_count": 163,
     "metadata": {},
     "output_type": "execute_result"
    }
   ],
   "source": [
    "X_train.shape"
   ]
  },
  {
   "cell_type": "code",
   "execution_count": 164,
   "metadata": {},
   "outputs": [
    {
     "data": {
      "text/html": [
       "<pre style=\"white-space:pre;overflow-x:auto;line-height:normal;font-family:Menlo,'DejaVu Sans Mono',consolas,'Courier New',monospace\"><span style=\"font-weight: bold\">Model: \"sequential_7\"</span>\n",
       "</pre>\n"
      ],
      "text/plain": [
       "\u001b[1mModel: \"sequential_7\"\u001b[0m\n"
      ]
     },
     "metadata": {},
     "output_type": "display_data"
    },
    {
     "data": {
      "text/html": [
       "<pre style=\"white-space:pre;overflow-x:auto;line-height:normal;font-family:Menlo,'DejaVu Sans Mono',consolas,'Courier New',monospace\">┏━━━━━━━━━━━━━━━━━━━━━━━━━━━━━━━━━┳━━━━━━━━━━━━━━━━━━━━━━━━┳━━━━━━━━━━━━━━━┓\n",
       "┃<span style=\"font-weight: bold\"> Layer (type)                    </span>┃<span style=\"font-weight: bold\"> Output Shape           </span>┃<span style=\"font-weight: bold\">       Param # </span>┃\n",
       "┡━━━━━━━━━━━━━━━━━━━━━━━━━━━━━━━━━╇━━━━━━━━━━━━━━━━━━━━━━━━╇━━━━━━━━━━━━━━━┩\n",
       "│ lstm_14 (<span style=\"color: #0087ff; text-decoration-color: #0087ff\">LSTM</span>)                  │ (<span style=\"color: #00d7ff; text-decoration-color: #00d7ff\">None</span>, <span style=\"color: #00af00; text-decoration-color: #00af00\">10</span>, <span style=\"color: #00af00; text-decoration-color: #00af00\">128</span>)        │        <span style=\"color: #00af00; text-decoration-color: #00af00\">66,560</span> │\n",
       "├─────────────────────────────────┼────────────────────────┼───────────────┤\n",
       "│ lstm_15 (<span style=\"color: #0087ff; text-decoration-color: #0087ff\">LSTM</span>)                  │ (<span style=\"color: #00d7ff; text-decoration-color: #00d7ff\">None</span>, <span style=\"color: #00af00; text-decoration-color: #00af00\">128</span>)            │       <span style=\"color: #00af00; text-decoration-color: #00af00\">131,584</span> │\n",
       "├─────────────────────────────────┼────────────────────────┼───────────────┤\n",
       "│ dense_14 (<span style=\"color: #0087ff; text-decoration-color: #0087ff\">Dense</span>)                │ (<span style=\"color: #00d7ff; text-decoration-color: #00d7ff\">None</span>, <span style=\"color: #00af00; text-decoration-color: #00af00\">64</span>)             │         <span style=\"color: #00af00; text-decoration-color: #00af00\">8,256</span> │\n",
       "├─────────────────────────────────┼────────────────────────┼───────────────┤\n",
       "│ dense_15 (<span style=\"color: #0087ff; text-decoration-color: #0087ff\">Dense</span>)                │ (<span style=\"color: #00d7ff; text-decoration-color: #00d7ff\">None</span>, <span style=\"color: #00af00; text-decoration-color: #00af00\">3</span>)              │           <span style=\"color: #00af00; text-decoration-color: #00af00\">195</span> │\n",
       "└─────────────────────────────────┴────────────────────────┴───────────────┘\n",
       "</pre>\n"
      ],
      "text/plain": [
       "┏━━━━━━━━━━━━━━━━━━━━━━━━━━━━━━━━━┳━━━━━━━━━━━━━━━━━━━━━━━━┳━━━━━━━━━━━━━━━┓\n",
       "┃\u001b[1m \u001b[0m\u001b[1mLayer (type)                   \u001b[0m\u001b[1m \u001b[0m┃\u001b[1m \u001b[0m\u001b[1mOutput Shape          \u001b[0m\u001b[1m \u001b[0m┃\u001b[1m \u001b[0m\u001b[1m      Param #\u001b[0m\u001b[1m \u001b[0m┃\n",
       "┡━━━━━━━━━━━━━━━━━━━━━━━━━━━━━━━━━╇━━━━━━━━━━━━━━━━━━━━━━━━╇━━━━━━━━━━━━━━━┩\n",
       "│ lstm_14 (\u001b[38;5;33mLSTM\u001b[0m)                  │ (\u001b[38;5;45mNone\u001b[0m, \u001b[38;5;34m10\u001b[0m, \u001b[38;5;34m128\u001b[0m)        │        \u001b[38;5;34m66,560\u001b[0m │\n",
       "├─────────────────────────────────┼────────────────────────┼───────────────┤\n",
       "│ lstm_15 (\u001b[38;5;33mLSTM\u001b[0m)                  │ (\u001b[38;5;45mNone\u001b[0m, \u001b[38;5;34m128\u001b[0m)            │       \u001b[38;5;34m131,584\u001b[0m │\n",
       "├─────────────────────────────────┼────────────────────────┼───────────────┤\n",
       "│ dense_14 (\u001b[38;5;33mDense\u001b[0m)                │ (\u001b[38;5;45mNone\u001b[0m, \u001b[38;5;34m64\u001b[0m)             │         \u001b[38;5;34m8,256\u001b[0m │\n",
       "├─────────────────────────────────┼────────────────────────┼───────────────┤\n",
       "│ dense_15 (\u001b[38;5;33mDense\u001b[0m)                │ (\u001b[38;5;45mNone\u001b[0m, \u001b[38;5;34m3\u001b[0m)              │           \u001b[38;5;34m195\u001b[0m │\n",
       "└─────────────────────────────────┴────────────────────────┴───────────────┘\n"
      ]
     },
     "metadata": {},
     "output_type": "display_data"
    },
    {
     "data": {
      "text/html": [
       "<pre style=\"white-space:pre;overflow-x:auto;line-height:normal;font-family:Menlo,'DejaVu Sans Mono',consolas,'Courier New',monospace\"><span style=\"font-weight: bold\"> Total params: </span><span style=\"color: #00af00; text-decoration-color: #00af00\">206,595</span> (807.01 KB)\n",
       "</pre>\n"
      ],
      "text/plain": [
       "\u001b[1m Total params: \u001b[0m\u001b[38;5;34m206,595\u001b[0m (807.01 KB)\n"
      ]
     },
     "metadata": {},
     "output_type": "display_data"
    },
    {
     "data": {
      "text/html": [
       "<pre style=\"white-space:pre;overflow-x:auto;line-height:normal;font-family:Menlo,'DejaVu Sans Mono',consolas,'Courier New',monospace\"><span style=\"font-weight: bold\"> Trainable params: </span><span style=\"color: #00af00; text-decoration-color: #00af00\">206,595</span> (807.01 KB)\n",
       "</pre>\n"
      ],
      "text/plain": [
       "\u001b[1m Trainable params: \u001b[0m\u001b[38;5;34m206,595\u001b[0m (807.01 KB)\n"
      ]
     },
     "metadata": {},
     "output_type": "display_data"
    },
    {
     "data": {
      "text/html": [
       "<pre style=\"white-space:pre;overflow-x:auto;line-height:normal;font-family:Menlo,'DejaVu Sans Mono',consolas,'Courier New',monospace\"><span style=\"font-weight: bold\"> Non-trainable params: </span><span style=\"color: #00af00; text-decoration-color: #00af00\">0</span> (0.00 B)\n",
       "</pre>\n"
      ],
      "text/plain": [
       "\u001b[1m Non-trainable params: \u001b[0m\u001b[38;5;34m0\u001b[0m (0.00 B)\n"
      ]
     },
     "metadata": {},
     "output_type": "display_data"
    }
   ],
   "source": [
    "model = Sequential([\n",
    "    Input(shape=(X_train.shape[1], X_train.shape[2])),\n",
    "    LSTM(128, return_sequences=True),\n",
    "    LSTM(128),\n",
    "    Dense(64, activation='relu'),\n",
    "    Dense(3, activation='softmax')  # 3 classes\n",
    "])\n",
    "\n",
    "model.compile(optimizer=Adam(learning_rate=0.001),\n",
    "              loss=CategoricalCrossentropy(),\n",
    "              metrics=['accuracy'])\n",
    "\n",
    "model.summary()"
   ]
  },
  {
   "cell_type": "code",
   "execution_count": 165,
   "metadata": {},
   "outputs": [
    {
     "name": "stdout",
     "output_type": "stream",
     "text": [
      "Epoch 1/100\n",
      "\u001b[1m325/325\u001b[0m \u001b[32m━━━━━━━━━━━━━━━━━━━━\u001b[0m\u001b[37m\u001b[0m \u001b[1m9s\u001b[0m 20ms/step - accuracy: 0.5882 - loss: 0.9542 - val_accuracy: 0.2514 - val_loss: 1.1120\n",
      "Epoch 2/100\n",
      "\u001b[1m325/325\u001b[0m \u001b[32m━━━━━━━━━━━━━━━━━━━━\u001b[0m\u001b[37m\u001b[0m \u001b[1m5s\u001b[0m 16ms/step - accuracy: 0.5951 - loss: 0.9321 - val_accuracy: 0.2514 - val_loss: 1.1175\n",
      "Epoch 3/100\n",
      "\u001b[1m325/325\u001b[0m \u001b[32m━━━━━━━━━━━━━━━━━━━━\u001b[0m\u001b[37m\u001b[0m \u001b[1m6s\u001b[0m 18ms/step - accuracy: 0.5984 - loss: 0.9274 - val_accuracy: 0.2514 - val_loss: 1.1111\n",
      "Epoch 4/100\n",
      "\u001b[1m325/325\u001b[0m \u001b[32m━━━━━━━━━━━━━━━━━━━━\u001b[0m\u001b[37m\u001b[0m \u001b[1m7s\u001b[0m 22ms/step - accuracy: 0.5953 - loss: 0.9306 - val_accuracy: 0.2514 - val_loss: 1.1135\n",
      "Epoch 5/100\n",
      "\u001b[1m325/325\u001b[0m \u001b[32m━━━━━━━━━━━━━━━━━━━━\u001b[0m\u001b[37m\u001b[0m \u001b[1m6s\u001b[0m 20ms/step - accuracy: 0.5847 - loss: 0.9408 - val_accuracy: 0.2514 - val_loss: 1.1458\n",
      "Epoch 6/100\n",
      "\u001b[1m325/325\u001b[0m \u001b[32m━━━━━━━━━━━━━━━━━━━━\u001b[0m\u001b[37m\u001b[0m \u001b[1m7s\u001b[0m 20ms/step - accuracy: 0.5928 - loss: 0.9309 - val_accuracy: 0.2514 - val_loss: 1.1399\n",
      "Epoch 7/100\n",
      "\u001b[1m325/325\u001b[0m \u001b[32m━━━━━━━━━━━━━━━━━━━━\u001b[0m\u001b[37m\u001b[0m \u001b[1m6s\u001b[0m 19ms/step - accuracy: 0.5914 - loss: 0.9331 - val_accuracy: 0.2514 - val_loss: 1.1476\n",
      "Epoch 8/100\n",
      "\u001b[1m325/325\u001b[0m \u001b[32m━━━━━━━━━━━━━━━━━━━━\u001b[0m\u001b[37m\u001b[0m \u001b[1m7s\u001b[0m 20ms/step - accuracy: 0.5983 - loss: 0.9262 - val_accuracy: 0.2514 - val_loss: 1.1448\n",
      "Epoch 9/100\n",
      "\u001b[1m325/325\u001b[0m \u001b[32m━━━━━━━━━━━━━━━━━━━━\u001b[0m\u001b[37m\u001b[0m \u001b[1m6s\u001b[0m 19ms/step - accuracy: 0.5982 - loss: 0.9268 - val_accuracy: 0.2514 - val_loss: 1.1405\n",
      "Epoch 10/100\n",
      "\u001b[1m325/325\u001b[0m \u001b[32m━━━━━━━━━━━━━━━━━━━━\u001b[0m\u001b[37m\u001b[0m \u001b[1m7s\u001b[0m 20ms/step - accuracy: 0.5941 - loss: 0.9287 - val_accuracy: 0.2514 - val_loss: 1.1648\n",
      "Epoch 11/100\n",
      "\u001b[1m325/325\u001b[0m \u001b[32m━━━━━━━━━━━━━━━━━━━━\u001b[0m\u001b[37m\u001b[0m \u001b[1m6s\u001b[0m 20ms/step - accuracy: 0.5942 - loss: 0.9302 - val_accuracy: 0.2514 - val_loss: 1.1460\n",
      "Epoch 12/100\n",
      "\u001b[1m325/325\u001b[0m \u001b[32m━━━━━━━━━━━━━━━━━━━━\u001b[0m\u001b[37m\u001b[0m \u001b[1m7s\u001b[0m 20ms/step - accuracy: 0.5847 - loss: 0.9383 - val_accuracy: 0.2514 - val_loss: 1.1697\n",
      "Epoch 13/100\n",
      "\u001b[1m325/325\u001b[0m \u001b[32m━━━━━━━━━━━━━━━━━━━━\u001b[0m\u001b[37m\u001b[0m \u001b[1m7s\u001b[0m 21ms/step - accuracy: 0.5874 - loss: 0.9351 - val_accuracy: 0.2514 - val_loss: 1.1682\n"
     ]
    }
   ],
   "source": [
    "# Add Early Stopping to prevent overfitting\n",
    "early_stopping = EarlyStopping(\n",
    "    monitor='val_loss',  # Monitor validation loss\n",
    "    patience=10,         # Stop training if no improvement for 10 epochs\n",
    "    restore_best_weights=True  # Restore model weights from the epoch with the best validation loss\n",
    ")\n",
    "\n",
    "\n",
    "# Train the model\n",
    "history = model.fit(X_train, y_train, epochs=100, batch_size=32, validation_data=(X_test, y_test), verbose=1, callbacks=[early_stopping])"
   ]
  },
  {
   "cell_type": "code",
   "execution_count": 166,
   "metadata": {},
   "outputs": [
    {
     "data": {
      "image/png": "[encoded data removed]",
      "text/plain": [
       "<Figure size 640x480 with 1 Axes>"
      ]
     },
     "metadata": {},
     "output_type": "display_data"
    }
   ],
   "source": [
    "plt.plot(history.history['loss'], label='Training Loss')\n",
    "plt.plot(history.history['val_loss'], label='Validation Loss')\n",
    "plt.title('Training and Validation Loss')\n",
    "plt.xlabel('Epochs')\n",
    "plt.ylabel('Loss')\n",
    "plt.legend()\n",
    "plt.show()"
   ]
  },
  {
   "cell_type": "code",
   "execution_count": 167,
   "metadata": {},
   "outputs": [],
   "source": [
    "#save model to h5 format because mac M1 is silly\n",
    "#model.save(\"models/model.h5\", save_format='h5')\n",
    "#save model to convert to ONNX model later\n",
    "save_model(model=model, filepath=\"models/model.keras\")"
   ]
  },
  {
   "cell_type": "code",
   "execution_count": 168,
   "metadata": {},
   "outputs": [
    {
     "name": "stdout",
     "output_type": "stream",
     "text": [
      "\u001b[1m82/82\u001b[0m \u001b[32m━━━━━━━━━━━━━━━━━━━━\u001b[0m\u001b[37m\u001b[0m \u001b[1m1s\u001b[0m 7ms/step\n"
     ]
    }
   ],
   "source": [
    "# Make predictions on the test set\n",
    "predictions_scaled = model.predict(X_test)\n",
    "\n",
    "# Inverse transform the predictions and test labels to get original prices\n",
    "predictions = scaler.inverse_transform(predictions_scaled)\n",
    "y_test_original = scaler.inverse_transform(y_test.reshape(-1, 1))"
   ]
  },
  {
   "cell_type": "code",
   "execution_count": 169,
   "metadata": {},
   "outputs": [
    {
     "data": {
      "text/plain": [
       "{'accuracy': 0.2514439821243286, 'loss': 1.1681900024414062}"
      ]
     },
     "execution_count": 169,
     "metadata": {},
     "output_type": "execute_result"
    }
   ],
   "source": [
    "model.get_metrics_result()"
   ]
  },
  {
   "cell_type": "code",
   "execution_count": 170,
   "metadata": {},
   "outputs": [
    {
     "data": {
      "text/plain": [
       "array([0.2865182 , 0.40078524, 0.31269664], dtype=float32)"
      ]
     },
     "execution_count": 170,
     "metadata": {},
     "output_type": "execute_result"
    }
   ],
   "source": [
    "predictions_scaled[1]"
   ]
  },
  {
   "cell_type": "code",
   "execution_count": 171,
   "metadata": {},
   "outputs": [
    {
     "data": {
      "text/plain": [
       "array([0., 0., 1.])"
      ]
     },
     "execution_count": 171,
     "metadata": {},
     "output_type": "execute_result"
    }
   ],
   "source": [
    "y_test[10]"
   ]
  },
  {
   "cell_type": "code",
   "execution_count": 172,
   "metadata": {},
   "outputs": [
    {
     "name": "stdout",
     "output_type": "stream",
     "text": [
      "--------Model Information--------\n",
      "Interval: 720 seconds\n",
      "sequence_length: 10\n",
      "forecast_steps: 5\n"
     ]
    }
   ],
   "source": [
    "print(f\"--------Model Information--------\\r\\nInterval: {minute * 60} seconds\\r\\nsequence_length: {sequence_length}\\r\\nforecast_steps: {forecast_steps}\")"
   ]
  }
 ],
 "metadata": {
  "kernelspec": {
   "display_name": "Python 3",
   "language": "python",
   "name": "python3"
  },
  "language_info": {
   "codemirror_mode": {
    "name": "ipython",
    "version": 3
   },
   "file_extension": ".py",
   "mimetype": "text/x-python",
   "name": "python",
   "nbconvert_exporter": "python",
   "pygments_lexer": "ipython3",
   "version": "3.12.7"
  }
 },
 "nbformat": 4,
 "nbformat_minor": 2
}
