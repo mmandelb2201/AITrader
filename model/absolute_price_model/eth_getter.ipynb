{
 "cells": [
  {
   "cell_type": "code",
   "execution_count": 24,
   "metadata": {},
   "outputs": [],
   "source": [
    "import requests\n",
    "import csv\n",
    "from datetime import datetime, timedelta\n",
    "import time\n",
    "\n",
    "API_LIMIT_PER_MINUTE = 90  # Bitfinex REST API limit\n",
    "REQUEST_INTERVAL = 60 / API_LIMIT_PER_MINUTE  # Time between requests in seconds"
   ]
  },
  {
   "cell_type": "code",
   "execution_count": 26,
   "metadata": {},
   "outputs": [],
   "source": [
    "def save_to_csv(data, filename=\"eth_prices_15s.csv\"):\n",
    "    \"\"\"Save aggregated data to a CSV file.\"\"\"\n",
    "    with open(filename, mode=\"w\", newline=\"\") as file:\n",
    "        writer = csv.writer(file)\n",
    "        writer.writerow([\"Timestamp\", \"Price (USD)\"])\n",
    "        for row in data:\n",
    "            timestamp = datetime.utcfromtimestamp(row[0] / 1000).strftime('%Y-%m-%d %H:%M:%S')\n",
    "            writer.writerow([timestamp, row[1]])\n",
    "    print(f\"Data saved to {filename}\")"
   ]
  },
  {
   "cell_type": "code",
   "execution_count": 27,
   "metadata": {},
   "outputs": [],
   "source": [
    "def fetch_bitfinex_trades(start, end, symbol=\"tETHUSD\"):\n",
    "    \"\"\"Fetch trades from Bitfinex within a given time range.\"\"\"\n",
    "    url = f\"https://api-pub.bitfinex.com/v2/trades/{symbol}/hist\"\n",
    "    params = {\n",
    "        \"start\": start,\n",
    "        \"end\": end,\n",
    "        \"sort\": 1,  # Ascending order\n",
    "        \"limit\": 10000  # Max limit per request\n",
    "    }\n",
    "    response = requests.get(url, params=params)\n",
    "\n",
    "    # Handle Too Many Requests (Rate Limit)\n",
    "    if response.status_code == 429:  # Too Many Requests\n",
    "        print(f\"Rate limit hit! Waiting for 1 minute... \\r\\n Response: {response}\")\n",
    "        time.sleep(60)  # Wait for 1 minute\n",
    "        return fetch_bitfinex_trades(start, end)  # Retry after waiting\n",
    "\n",
    "    response.raise_for_status()\n",
    "    return response.json()"
   ]
  },
  {
   "cell_type": "code",
   "execution_count": 29,
   "metadata": {},
   "outputs": [
    {
     "name": "stderr",
     "output_type": "stream",
     "text": [
      "/var/folders/1f/5lhk7sb97rz53v7gk1vkcjkr0000gn/T/ipykernel_25784/454803546.py:1: DeprecationWarning: datetime.datetime.utcnow() is deprecated and scheduled for removal in a future version. Use timezone-aware objects to represent datetimes in UTC: datetime.datetime.now(datetime.UTC).\n",
      "  end_date = datetime.utcnow()\n"
     ]
    },
    {
     "name": "stdout",
     "output_type": "stream",
     "text": [
      "Day 1737188315645\n",
      "Day 1737274715645\n"
     ]
    },
    {
     "ename": "ValueError",
     "evalue": "too many values to unpack (expected 3)",
     "output_type": "error",
     "traceback": [
      "\u001b[0;31m---------------------------------------------------------------------------\u001b[0m",
      "\u001b[0;31mValueError\u001b[0m                                Traceback (most recent call last)",
      "Cell \u001b[0;32mIn[29], line 35\u001b[0m\n\u001b[1;32m     32\u001b[0m         time\u001b[38;5;241m.\u001b[39msleep(\u001b[38;5;241m60\u001b[39m)  \u001b[38;5;66;03m# Wait for 1 minute on error and continue\u001b[39;00m\n\u001b[1;32m     34\u001b[0m \u001b[38;5;66;03m# Aggregate data into 15-second intervals\u001b[39;00m\n\u001b[0;32m---> 35\u001b[0m aggregated_data \u001b[38;5;241m=\u001b[39m \u001b[43maggregate_to_15s_intervals\u001b[49m\u001b[43m(\u001b[49m\u001b[43mall_trades\u001b[49m\u001b[43m)\u001b[49m\n\u001b[1;32m     37\u001b[0m \u001b[38;5;66;03m# Save to CSV\u001b[39;00m\n\u001b[1;32m     38\u001b[0m save_to_csv(aggregated_data)\n",
      "Cell \u001b[0;32mIn[25], line 8\u001b[0m, in \u001b[0;36maggregate_to_15s_intervals\u001b[0;34m(trades)\u001b[0m\n\u001b[1;32m      5\u001b[0m prices \u001b[38;5;241m=\u001b[39m []\n\u001b[1;32m      7\u001b[0m \u001b[38;5;28;01mfor\u001b[39;00m trade \u001b[38;5;129;01min\u001b[39;00m trades:\n\u001b[0;32m----> 8\u001b[0m     timestamp, price, _amount \u001b[38;5;241m=\u001b[39m trade\n\u001b[1;32m      9\u001b[0m     \u001b[38;5;66;03m# Convert to 15-second intervals\u001b[39;00m\n\u001b[1;32m     10\u001b[0m     interval_start \u001b[38;5;241m=\u001b[39m timestamp \u001b[38;5;241m-\u001b[39m (timestamp \u001b[38;5;241m%\u001b[39m \u001b[38;5;241m15000\u001b[39m)\n",
      "\u001b[0;31mValueError\u001b[0m: too many values to unpack (expected 3)"
     ]
    }
   ],
   "source": [
    "end_date = datetime.utcnow()\n",
    "start_date = end_date - timedelta(days=2)\n",
    "\n",
    "start_timestamp = int(start_date.timestamp() * 1000)\n",
    "end_timestamp = int(end_date.timestamp() * 1000)\n",
    "\n",
    "all_trades = []\n",
    "current_start = start_timestamp\n",
    "request_count = 0\n",
    "\n",
    "# Fetch data in chunks to handle API limits\n",
    "while current_start < end_timestamp:\n",
    "    print(f\"Day {current_start}\")\n",
    "    next_end = min(current_start + 86400000, end_timestamp)  # Fetch 1 day of data at a time\n",
    "    try:\n",
    "        trades = fetch_bitfinex_trades(current_start, next_end)\n",
    "        all_trades.extend(trades)\n",
    "        request_count += 1\n",
    "\n",
    "        # Throttle requests to avoid rate limits\n",
    "        if request_count >= API_LIMIT_PER_MINUTE:\n",
    "            print(\"API limit reached, sleeping for 1 minute...\")\n",
    "            time.sleep(60)  # Wait for 1 minute\n",
    "            request_count = 0\n",
    "        else:\n",
    "            time.sleep(REQUEST_INTERVAL)\n",
    "\n",
    "        current_start = next_end\n",
    "    except requests.exceptions.RequestException as e:\n",
    "        print(f\"Error fetching data: {e}\")\n",
    "        print(\"Waiting for 1 minute before retrying...\")\n",
    "        time.sleep(60)  # Wait for 1 minute on error and continue"
   ]
  },
  {
   "cell_type": "code",
   "execution_count": 30,
   "metadata": {},
   "outputs": [],
   "source": [
    "def aggregate_to_15s_intervals(trades):\n",
    "    \"\"\"Aggregate trade data into 15-second intervals.\"\"\"\n",
    "    aggregated = []\n",
    "    current_interval_start = None\n",
    "    prices = []\n",
    "\n",
    "    for trade in trades:\n",
    "        print(trade)\n",
    "        timestamp, price = trade\n",
    "        # Convert to 15-second intervals\n",
    "        interval_start = timestamp - (timestamp % 15000)\n",
    "\n",
    "        if current_interval_start is None:\n",
    "            current_interval_start = interval_start\n",
    "\n",
    "        if interval_start != current_interval_start:\n",
    "            # Calculate average price for the interval\n",
    "            avg_price = sum(prices) / len(prices)\n",
    "            aggregated.append([current_interval_start, avg_price])\n",
    "            # Reset for next interval\n",
    "            current_interval_start = interval_start\n",
    "            prices = []\n",
    "\n",
    "        prices.append(price)\n",
    "\n",
    "    # Add the last interval\n",
    "    if prices:\n",
    "        avg_price = sum(prices) / len(prices)\n",
    "        aggregated.append([current_interval_start, avg_price])\n",
    "\n",
    "    return aggregated"
   ]
  },
  {
   "cell_type": "code",
   "execution_count": 31,
   "metadata": {},
   "outputs": [
    {
     "ename": "ValueError",
     "evalue": "too many values to unpack (expected 2)",
     "output_type": "error",
     "traceback": [
      "\u001b[0;31m---------------------------------------------------------------------------\u001b[0m",
      "\u001b[0;31mValueError\u001b[0m                                Traceback (most recent call last)",
      "Cell \u001b[0;32mIn[31], line 2\u001b[0m\n\u001b[1;32m      1\u001b[0m \u001b[38;5;66;03m# Aggregate data into 15-second intervals\u001b[39;00m\n\u001b[0;32m----> 2\u001b[0m aggregated_data \u001b[38;5;241m=\u001b[39m \u001b[43maggregate_to_15s_intervals\u001b[49m\u001b[43m(\u001b[49m\u001b[43mall_trades\u001b[49m\u001b[43m)\u001b[49m\n\u001b[1;32m      4\u001b[0m \u001b[38;5;66;03m# Save to CSV\u001b[39;00m\n\u001b[1;32m      5\u001b[0m save_to_csv(aggregated_data)\n",
      "Cell \u001b[0;32mIn[30], line 8\u001b[0m, in \u001b[0;36maggregate_to_15s_intervals\u001b[0;34m(trades)\u001b[0m\n\u001b[1;32m      5\u001b[0m prices \u001b[38;5;241m=\u001b[39m []\n\u001b[1;32m      7\u001b[0m \u001b[38;5;28;01mfor\u001b[39;00m trade \u001b[38;5;129;01min\u001b[39;00m trades:\n\u001b[0;32m----> 8\u001b[0m     timestamp, price \u001b[38;5;241m=\u001b[39m trade\n\u001b[1;32m      9\u001b[0m     \u001b[38;5;66;03m# Convert to 15-second intervals\u001b[39;00m\n\u001b[1;32m     10\u001b[0m     interval_start \u001b[38;5;241m=\u001b[39m timestamp \u001b[38;5;241m-\u001b[39m (timestamp \u001b[38;5;241m%\u001b[39m \u001b[38;5;241m15000\u001b[39m)\n",
      "\u001b[0;31mValueError\u001b[0m: too many values to unpack (expected 2)"
     ]
    }
   ],
   "source": [
    "# Aggregate data into 15-second intervals\n",
    "aggregated_data = aggregate_to_15s_intervals(all_trades)\n",
    "\n",
    "# Save to CSV\n",
    "save_to_csv(aggregated_data)"
   ]
  }
 ],
 "metadata": {
  "kernelspec": {
   "display_name": "Python 3",
   "language": "python",
   "name": "python3"
  },
  "language_info": {
   "codemirror_mode": {
    "name": "ipython",
    "version": 3
   },
   "file_extension": ".py",
   "mimetype": "text/x-python",
   "name": "python",
   "nbconvert_exporter": "python",
   "pygments_lexer": "ipython3",
   "version": "3.12.7"
  }
 },
 "nbformat": 4,
 "nbformat_minor": 2
}
