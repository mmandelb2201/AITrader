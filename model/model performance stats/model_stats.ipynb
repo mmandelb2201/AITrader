{
 "cells": [
  {
   "cell_type": "code",
   "execution_count": 1,
   "metadata": {},
   "outputs": [],
   "source": [
    "import pandas as pd"
   ]
  },
  {
   "cell_type": "code",
   "execution_count": 9,
   "metadata": {},
   "outputs": [],
   "source": [
    "prices = pd.read_csv('prices.log', header=None, names=[\"Price\", \"Timestamp\"])\n",
    "predictions = pd.read_csv('predictions.log', header=None, names=[\"Price\", \"Timestamp\"])"
   ]
  },
  {
   "cell_type": "code",
   "execution_count": 20,
   "metadata": {},
   "outputs": [],
   "source": [
    "# Assuming df_real and df_pred are the two DataFrames with real and predicted prices\n",
    "prices['Timestamp'] = pd.to_datetime(prices['Timestamp']).dt.tz_convert ('EST')\n",
    "predictions['Timestamp'] = pd.to_datetime(predictions['Timestamp']).dt.tz_convert ('EST')\n",
    "\n",
    "# Sort both DataFrames by Timestamp\n",
    "prices = prices.sort_values('Timestamp')\n",
    "predictions = predictions.sort_values('Timestamp')\n",
    "\n",
    "# Perform the merge with a 2-second tolerance\n",
    "merged_df = pd.merge_asof(\n",
    "    prices,\n",
    "    predictions,\n",
    "    on='Timestamp',\n",
    "    tolerance=pd.Timedelta(seconds=2),\n",
    "    direction='nearest',  # Options: 'backward', 'forward', 'nearest'\n",
    "    suffixes=('_real', '_pred')\n",
    ")\n",
    "\n",
    "# Display the merged DataFrame\n",
    "merged_df = merged_df.dropna()"
   ]
  },
  {
   "cell_type": "code",
   "execution_count": null,
   "metadata": {},
   "outputs": [],
   "source": []
  }
 ],
 "metadata": {
  "kernelspec": {
   "display_name": "Python 3",
   "language": "python",
   "name": "python3"
  },
  "language_info": {
   "codemirror_mode": {
    "name": "ipython",
    "version": 3
   },
   "file_extension": ".py",
   "mimetype": "text/x-python",
   "name": "python",
   "nbconvert_exporter": "python",
   "pygments_lexer": "ipython3",
   "version": "3.11.2"
  }
 },
 "nbformat": 4,
 "nbformat_minor": 2
}
